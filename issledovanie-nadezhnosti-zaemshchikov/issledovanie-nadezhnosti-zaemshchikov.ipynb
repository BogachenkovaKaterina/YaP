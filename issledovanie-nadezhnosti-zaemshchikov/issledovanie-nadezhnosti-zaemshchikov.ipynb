{
 "cells": [
  {
   "cell_type": "markdown",
   "id": "c6f698e3",
   "metadata": {
    "deletable": false,
    "editable": false,
    "id": "c81daeeb"
   },
   "source": [
    "# Исследование надежности заемщиков\n"
   ]
  },
  {
   "cell_type": "markdown",
   "id": "07fe74a5",
   "metadata": {},
   "source": [
    "## Описание проекта"
   ]
  },
  {
   "cell_type": "markdown",
   "id": "b4d00ac1",
   "metadata": {},
   "source": [
    "Заказчик — кредитный отдел банка. Нужно разобраться, влияет ли семейное положение и количество детей клиента на факт погашения кредита в срок. Входные данные от банка — статистика о платёжеспособности клиентов.\n",
    "Результаты исследования будут учтены при построении модели кредитного скоринга — специальной системы, которая оценивает способность потенциального заёмщика вернуть кредит банку."
   ]
  },
  {
   "cell_type": "markdown",
   "id": "5acbf9c9",
   "metadata": {
    "deletable": false,
    "editable": false,
    "id": "827c20bf"
   },
   "source": [
    "Во второй части проекта вы выполните шаги 3 и 4. Их вручную проверит ревьюер.\n",
    "Чтобы вам не пришлось писать код заново для шагов 1 и 2, мы добавили авторские решения в ячейки с кодом. \n",
    "\n"
   ]
  },
  {
   "cell_type": "markdown",
   "id": "df7f1820",
   "metadata": {
    "deletable": false,
    "editable": false,
    "id": "744d7639"
   },
   "source": [
    "## Откройте таблицу и изучите общую информацию о данных"
   ]
  },
  {
   "cell_type": "markdown",
   "id": "9c4d25c6",
   "metadata": {
    "deletable": false,
    "editable": false,
    "id": "e7a14c31"
   },
   "source": [
    "**Задание 1. Импортируйте библиотеку pandas. Считайте данные из csv-файла в датафрейм и сохраните в переменную `data`. Путь к файлу:**\n",
    "\n",
    "`/datasets/data.csv`"
   ]
  },
  {
   "cell_type": "code",
   "execution_count": 1,
   "id": "92c295b1",
   "metadata": {
    "deletable": false,
    "id": "7bcf75c9"
   },
   "outputs": [],
   "source": [
    "import pandas as pd\n",
    "\n",
    "try:\n",
    "    data = pd.read_csv('/datasets/data.csv')\n",
    "except:\n",
    "    data = pd.read_csv('https://code.s3.yandex.net/datasets/data.csv')"
   ]
  },
  {
   "cell_type": "markdown",
   "id": "c53f3ae3",
   "metadata": {
    "deletable": false,
    "editable": false,
    "id": "b8038fe3"
   },
   "source": [
    "**Задание 2. Выведите первые 20 строчек датафрейма `data` на экран.**"
   ]
  },
  {
   "cell_type": "code",
   "execution_count": 2,
   "id": "04ec78e9",
   "metadata": {
    "deletable": false,
    "id": "2a7cab99",
    "outputId": "1a8f3ef2-d323-4ec2-ddf7-89670b5944c4"
   },
   "outputs": [
    {
     "data": {
      "text/html": [
       "<div>\n",
       "<style scoped>\n",
       "    .dataframe tbody tr th:only-of-type {\n",
       "        vertical-align: middle;\n",
       "    }\n",
       "\n",
       "    .dataframe tbody tr th {\n",
       "        vertical-align: top;\n",
       "    }\n",
       "\n",
       "    .dataframe thead th {\n",
       "        text-align: right;\n",
       "    }\n",
       "</style>\n",
       "<table border=\"1\" class=\"dataframe\">\n",
       "  <thead>\n",
       "    <tr style=\"text-align: right;\">\n",
       "      <th></th>\n",
       "      <th>children</th>\n",
       "      <th>days_employed</th>\n",
       "      <th>dob_years</th>\n",
       "      <th>education</th>\n",
       "      <th>education_id</th>\n",
       "      <th>family_status</th>\n",
       "      <th>family_status_id</th>\n",
       "      <th>gender</th>\n",
       "      <th>income_type</th>\n",
       "      <th>debt</th>\n",
       "      <th>total_income</th>\n",
       "      <th>purpose</th>\n",
       "    </tr>\n",
       "  </thead>\n",
       "  <tbody>\n",
       "    <tr>\n",
       "      <th>0</th>\n",
       "      <td>1</td>\n",
       "      <td>-8437.673028</td>\n",
       "      <td>42</td>\n",
       "      <td>высшее</td>\n",
       "      <td>0</td>\n",
       "      <td>женат / замужем</td>\n",
       "      <td>0</td>\n",
       "      <td>F</td>\n",
       "      <td>сотрудник</td>\n",
       "      <td>0</td>\n",
       "      <td>253875.639453</td>\n",
       "      <td>покупка жилья</td>\n",
       "    </tr>\n",
       "    <tr>\n",
       "      <th>1</th>\n",
       "      <td>1</td>\n",
       "      <td>-4024.803754</td>\n",
       "      <td>36</td>\n",
       "      <td>среднее</td>\n",
       "      <td>1</td>\n",
       "      <td>женат / замужем</td>\n",
       "      <td>0</td>\n",
       "      <td>F</td>\n",
       "      <td>сотрудник</td>\n",
       "      <td>0</td>\n",
       "      <td>112080.014102</td>\n",
       "      <td>приобретение автомобиля</td>\n",
       "    </tr>\n",
       "    <tr>\n",
       "      <th>2</th>\n",
       "      <td>0</td>\n",
       "      <td>-5623.422610</td>\n",
       "      <td>33</td>\n",
       "      <td>Среднее</td>\n",
       "      <td>1</td>\n",
       "      <td>женат / замужем</td>\n",
       "      <td>0</td>\n",
       "      <td>M</td>\n",
       "      <td>сотрудник</td>\n",
       "      <td>0</td>\n",
       "      <td>145885.952297</td>\n",
       "      <td>покупка жилья</td>\n",
       "    </tr>\n",
       "    <tr>\n",
       "      <th>3</th>\n",
       "      <td>3</td>\n",
       "      <td>-4124.747207</td>\n",
       "      <td>32</td>\n",
       "      <td>среднее</td>\n",
       "      <td>1</td>\n",
       "      <td>женат / замужем</td>\n",
       "      <td>0</td>\n",
       "      <td>M</td>\n",
       "      <td>сотрудник</td>\n",
       "      <td>0</td>\n",
       "      <td>267628.550329</td>\n",
       "      <td>дополнительное образование</td>\n",
       "    </tr>\n",
       "    <tr>\n",
       "      <th>4</th>\n",
       "      <td>0</td>\n",
       "      <td>340266.072047</td>\n",
       "      <td>53</td>\n",
       "      <td>среднее</td>\n",
       "      <td>1</td>\n",
       "      <td>гражданский брак</td>\n",
       "      <td>1</td>\n",
       "      <td>F</td>\n",
       "      <td>пенсионер</td>\n",
       "      <td>0</td>\n",
       "      <td>158616.077870</td>\n",
       "      <td>сыграть свадьбу</td>\n",
       "    </tr>\n",
       "    <tr>\n",
       "      <th>5</th>\n",
       "      <td>0</td>\n",
       "      <td>-926.185831</td>\n",
       "      <td>27</td>\n",
       "      <td>высшее</td>\n",
       "      <td>0</td>\n",
       "      <td>гражданский брак</td>\n",
       "      <td>1</td>\n",
       "      <td>M</td>\n",
       "      <td>компаньон</td>\n",
       "      <td>0</td>\n",
       "      <td>255763.565419</td>\n",
       "      <td>покупка жилья</td>\n",
       "    </tr>\n",
       "    <tr>\n",
       "      <th>6</th>\n",
       "      <td>0</td>\n",
       "      <td>-2879.202052</td>\n",
       "      <td>43</td>\n",
       "      <td>высшее</td>\n",
       "      <td>0</td>\n",
       "      <td>женат / замужем</td>\n",
       "      <td>0</td>\n",
       "      <td>F</td>\n",
       "      <td>компаньон</td>\n",
       "      <td>0</td>\n",
       "      <td>240525.971920</td>\n",
       "      <td>операции с жильем</td>\n",
       "    </tr>\n",
       "    <tr>\n",
       "      <th>7</th>\n",
       "      <td>0</td>\n",
       "      <td>-152.779569</td>\n",
       "      <td>50</td>\n",
       "      <td>СРЕДНЕЕ</td>\n",
       "      <td>1</td>\n",
       "      <td>женат / замужем</td>\n",
       "      <td>0</td>\n",
       "      <td>M</td>\n",
       "      <td>сотрудник</td>\n",
       "      <td>0</td>\n",
       "      <td>135823.934197</td>\n",
       "      <td>образование</td>\n",
       "    </tr>\n",
       "    <tr>\n",
       "      <th>8</th>\n",
       "      <td>2</td>\n",
       "      <td>-6929.865299</td>\n",
       "      <td>35</td>\n",
       "      <td>ВЫСШЕЕ</td>\n",
       "      <td>0</td>\n",
       "      <td>гражданский брак</td>\n",
       "      <td>1</td>\n",
       "      <td>F</td>\n",
       "      <td>сотрудник</td>\n",
       "      <td>0</td>\n",
       "      <td>95856.832424</td>\n",
       "      <td>на проведение свадьбы</td>\n",
       "    </tr>\n",
       "    <tr>\n",
       "      <th>9</th>\n",
       "      <td>0</td>\n",
       "      <td>-2188.756445</td>\n",
       "      <td>41</td>\n",
       "      <td>среднее</td>\n",
       "      <td>1</td>\n",
       "      <td>женат / замужем</td>\n",
       "      <td>0</td>\n",
       "      <td>M</td>\n",
       "      <td>сотрудник</td>\n",
       "      <td>0</td>\n",
       "      <td>144425.938277</td>\n",
       "      <td>покупка жилья для семьи</td>\n",
       "    </tr>\n",
       "    <tr>\n",
       "      <th>10</th>\n",
       "      <td>2</td>\n",
       "      <td>-4171.483647</td>\n",
       "      <td>36</td>\n",
       "      <td>высшее</td>\n",
       "      <td>0</td>\n",
       "      <td>женат / замужем</td>\n",
       "      <td>0</td>\n",
       "      <td>M</td>\n",
       "      <td>компаньон</td>\n",
       "      <td>0</td>\n",
       "      <td>113943.491460</td>\n",
       "      <td>покупка недвижимости</td>\n",
       "    </tr>\n",
       "    <tr>\n",
       "      <th>11</th>\n",
       "      <td>0</td>\n",
       "      <td>-792.701887</td>\n",
       "      <td>40</td>\n",
       "      <td>среднее</td>\n",
       "      <td>1</td>\n",
       "      <td>женат / замужем</td>\n",
       "      <td>0</td>\n",
       "      <td>F</td>\n",
       "      <td>сотрудник</td>\n",
       "      <td>0</td>\n",
       "      <td>77069.234271</td>\n",
       "      <td>покупка коммерческой недвижимости</td>\n",
       "    </tr>\n",
       "    <tr>\n",
       "      <th>12</th>\n",
       "      <td>0</td>\n",
       "      <td>NaN</td>\n",
       "      <td>65</td>\n",
       "      <td>среднее</td>\n",
       "      <td>1</td>\n",
       "      <td>гражданский брак</td>\n",
       "      <td>1</td>\n",
       "      <td>M</td>\n",
       "      <td>пенсионер</td>\n",
       "      <td>0</td>\n",
       "      <td>NaN</td>\n",
       "      <td>сыграть свадьбу</td>\n",
       "    </tr>\n",
       "    <tr>\n",
       "      <th>13</th>\n",
       "      <td>0</td>\n",
       "      <td>-1846.641941</td>\n",
       "      <td>54</td>\n",
       "      <td>неоконченное высшее</td>\n",
       "      <td>2</td>\n",
       "      <td>женат / замужем</td>\n",
       "      <td>0</td>\n",
       "      <td>F</td>\n",
       "      <td>сотрудник</td>\n",
       "      <td>0</td>\n",
       "      <td>130458.228857</td>\n",
       "      <td>приобретение автомобиля</td>\n",
       "    </tr>\n",
       "    <tr>\n",
       "      <th>14</th>\n",
       "      <td>0</td>\n",
       "      <td>-1844.956182</td>\n",
       "      <td>56</td>\n",
       "      <td>высшее</td>\n",
       "      <td>0</td>\n",
       "      <td>гражданский брак</td>\n",
       "      <td>1</td>\n",
       "      <td>F</td>\n",
       "      <td>компаньон</td>\n",
       "      <td>1</td>\n",
       "      <td>165127.911772</td>\n",
       "      <td>покупка жилой недвижимости</td>\n",
       "    </tr>\n",
       "    <tr>\n",
       "      <th>15</th>\n",
       "      <td>1</td>\n",
       "      <td>-972.364419</td>\n",
       "      <td>26</td>\n",
       "      <td>среднее</td>\n",
       "      <td>1</td>\n",
       "      <td>женат / замужем</td>\n",
       "      <td>0</td>\n",
       "      <td>F</td>\n",
       "      <td>сотрудник</td>\n",
       "      <td>0</td>\n",
       "      <td>116820.904450</td>\n",
       "      <td>строительство собственной недвижимости</td>\n",
       "    </tr>\n",
       "    <tr>\n",
       "      <th>16</th>\n",
       "      <td>0</td>\n",
       "      <td>-1719.934226</td>\n",
       "      <td>35</td>\n",
       "      <td>среднее</td>\n",
       "      <td>1</td>\n",
       "      <td>женат / замужем</td>\n",
       "      <td>0</td>\n",
       "      <td>F</td>\n",
       "      <td>сотрудник</td>\n",
       "      <td>0</td>\n",
       "      <td>289202.704229</td>\n",
       "      <td>недвижимость</td>\n",
       "    </tr>\n",
       "    <tr>\n",
       "      <th>17</th>\n",
       "      <td>0</td>\n",
       "      <td>-2369.999720</td>\n",
       "      <td>33</td>\n",
       "      <td>высшее</td>\n",
       "      <td>0</td>\n",
       "      <td>гражданский брак</td>\n",
       "      <td>1</td>\n",
       "      <td>M</td>\n",
       "      <td>сотрудник</td>\n",
       "      <td>0</td>\n",
       "      <td>90410.586745</td>\n",
       "      <td>строительство недвижимости</td>\n",
       "    </tr>\n",
       "    <tr>\n",
       "      <th>18</th>\n",
       "      <td>0</td>\n",
       "      <td>400281.136913</td>\n",
       "      <td>53</td>\n",
       "      <td>среднее</td>\n",
       "      <td>1</td>\n",
       "      <td>вдовец / вдова</td>\n",
       "      <td>2</td>\n",
       "      <td>F</td>\n",
       "      <td>пенсионер</td>\n",
       "      <td>0</td>\n",
       "      <td>56823.777243</td>\n",
       "      <td>на покупку подержанного автомобиля</td>\n",
       "    </tr>\n",
       "    <tr>\n",
       "      <th>19</th>\n",
       "      <td>0</td>\n",
       "      <td>-10038.818549</td>\n",
       "      <td>48</td>\n",
       "      <td>СРЕДНЕЕ</td>\n",
       "      <td>1</td>\n",
       "      <td>в разводе</td>\n",
       "      <td>3</td>\n",
       "      <td>F</td>\n",
       "      <td>сотрудник</td>\n",
       "      <td>0</td>\n",
       "      <td>242831.107982</td>\n",
       "      <td>на покупку своего автомобиля</td>\n",
       "    </tr>\n",
       "  </tbody>\n",
       "</table>\n",
       "</div>"
      ],
      "text/plain": [
       "    children  days_employed  dob_years            education  education_id  \\\n",
       "0          1   -8437.673028         42               высшее             0   \n",
       "1          1   -4024.803754         36              среднее             1   \n",
       "2          0   -5623.422610         33              Среднее             1   \n",
       "3          3   -4124.747207         32              среднее             1   \n",
       "4          0  340266.072047         53              среднее             1   \n",
       "5          0    -926.185831         27               высшее             0   \n",
       "6          0   -2879.202052         43               высшее             0   \n",
       "7          0    -152.779569         50              СРЕДНЕЕ             1   \n",
       "8          2   -6929.865299         35               ВЫСШЕЕ             0   \n",
       "9          0   -2188.756445         41              среднее             1   \n",
       "10         2   -4171.483647         36               высшее             0   \n",
       "11         0    -792.701887         40              среднее             1   \n",
       "12         0            NaN         65              среднее             1   \n",
       "13         0   -1846.641941         54  неоконченное высшее             2   \n",
       "14         0   -1844.956182         56               высшее             0   \n",
       "15         1    -972.364419         26              среднее             1   \n",
       "16         0   -1719.934226         35              среднее             1   \n",
       "17         0   -2369.999720         33               высшее             0   \n",
       "18         0  400281.136913         53              среднее             1   \n",
       "19         0  -10038.818549         48              СРЕДНЕЕ             1   \n",
       "\n",
       "       family_status  family_status_id gender income_type  debt  \\\n",
       "0    женат / замужем                 0      F   сотрудник     0   \n",
       "1    женат / замужем                 0      F   сотрудник     0   \n",
       "2    женат / замужем                 0      M   сотрудник     0   \n",
       "3    женат / замужем                 0      M   сотрудник     0   \n",
       "4   гражданский брак                 1      F   пенсионер     0   \n",
       "5   гражданский брак                 1      M   компаньон     0   \n",
       "6    женат / замужем                 0      F   компаньон     0   \n",
       "7    женат / замужем                 0      M   сотрудник     0   \n",
       "8   гражданский брак                 1      F   сотрудник     0   \n",
       "9    женат / замужем                 0      M   сотрудник     0   \n",
       "10   женат / замужем                 0      M   компаньон     0   \n",
       "11   женат / замужем                 0      F   сотрудник     0   \n",
       "12  гражданский брак                 1      M   пенсионер     0   \n",
       "13   женат / замужем                 0      F   сотрудник     0   \n",
       "14  гражданский брак                 1      F   компаньон     1   \n",
       "15   женат / замужем                 0      F   сотрудник     0   \n",
       "16   женат / замужем                 0      F   сотрудник     0   \n",
       "17  гражданский брак                 1      M   сотрудник     0   \n",
       "18    вдовец / вдова                 2      F   пенсионер     0   \n",
       "19         в разводе                 3      F   сотрудник     0   \n",
       "\n",
       "     total_income                                 purpose  \n",
       "0   253875.639453                           покупка жилья  \n",
       "1   112080.014102                 приобретение автомобиля  \n",
       "2   145885.952297                           покупка жилья  \n",
       "3   267628.550329              дополнительное образование  \n",
       "4   158616.077870                         сыграть свадьбу  \n",
       "5   255763.565419                           покупка жилья  \n",
       "6   240525.971920                       операции с жильем  \n",
       "7   135823.934197                             образование  \n",
       "8    95856.832424                   на проведение свадьбы  \n",
       "9   144425.938277                 покупка жилья для семьи  \n",
       "10  113943.491460                    покупка недвижимости  \n",
       "11   77069.234271       покупка коммерческой недвижимости  \n",
       "12            NaN                         сыграть свадьбу  \n",
       "13  130458.228857                 приобретение автомобиля  \n",
       "14  165127.911772              покупка жилой недвижимости  \n",
       "15  116820.904450  строительство собственной недвижимости  \n",
       "16  289202.704229                            недвижимость  \n",
       "17   90410.586745              строительство недвижимости  \n",
       "18   56823.777243      на покупку подержанного автомобиля  \n",
       "19  242831.107982            на покупку своего автомобиля  "
      ]
     },
     "execution_count": 2,
     "metadata": {},
     "output_type": "execute_result"
    }
   ],
   "source": [
    "data.head(20)\n"
   ]
  },
  {
   "cell_type": "markdown",
   "id": "bc1344f3",
   "metadata": {
    "deletable": false,
    "editable": false,
    "id": "1c12e233"
   },
   "source": [
    "**Задание 3. Выведите основную информацию о датафрейме с помощью метода `info()`.**"
   ]
  },
  {
   "cell_type": "code",
   "execution_count": 3,
   "id": "ba43dc7e",
   "metadata": {
    "deletable": false,
    "id": "2b757bca",
    "outputId": "15376089-8dad-46c9-b520-c05248d43158"
   },
   "outputs": [
    {
     "name": "stdout",
     "output_type": "stream",
     "text": [
      "<class 'pandas.core.frame.DataFrame'>\n",
      "RangeIndex: 21525 entries, 0 to 21524\n",
      "Data columns (total 12 columns):\n",
      " #   Column            Non-Null Count  Dtype  \n",
      "---  ------            --------------  -----  \n",
      " 0   children          21525 non-null  int64  \n",
      " 1   days_employed     19351 non-null  float64\n",
      " 2   dob_years         21525 non-null  int64  \n",
      " 3   education         21525 non-null  object \n",
      " 4   education_id      21525 non-null  int64  \n",
      " 5   family_status     21525 non-null  object \n",
      " 6   family_status_id  21525 non-null  int64  \n",
      " 7   gender            21525 non-null  object \n",
      " 8   income_type       21525 non-null  object \n",
      " 9   debt              21525 non-null  int64  \n",
      " 10  total_income      19351 non-null  float64\n",
      " 11  purpose           21525 non-null  object \n",
      "dtypes: float64(2), int64(5), object(5)\n",
      "memory usage: 2.0+ MB\n"
     ]
    }
   ],
   "source": [
    "data.info()"
   ]
  },
  {
   "cell_type": "markdown",
   "id": "737b05fe",
   "metadata": {
    "deletable": false,
    "editable": false,
    "id": "333ec665"
   },
   "source": [
    "## Предобработка данных"
   ]
  },
  {
   "cell_type": "markdown",
   "id": "0ff5091b",
   "metadata": {
    "deletable": false,
    "editable": false,
    "id": "02d92d53"
   },
   "source": [
    "### Удаление пропусков"
   ]
  },
  {
   "cell_type": "markdown",
   "id": "55f1f730",
   "metadata": {
    "deletable": false,
    "editable": false,
    "id": "cd84967c"
   },
   "source": [
    "**Задание 4. Выведите количество пропущенных значений для каждого столбца. Используйте комбинацию двух методов.**"
   ]
  },
  {
   "cell_type": "code",
   "execution_count": 4,
   "id": "882b449e",
   "metadata": {
    "deletable": false,
    "id": "7f9b2309",
    "outputId": "81f4d817-781c-465c-ed15-91ce4446810d"
   },
   "outputs": [
    {
     "data": {
      "text/plain": [
       "children               0\n",
       "days_employed       2174\n",
       "dob_years              0\n",
       "education              0\n",
       "education_id           0\n",
       "family_status          0\n",
       "family_status_id       0\n",
       "gender                 0\n",
       "income_type            0\n",
       "debt                   0\n",
       "total_income        2174\n",
       "purpose                0\n",
       "dtype: int64"
      ]
     },
     "execution_count": 4,
     "metadata": {},
     "output_type": "execute_result"
    }
   ],
   "source": [
    "data.isna().sum()"
   ]
  },
  {
   "cell_type": "markdown",
   "id": "7e984922",
   "metadata": {
    "deletable": false,
    "editable": false,
    "id": "db86e27b"
   },
   "source": [
    "**Задание 5. В двух столбцах есть пропущенные значения. Один из них — `days_employed`. Пропуски в этом столбце вы обработаете на следующем этапе. Другой столбец с пропущенными значениями — `total_income` — хранит данные о доходах. На сумму дохода сильнее всего влияет тип занятости, поэтому заполнить пропуски в этом столбце нужно медианным значением по каждому типу из столбца `income_type`. Например, у человека с типом занятости `сотрудник` пропуск в столбце `total_income` должен быть заполнен медианным доходом среди всех записей с тем же типом.**"
   ]
  },
  {
   "cell_type": "code",
   "execution_count": 5,
   "id": "a480e8b0",
   "metadata": {
    "deletable": false,
    "id": "42006a93"
   },
   "outputs": [],
   "source": [
    "for t in data['income_type'].unique():\n",
    "    data.loc[(data['income_type'] == t) & (data['total_income'].isna()), 'total_income'] = \\\n",
    "    data.loc[(data['income_type'] == t), 'total_income'].median()"
   ]
  },
  {
   "cell_type": "markdown",
   "id": "64947829",
   "metadata": {
    "deletable": false,
    "editable": false,
    "id": "89da5ece"
   },
   "source": [
    "### Обработка аномальных значений"
   ]
  },
  {
   "cell_type": "markdown",
   "id": "4fb4085b",
   "metadata": {
    "deletable": false,
    "editable": false,
    "id": "57964554"
   },
   "source": [
    "**Задание 6. В данных могут встречаться артефакты (аномалии) — значения, которые не отражают действительность и появились по какой-то ошибке. таким артефактом будет отрицательное количество дней трудового стажа в столбце `days_employed`. Для реальных данных это нормально. Обработайте значения в этом столбце: замените все отрицательные значения положительными с помощью метода `abs()`.**"
   ]
  },
  {
   "cell_type": "code",
   "execution_count": 6,
   "id": "a1a548ce",
   "metadata": {
    "deletable": false,
    "id": "f6f055bf"
   },
   "outputs": [],
   "source": [
    "data['days_employed'] = data['days_employed'].abs()"
   ]
  },
  {
   "cell_type": "markdown",
   "id": "a512c5f8",
   "metadata": {
    "deletable": false,
    "editable": false,
    "id": "6107dd2f"
   },
   "source": [
    "**Задание 7. Для каждого типа занятости выведите медианное значение трудового стажа `days_employed` в днях.**"
   ]
  },
  {
   "cell_type": "code",
   "execution_count": 7,
   "id": "ec4daeed",
   "metadata": {
    "deletable": false,
    "id": "85a5faf6",
    "outputId": "801ef80e-522b-4668-f34e-565af7432bcf"
   },
   "outputs": [
    {
     "data": {
      "text/plain": [
       "income_type\n",
       "безработный        366413.652744\n",
       "в декрете            3296.759962\n",
       "госслужащий          2689.368353\n",
       "компаньон            1547.382223\n",
       "пенсионер          365213.306266\n",
       "предприниматель       520.848083\n",
       "сотрудник            1574.202821\n",
       "студент               578.751554\n",
       "Name: days_employed, dtype: float64"
      ]
     },
     "execution_count": 7,
     "metadata": {},
     "output_type": "execute_result"
    }
   ],
   "source": [
    "data.groupby('income_type')['days_employed'].agg('median')"
   ]
  },
  {
   "cell_type": "markdown",
   "id": "927075f0",
   "metadata": {
    "deletable": false,
    "editable": false,
    "id": "38d1a030"
   },
   "source": [
    "У двух типов (безработные и пенсионеры) получатся аномально большие значения. Исправить такие значения сложно, поэтому оставьте их как есть. Тем более этот столбец не понадобится вам для исследования."
   ]
  },
  {
   "cell_type": "markdown",
   "id": "61ba41a8",
   "metadata": {
    "deletable": false,
    "editable": false,
    "id": "d8a9f147"
   },
   "source": [
    "**Задание 8. Выведите перечень уникальных значений столбца `children`.**"
   ]
  },
  {
   "cell_type": "code",
   "execution_count": 8,
   "id": "4343b5e0",
   "metadata": {
    "deletable": false,
    "id": "ef5056eb",
    "outputId": "6975b15c-7f95-4697-d16d-a0c79b657b03"
   },
   "outputs": [
    {
     "data": {
      "text/plain": [
       "array([ 1,  0,  3,  2, -1,  4, 20,  5], dtype=int64)"
      ]
     },
     "execution_count": 8,
     "metadata": {},
     "output_type": "execute_result"
    }
   ],
   "source": [
    "data['children'].unique()"
   ]
  },
  {
   "cell_type": "markdown",
   "id": "b2f59ff0",
   "metadata": {
    "deletable": false,
    "editable": false,
    "id": "40b9ebf2"
   },
   "source": [
    "**Задание 9. В столбце `children` есть два аномальных значения. Удалите строки, в которых встречаются такие аномальные значения из датафрейма `data`.**"
   ]
  },
  {
   "cell_type": "code",
   "execution_count": 9,
   "id": "9623f229",
   "metadata": {
    "deletable": false,
    "id": "3ff9801d"
   },
   "outputs": [],
   "source": [
    "data = data[(data['children'] != -1) & (data['children'] != 20)]"
   ]
  },
  {
   "cell_type": "markdown",
   "id": "8865c924",
   "metadata": {
    "deletable": false,
    "editable": false,
    "id": "bbc4d0ce"
   },
   "source": [
    "**Задание 10. Ещё раз выведите перечень уникальных значений столбца `children`, чтобы убедиться, что артефакты удалены.**"
   ]
  },
  {
   "cell_type": "code",
   "execution_count": 10,
   "id": "e17c3e1b",
   "metadata": {
    "deletable": false,
    "id": "ad4fa8b7",
    "outputId": "b2097101-d49d-44d9-901b-32a65c9463d1"
   },
   "outputs": [
    {
     "data": {
      "text/plain": [
       "array([1, 0, 3, 2, 4, 5], dtype=int64)"
      ]
     },
     "execution_count": 10,
     "metadata": {},
     "output_type": "execute_result"
    }
   ],
   "source": [
    "data['children'].unique()"
   ]
  },
  {
   "cell_type": "markdown",
   "id": "001cec3e",
   "metadata": {
    "deletable": false,
    "editable": false,
    "id": "75440b63"
   },
   "source": [
    "### Удаление пропусков (продолжение)"
   ]
  },
  {
   "cell_type": "markdown",
   "id": "d3663c3d",
   "metadata": {
    "deletable": false,
    "editable": false,
    "id": "f4ea573f"
   },
   "source": [
    "**Задание 11. Заполните пропуски в столбце `days_employed` медианными значениями по каждого типа занятости `income_type`.**"
   ]
  },
  {
   "cell_type": "code",
   "execution_count": 11,
   "id": "de09cf4d",
   "metadata": {
    "deletable": false,
    "id": "af6b1a7e"
   },
   "outputs": [],
   "source": [
    "for t in data['income_type'].unique():\n",
    "    data.loc[(data['income_type'] == t) & (data['days_employed'].isna()), 'days_employed'] = \\\n",
    "    data.loc[(data['income_type'] == t), 'days_employed'].median()"
   ]
  },
  {
   "cell_type": "markdown",
   "id": "0cb6e14a",
   "metadata": {
    "deletable": false,
    "editable": false,
    "id": "2753f40d"
   },
   "source": [
    "**Задание 12. Убедитесь, что все пропуски заполнены. Проверьте себя и ещё раз выведите количество пропущенных значений для каждого столбца с помощью двух методов.**"
   ]
  },
  {
   "cell_type": "code",
   "execution_count": 12,
   "id": "b734a4d3",
   "metadata": {
    "deletable": false,
    "id": "55f78bc2",
    "outputId": "8da1e4e1-358e-4e87-98c9-f261bce0a7b2"
   },
   "outputs": [
    {
     "data": {
      "text/plain": [
       "children            0\n",
       "days_employed       0\n",
       "dob_years           0\n",
       "education           0\n",
       "education_id        0\n",
       "family_status       0\n",
       "family_status_id    0\n",
       "gender              0\n",
       "income_type         0\n",
       "debt                0\n",
       "total_income        0\n",
       "purpose             0\n",
       "dtype: int64"
      ]
     },
     "execution_count": 12,
     "metadata": {},
     "output_type": "execute_result"
    }
   ],
   "source": [
    "data.isna().sum()"
   ]
  },
  {
   "cell_type": "markdown",
   "id": "aeb95327",
   "metadata": {
    "deletable": false,
    "editable": false,
    "id": "ddc81e43"
   },
   "source": [
    "### Изменение типов данных"
   ]
  },
  {
   "cell_type": "markdown",
   "id": "d40963d9",
   "metadata": {
    "deletable": false,
    "editable": false,
    "id": "42d19d24"
   },
   "source": [
    "**Задание 13. Замените вещественный тип данных в столбце `total_income` на целочисленный с помощью метода `astype()`.**"
   ]
  },
  {
   "cell_type": "code",
   "execution_count": 13,
   "id": "f624d161",
   "metadata": {
    "deletable": false,
    "id": "920b65ad"
   },
   "outputs": [],
   "source": [
    "data['total_income'] = data['total_income'].astype(int)"
   ]
  },
  {
   "cell_type": "markdown",
   "id": "d0cf7eb9",
   "metadata": {
    "deletable": false,
    "editable": false,
    "id": "80c420ba"
   },
   "source": [
    "### Обработка дубликатов"
   ]
  },
  {
   "cell_type": "markdown",
   "id": "23651ce0",
   "metadata": {
    "deletable": false,
    "editable": false
   },
   "source": [
    "**Задание 14. Обработайте неявные дубликаты в столбце `education`. В этом столбце есть одни и те же значения, но записанные по-разному: с использованием заглавных и строчных букв. Приведите их к нижнему регистру. Проверьте остальные столбцы.**"
   ]
  },
  {
   "cell_type": "code",
   "execution_count": 14,
   "id": "57003024",
   "metadata": {
    "deletable": false
   },
   "outputs": [],
   "source": [
    "data['education'] = data['education'].str.lower()"
   ]
  },
  {
   "cell_type": "markdown",
   "id": "98db1cce",
   "metadata": {
    "deletable": false,
    "editable": false,
    "id": "dc587695"
   },
   "source": [
    "**Задание 15. Выведите на экран количество строк-дубликатов в данных. Если такие строки присутствуют, удалите их.**"
   ]
  },
  {
   "cell_type": "code",
   "execution_count": 15,
   "id": "27ae534f",
   "metadata": {
    "deletable": false,
    "id": "3ee445e4",
    "outputId": "9684deba-1934-42d1-99e1-cda61740f822"
   },
   "outputs": [
    {
     "data": {
      "text/plain": [
       "71"
      ]
     },
     "execution_count": 15,
     "metadata": {},
     "output_type": "execute_result"
    }
   ],
   "source": [
    "data.duplicated().sum()"
   ]
  },
  {
   "cell_type": "code",
   "execution_count": 16,
   "id": "0bae8109",
   "metadata": {
    "deletable": false,
    "id": "8575fe05"
   },
   "outputs": [],
   "source": [
    "data = data.drop_duplicates()"
   ]
  },
  {
   "cell_type": "markdown",
   "id": "b4a5c78e",
   "metadata": {
    "deletable": false,
    "editable": false,
    "id": "9904cf55"
   },
   "source": [
    "### Категоризация данных"
   ]
  },
  {
   "cell_type": "markdown",
   "id": "9bc6bb2d",
   "metadata": {
    "deletable": false,
    "editable": false,
    "id": "72fcc8a2"
   },
   "source": [
    "**Задание 16. На основании диапазонов, указанных ниже, создайте в датафрейме `data` столбец `total_income_category` с категориями:**\n",
    "\n",
    "- 0–30000 — `'E'`;\n",
    "- 30001–50000 — `'D'`;\n",
    "- 50001–200000 — `'C'`;\n",
    "- 200001–1000000 — `'B'`;\n",
    "- 1000001 и выше — `'A'`.\n",
    "\n",
    "\n",
    "**Например, кредитополучателю с доходом 25000 нужно назначить категорию `'E'`, а клиенту, получающему 235000, — `'B'`. Используйте собственную функцию с именем `categorize_income()` и метод `apply()`.**"
   ]
  },
  {
   "cell_type": "code",
   "execution_count": 17,
   "id": "c9f61aef",
   "metadata": {
    "deletable": false,
    "id": "e1771346"
   },
   "outputs": [],
   "source": [
    "def categorize_income(income):\n",
    "    try:\n",
    "        if 0 <= income <= 30000:\n",
    "            return 'E'\n",
    "        elif 30001 <= income <= 50000:\n",
    "            return 'D'\n",
    "        elif 50001 <= income <= 200000:\n",
    "            return 'C'\n",
    "        elif 200001 <= income <= 1000000:\n",
    "            return 'B'\n",
    "        elif income >= 1000001:\n",
    "            return 'A'\n",
    "    except:\n",
    "        pass"
   ]
  },
  {
   "cell_type": "code",
   "execution_count": 18,
   "id": "c1f32564",
   "metadata": {
    "deletable": false,
    "id": "d5f3586d"
   },
   "outputs": [],
   "source": [
    "data['total_income_category'] = data['total_income'].apply(categorize_income)"
   ]
  },
  {
   "cell_type": "markdown",
   "id": "5c7a650c",
   "metadata": {
    "deletable": false,
    "editable": false,
    "id": "dde49b5c"
   },
   "source": [
    "**Задание 17. Выведите на экран перечень уникальных целей взятия кредита из столбца `purpose`.**"
   ]
  },
  {
   "cell_type": "code",
   "execution_count": 19,
   "id": "bad78ac1",
   "metadata": {
    "deletable": false,
    "id": "f67ce9b3",
    "outputId": "673c12d9-7d7e-4ae0-9812-c622c89dd244"
   },
   "outputs": [
    {
     "data": {
      "text/plain": [
       "array(['покупка жилья', 'приобретение автомобиля',\n",
       "       'дополнительное образование', 'сыграть свадьбу',\n",
       "       'операции с жильем', 'образование', 'на проведение свадьбы',\n",
       "       'покупка жилья для семьи', 'покупка недвижимости',\n",
       "       'покупка коммерческой недвижимости', 'покупка жилой недвижимости',\n",
       "       'строительство собственной недвижимости', 'недвижимость',\n",
       "       'строительство недвижимости', 'на покупку подержанного автомобиля',\n",
       "       'на покупку своего автомобиля',\n",
       "       'операции с коммерческой недвижимостью',\n",
       "       'строительство жилой недвижимости', 'жилье',\n",
       "       'операции со своей недвижимостью', 'автомобили',\n",
       "       'заняться образованием', 'сделка с подержанным автомобилем',\n",
       "       'получение образования', 'автомобиль', 'свадьба',\n",
       "       'получение дополнительного образования', 'покупка своего жилья',\n",
       "       'операции с недвижимостью', 'получение высшего образования',\n",
       "       'свой автомобиль', 'сделка с автомобилем',\n",
       "       'профильное образование', 'высшее образование',\n",
       "       'покупка жилья для сдачи', 'на покупку автомобиля', 'ремонт жилью',\n",
       "       'заняться высшим образованием'], dtype=object)"
      ]
     },
     "execution_count": 19,
     "metadata": {},
     "output_type": "execute_result"
    }
   ],
   "source": [
    "data['purpose'].unique()"
   ]
  },
  {
   "cell_type": "markdown",
   "id": "5591794b",
   "metadata": {
    "deletable": false,
    "editable": false,
    "id": "85d0aef0"
   },
   "source": [
    "**Задание 18. Создайте функцию, которая на основании данных из столбца `purpose` сформирует новый столбец `purpose_category`, в который войдут следующие категории:**\n",
    "\n",
    "- `'операции с автомобилем'`,\n",
    "- `'операции с недвижимостью'`,\n",
    "- `'проведение свадьбы'`,\n",
    "- `'получение образования'`.\n",
    "\n",
    "**Например, если в столбце `purpose` находится подстрока `'на покупку автомобиля'`, то в столбце `purpose_category` должна появиться строка `'операции с автомобилем'`.**\n",
    "\n",
    "**Используйте собственную функцию с именем `categorize_purpose()` и метод `apply()`. Изучите данные в столбце `purpose` и определите, какие подстроки помогут вам правильно определить категорию.**"
   ]
  },
  {
   "cell_type": "code",
   "execution_count": 20,
   "id": "74c485f6",
   "metadata": {
    "deletable": false,
    "id": "e149fab4"
   },
   "outputs": [],
   "source": [
    "def categorize_purpose(row):\n",
    "    try:\n",
    "        if 'автом' in row:\n",
    "            return 'операции с автомобилем'\n",
    "        elif 'жил' in row or 'недвиж' in row:\n",
    "            return 'операции с недвижимостью'\n",
    "        elif 'свад' in row:\n",
    "            return 'проведение свадьбы'\n",
    "        elif 'образов' in row:\n",
    "            return 'получение образования'\n",
    "    except:\n",
    "        return 'нет категории'"
   ]
  },
  {
   "cell_type": "code",
   "execution_count": 21,
   "id": "6134ed5b",
   "metadata": {
    "deletable": false,
    "id": "bf36e69b"
   },
   "outputs": [],
   "source": [
    "data['purpose_category'] = data['purpose'].apply(categorize_purpose)"
   ]
  },
  {
   "cell_type": "markdown",
   "id": "9b347edf",
   "metadata": {
    "deletable": false,
    "editable": false,
    "id": "09b242bf"
   },
   "source": [
    "### Шаг 3. Исследуйте данные и ответьте на вопросы"
   ]
  },
  {
   "cell_type": "markdown",
   "id": "5b7be417",
   "metadata": {
    "deletable": false,
    "editable": false,
    "id": "c5d66278"
   },
   "source": [
    "#### 3.1 Есть ли зависимость между количеством детей и возвратом кредита в срок?"
   ]
  },
  {
   "cell_type": "markdown",
   "id": "ce82f21d",
   "metadata": {},
   "source": [
    "Сначала посчитаем сколько всего получено кредитов людьми с разным количеством детей. Сохраним результаты в переменной `children_grouped`:"
   ]
  },
  {
   "cell_type": "code",
   "execution_count": 22,
   "id": "76f346e1",
   "metadata": {},
   "outputs": [
    {
     "data": {
      "text/html": [
       "<div>\n",
       "<style scoped>\n",
       "    .dataframe tbody tr th:only-of-type {\n",
       "        vertical-align: middle;\n",
       "    }\n",
       "\n",
       "    .dataframe tbody tr th {\n",
       "        vertical-align: top;\n",
       "    }\n",
       "\n",
       "    .dataframe thead th {\n",
       "        text-align: right;\n",
       "    }\n",
       "</style>\n",
       "<table border=\"1\" class=\"dataframe\">\n",
       "  <thead>\n",
       "    <tr style=\"text-align: right;\">\n",
       "      <th></th>\n",
       "      <th>index</th>\n",
       "      <th>children</th>\n",
       "    </tr>\n",
       "  </thead>\n",
       "  <tbody>\n",
       "    <tr>\n",
       "      <th>0</th>\n",
       "      <td>0</td>\n",
       "      <td>14091</td>\n",
       "    </tr>\n",
       "    <tr>\n",
       "      <th>1</th>\n",
       "      <td>1</td>\n",
       "      <td>4808</td>\n",
       "    </tr>\n",
       "    <tr>\n",
       "      <th>2</th>\n",
       "      <td>2</td>\n",
       "      <td>2052</td>\n",
       "    </tr>\n",
       "    <tr>\n",
       "      <th>3</th>\n",
       "      <td>3</td>\n",
       "      <td>330</td>\n",
       "    </tr>\n",
       "    <tr>\n",
       "      <th>4</th>\n",
       "      <td>4</td>\n",
       "      <td>41</td>\n",
       "    </tr>\n",
       "    <tr>\n",
       "      <th>5</th>\n",
       "      <td>5</td>\n",
       "      <td>9</td>\n",
       "    </tr>\n",
       "  </tbody>\n",
       "</table>\n",
       "</div>"
      ],
      "text/plain": [
       "   index  children\n",
       "0      0     14091\n",
       "1      1      4808\n",
       "2      2      2052\n",
       "3      3       330\n",
       "4      4        41\n",
       "5      5         9"
      ]
     },
     "execution_count": 22,
     "metadata": {},
     "output_type": "execute_result"
    }
   ],
   "source": [
    "children_grouped=data['children'].value_counts()\n",
    "children_grouped.reset_index()"
   ]
  },
  {
   "cell_type": "markdown",
   "id": "f254fab3",
   "metadata": {},
   "source": [
    "Теперь посчитаем сколько было невозвратов у клиентов с разным количеством детей. Сохраним результаты в переменной `children_debt_grouped`:"
   ]
  },
  {
   "cell_type": "code",
   "execution_count": 23,
   "id": "7803b5cd",
   "metadata": {},
   "outputs": [
    {
     "data": {
      "text/html": [
       "<div>\n",
       "<style scoped>\n",
       "    .dataframe tbody tr th:only-of-type {\n",
       "        vertical-align: middle;\n",
       "    }\n",
       "\n",
       "    .dataframe tbody tr th {\n",
       "        vertical-align: top;\n",
       "    }\n",
       "\n",
       "    .dataframe thead th {\n",
       "        text-align: right;\n",
       "    }\n",
       "</style>\n",
       "<table border=\"1\" class=\"dataframe\">\n",
       "  <thead>\n",
       "    <tr style=\"text-align: right;\">\n",
       "      <th></th>\n",
       "      <th>children</th>\n",
       "      <th>debt</th>\n",
       "    </tr>\n",
       "  </thead>\n",
       "  <tbody>\n",
       "    <tr>\n",
       "      <th>0</th>\n",
       "      <td>0</td>\n",
       "      <td>1063</td>\n",
       "    </tr>\n",
       "    <tr>\n",
       "      <th>1</th>\n",
       "      <td>1</td>\n",
       "      <td>444</td>\n",
       "    </tr>\n",
       "    <tr>\n",
       "      <th>2</th>\n",
       "      <td>2</td>\n",
       "      <td>194</td>\n",
       "    </tr>\n",
       "    <tr>\n",
       "      <th>3</th>\n",
       "      <td>3</td>\n",
       "      <td>27</td>\n",
       "    </tr>\n",
       "    <tr>\n",
       "      <th>4</th>\n",
       "      <td>4</td>\n",
       "      <td>4</td>\n",
       "    </tr>\n",
       "    <tr>\n",
       "      <th>5</th>\n",
       "      <td>5</td>\n",
       "      <td>0</td>\n",
       "    </tr>\n",
       "  </tbody>\n",
       "</table>\n",
       "</div>"
      ],
      "text/plain": [
       "   children  debt\n",
       "0         0  1063\n",
       "1         1   444\n",
       "2         2   194\n",
       "3         3    27\n",
       "4         4     4\n",
       "5         5     0"
      ]
     },
     "execution_count": 23,
     "metadata": {},
     "output_type": "execute_result"
    }
   ],
   "source": [
    "children_debt_grouped=data.groupby('children')['debt'].sum()\n",
    "children_debt_grouped.reset_index()"
   ]
  },
  {
   "cell_type": "markdown",
   "id": "da24d51c",
   "metadata": {},
   "source": [
    "Найдем относительную величину невозвратов `children_debt_otn` для клиентов с разным количеством детей:"
   ]
  },
  {
   "cell_type": "code",
   "execution_count": 24,
   "id": "0a87d977",
   "metadata": {},
   "outputs": [
    {
     "data": {
      "text/html": [
       "<div>\n",
       "<style scoped>\n",
       "    .dataframe tbody tr th:only-of-type {\n",
       "        vertical-align: middle;\n",
       "    }\n",
       "\n",
       "    .dataframe tbody tr th {\n",
       "        vertical-align: top;\n",
       "    }\n",
       "\n",
       "    .dataframe thead th {\n",
       "        text-align: right;\n",
       "    }\n",
       "</style>\n",
       "<table border=\"1\" class=\"dataframe\">\n",
       "  <thead>\n",
       "    <tr style=\"text-align: right;\">\n",
       "      <th></th>\n",
       "      <th>children</th>\n",
       "      <th>0</th>\n",
       "    </tr>\n",
       "  </thead>\n",
       "  <tbody>\n",
       "    <tr>\n",
       "      <th>0</th>\n",
       "      <td>0</td>\n",
       "      <td>0.075438</td>\n",
       "    </tr>\n",
       "    <tr>\n",
       "      <th>1</th>\n",
       "      <td>1</td>\n",
       "      <td>0.092346</td>\n",
       "    </tr>\n",
       "    <tr>\n",
       "      <th>2</th>\n",
       "      <td>2</td>\n",
       "      <td>0.094542</td>\n",
       "    </tr>\n",
       "    <tr>\n",
       "      <th>3</th>\n",
       "      <td>3</td>\n",
       "      <td>0.081818</td>\n",
       "    </tr>\n",
       "    <tr>\n",
       "      <th>4</th>\n",
       "      <td>4</td>\n",
       "      <td>0.097561</td>\n",
       "    </tr>\n",
       "    <tr>\n",
       "      <th>5</th>\n",
       "      <td>5</td>\n",
       "      <td>0.000000</td>\n",
       "    </tr>\n",
       "  </tbody>\n",
       "</table>\n",
       "</div>"
      ],
      "text/plain": [
       "   children         0\n",
       "0         0  0.075438\n",
       "1         1  0.092346\n",
       "2         2  0.094542\n",
       "3         3  0.081818\n",
       "4         4  0.097561\n",
       "5         5  0.000000"
      ]
     },
     "execution_count": 24,
     "metadata": {},
     "output_type": "execute_result"
    }
   ],
   "source": [
    "children_debt_otn=children_debt_grouped/children_grouped\n",
    "children_debt_otn.reset_index()"
   ]
  },
  {
   "cell_type": "markdown",
   "id": "011b2762",
   "metadata": {},
   "source": [
    "Аналогично через сводную таблицу:"
   ]
  },
  {
   "cell_type": "code",
   "execution_count": 25,
   "id": "928a6498",
   "metadata": {},
   "outputs": [
    {
     "data": {
      "text/html": [
       "<div>\n",
       "<style scoped>\n",
       "    .dataframe tbody tr th:only-of-type {\n",
       "        vertical-align: middle;\n",
       "    }\n",
       "\n",
       "    .dataframe tbody tr th {\n",
       "        vertical-align: top;\n",
       "    }\n",
       "\n",
       "    .dataframe thead th {\n",
       "        text-align: right;\n",
       "    }\n",
       "</style>\n",
       "<table border=\"1\" class=\"dataframe\">\n",
       "  <thead>\n",
       "    <tr style=\"text-align: right;\">\n",
       "      <th></th>\n",
       "      <th>children</th>\n",
       "      <th>debt</th>\n",
       "    </tr>\n",
       "  </thead>\n",
       "  <tbody>\n",
       "    <tr>\n",
       "      <th>0</th>\n",
       "      <td>0</td>\n",
       "      <td>0.075438</td>\n",
       "    </tr>\n",
       "    <tr>\n",
       "      <th>1</th>\n",
       "      <td>1</td>\n",
       "      <td>0.092346</td>\n",
       "    </tr>\n",
       "    <tr>\n",
       "      <th>2</th>\n",
       "      <td>2</td>\n",
       "      <td>0.094542</td>\n",
       "    </tr>\n",
       "    <tr>\n",
       "      <th>3</th>\n",
       "      <td>3</td>\n",
       "      <td>0.081818</td>\n",
       "    </tr>\n",
       "    <tr>\n",
       "      <th>4</th>\n",
       "      <td>4</td>\n",
       "      <td>0.097561</td>\n",
       "    </tr>\n",
       "    <tr>\n",
       "      <th>5</th>\n",
       "      <td>5</td>\n",
       "      <td>0.000000</td>\n",
       "    </tr>\n",
       "  </tbody>\n",
       "</table>\n",
       "</div>"
      ],
      "text/plain": [
       "   children      debt\n",
       "0         0  0.075438\n",
       "1         1  0.092346\n",
       "2         2  0.094542\n",
       "3         3  0.081818\n",
       "4         4  0.097561\n",
       "5         5  0.000000"
      ]
     },
     "execution_count": 25,
     "metadata": {},
     "output_type": "execute_result"
    }
   ],
   "source": [
    "data_ch_pivot = pd.pivot_table(data, index=['children'], values=['debt'])\n",
    "data_ch_pivot.reset_index()"
   ]
  },
  {
   "cell_type": "markdown",
   "id": "d7e451d6",
   "metadata": {},
   "source": [
    "Добавим в таблицу остальные признаки для наглядонсти: количество заемщиков и невозвратов в каждой группе."
   ]
  },
  {
   "cell_type": "code",
   "execution_count": 26,
   "id": "bb6b522e",
   "metadata": {
    "scrolled": true
   },
   "outputs": [
    {
     "data": {
      "text/html": [
       "<div>\n",
       "<style scoped>\n",
       "    .dataframe tbody tr th:only-of-type {\n",
       "        vertical-align: middle;\n",
       "    }\n",
       "\n",
       "    .dataframe tbody tr th {\n",
       "        vertical-align: top;\n",
       "    }\n",
       "\n",
       "    .dataframe thead th {\n",
       "        text-align: right;\n",
       "    }\n",
       "</style>\n",
       "<table border=\"1\" class=\"dataframe\">\n",
       "  <thead>\n",
       "    <tr style=\"text-align: right;\">\n",
       "      <th></th>\n",
       "      <th>children</th>\n",
       "      <th>debt</th>\n",
       "      <th>children_grouped</th>\n",
       "      <th>children_debt_grouped</th>\n",
       "    </tr>\n",
       "  </thead>\n",
       "  <tbody>\n",
       "    <tr>\n",
       "      <th>0</th>\n",
       "      <td>0</td>\n",
       "      <td>0.075438</td>\n",
       "      <td>14091</td>\n",
       "      <td>1063</td>\n",
       "    </tr>\n",
       "    <tr>\n",
       "      <th>1</th>\n",
       "      <td>1</td>\n",
       "      <td>0.092346</td>\n",
       "      <td>4808</td>\n",
       "      <td>444</td>\n",
       "    </tr>\n",
       "    <tr>\n",
       "      <th>2</th>\n",
       "      <td>2</td>\n",
       "      <td>0.094542</td>\n",
       "      <td>2052</td>\n",
       "      <td>194</td>\n",
       "    </tr>\n",
       "    <tr>\n",
       "      <th>3</th>\n",
       "      <td>3</td>\n",
       "      <td>0.081818</td>\n",
       "      <td>330</td>\n",
       "      <td>27</td>\n",
       "    </tr>\n",
       "    <tr>\n",
       "      <th>4</th>\n",
       "      <td>4</td>\n",
       "      <td>0.097561</td>\n",
       "      <td>41</td>\n",
       "      <td>4</td>\n",
       "    </tr>\n",
       "    <tr>\n",
       "      <th>5</th>\n",
       "      <td>5</td>\n",
       "      <td>0.000000</td>\n",
       "      <td>9</td>\n",
       "      <td>0</td>\n",
       "    </tr>\n",
       "  </tbody>\n",
       "</table>\n",
       "</div>"
      ],
      "text/plain": [
       "   children      debt  children_grouped  children_debt_grouped\n",
       "0         0  0.075438             14091                   1063\n",
       "1         1  0.092346              4808                    444\n",
       "2         2  0.094542              2052                    194\n",
       "3         3  0.081818               330                     27\n",
       "4         4  0.097561                41                      4\n",
       "5         5  0.000000                 9                      0"
      ]
     },
     "execution_count": 26,
     "metadata": {},
     "output_type": "execute_result"
    }
   ],
   "source": [
    "data_ch_pivot['children_grouped']=data['children'].value_counts()\n",
    "data_ch_pivot['children_debt_grouped']=data.groupby('children')['debt'].sum()\n",
    "data_ch_pivot.reset_index()"
   ]
  },
  {
   "cell_type": "markdown",
   "id": "ef5713ba",
   "metadata": {},
   "source": [
    "Поменяем столбцы местами, чтобы таблица была более понятной."
   ]
  },
  {
   "cell_type": "code",
   "execution_count": 27,
   "id": "74f535ee",
   "metadata": {},
   "outputs": [
    {
     "data": {
      "text/html": [
       "<div>\n",
       "<style scoped>\n",
       "    .dataframe tbody tr th:only-of-type {\n",
       "        vertical-align: middle;\n",
       "    }\n",
       "\n",
       "    .dataframe tbody tr th {\n",
       "        vertical-align: top;\n",
       "    }\n",
       "\n",
       "    .dataframe thead th {\n",
       "        text-align: right;\n",
       "    }\n",
       "</style>\n",
       "<table border=\"1\" class=\"dataframe\">\n",
       "  <thead>\n",
       "    <tr style=\"text-align: right;\">\n",
       "      <th></th>\n",
       "      <th>children</th>\n",
       "      <th>children_grouped</th>\n",
       "      <th>children_debt_grouped</th>\n",
       "      <th>debt</th>\n",
       "    </tr>\n",
       "  </thead>\n",
       "  <tbody>\n",
       "    <tr>\n",
       "      <th>0</th>\n",
       "      <td>0</td>\n",
       "      <td>14091</td>\n",
       "      <td>1063</td>\n",
       "      <td>0.075438</td>\n",
       "    </tr>\n",
       "    <tr>\n",
       "      <th>1</th>\n",
       "      <td>1</td>\n",
       "      <td>4808</td>\n",
       "      <td>444</td>\n",
       "      <td>0.092346</td>\n",
       "    </tr>\n",
       "    <tr>\n",
       "      <th>2</th>\n",
       "      <td>2</td>\n",
       "      <td>2052</td>\n",
       "      <td>194</td>\n",
       "      <td>0.094542</td>\n",
       "    </tr>\n",
       "    <tr>\n",
       "      <th>3</th>\n",
       "      <td>3</td>\n",
       "      <td>330</td>\n",
       "      <td>27</td>\n",
       "      <td>0.081818</td>\n",
       "    </tr>\n",
       "    <tr>\n",
       "      <th>4</th>\n",
       "      <td>4</td>\n",
       "      <td>41</td>\n",
       "      <td>4</td>\n",
       "      <td>0.097561</td>\n",
       "    </tr>\n",
       "    <tr>\n",
       "      <th>5</th>\n",
       "      <td>5</td>\n",
       "      <td>9</td>\n",
       "      <td>0</td>\n",
       "      <td>0.000000</td>\n",
       "    </tr>\n",
       "  </tbody>\n",
       "</table>\n",
       "</div>"
      ],
      "text/plain": [
       "   children  children_grouped  children_debt_grouped      debt\n",
       "0         0             14091                   1063  0.075438\n",
       "1         1              4808                    444  0.092346\n",
       "2         2              2052                    194  0.094542\n",
       "3         3               330                     27  0.081818\n",
       "4         4                41                      4  0.097561\n",
       "5         5                 9                      0  0.000000"
      ]
     },
     "execution_count": 27,
     "metadata": {},
     "output_type": "execute_result"
    }
   ],
   "source": [
    "data_ch_pivot_new = data_ch_pivot.reindex(columns=['children_grouped', 'children_debt_grouped', 'debt']).reset_index()\n",
    "data_ch_pivot_new"
   ]
  },
  {
   "cell_type": "markdown",
   "id": "090e705f",
   "metadata": {},
   "source": [
    "Импортируем `Seaborn` и `matplotlib.pyplot` и построим точечную диаграмму."
   ]
  },
  {
   "cell_type": "code",
   "execution_count": 28,
   "id": "69f646fd",
   "metadata": {
    "deletable": false,
    "id": "2cacfc4a"
   },
   "outputs": [],
   "source": [
    "import seaborn as sns\n",
    "import matplotlib.pyplot as plt"
   ]
  },
  {
   "cell_type": "code",
   "execution_count": 29,
   "id": "6f8f18dd",
   "metadata": {},
   "outputs": [
    {
     "data": {
      "text/plain": [
       "Text(0, 0.5, 'Количество невозвратов, отн.')"
      ]
     },
     "execution_count": 29,
     "metadata": {},
     "output_type": "execute_result"
    },
    {
     "data": {
      "image/png": "[encoded data removed]",
      "text/plain": [
       "<Figure size 640x480 with 1 Axes>"
      ]
     },
     "metadata": {},
     "output_type": "display_data"
    }
   ],
   "source": [
    "sns.barplot(\n",
    "    data=data_ch_pivot_new, \n",
    "    x='children', \n",
    "    y='debt') \n",
    "plt.xlabel('Количество детей')\n",
    "plt.ylabel('Количество невозвратов, отн.')"
   ]
  },
  {
   "cell_type": "markdown",
   "id": "609d6553",
   "metadata": {},
   "source": [
    "На первый взгляд, можно сделать вывод, что заемщики с пятью детьми не имеют задолжностей по кредитам. Но таких человек всего 9 во всей базе — это ничтожно малое количество, которым можно пренебречь. Уберем эту строку из таблицы и построим график заново."
   ]
  },
  {
   "cell_type": "code",
   "execution_count": 30,
   "id": "71087e12",
   "metadata": {},
   "outputs": [
    {
     "data": {
      "text/html": [
       "<div>\n",
       "<style scoped>\n",
       "    .dataframe tbody tr th:only-of-type {\n",
       "        vertical-align: middle;\n",
       "    }\n",
       "\n",
       "    .dataframe tbody tr th {\n",
       "        vertical-align: top;\n",
       "    }\n",
       "\n",
       "    .dataframe thead th {\n",
       "        text-align: right;\n",
       "    }\n",
       "</style>\n",
       "<table border=\"1\" class=\"dataframe\">\n",
       "  <thead>\n",
       "    <tr style=\"text-align: right;\">\n",
       "      <th></th>\n",
       "      <th>index</th>\n",
       "      <th>children</th>\n",
       "      <th>children_grouped</th>\n",
       "      <th>children_debt_grouped</th>\n",
       "      <th>debt</th>\n",
       "    </tr>\n",
       "  </thead>\n",
       "  <tbody>\n",
       "    <tr>\n",
       "      <th>0</th>\n",
       "      <td>0</td>\n",
       "      <td>0</td>\n",
       "      <td>14091</td>\n",
       "      <td>1063</td>\n",
       "      <td>0.075438</td>\n",
       "    </tr>\n",
       "    <tr>\n",
       "      <th>1</th>\n",
       "      <td>1</td>\n",
       "      <td>1</td>\n",
       "      <td>4808</td>\n",
       "      <td>444</td>\n",
       "      <td>0.092346</td>\n",
       "    </tr>\n",
       "    <tr>\n",
       "      <th>2</th>\n",
       "      <td>2</td>\n",
       "      <td>2</td>\n",
       "      <td>2052</td>\n",
       "      <td>194</td>\n",
       "      <td>0.094542</td>\n",
       "    </tr>\n",
       "    <tr>\n",
       "      <th>3</th>\n",
       "      <td>3</td>\n",
       "      <td>3</td>\n",
       "      <td>330</td>\n",
       "      <td>27</td>\n",
       "      <td>0.081818</td>\n",
       "    </tr>\n",
       "    <tr>\n",
       "      <th>4</th>\n",
       "      <td>4</td>\n",
       "      <td>4</td>\n",
       "      <td>41</td>\n",
       "      <td>4</td>\n",
       "      <td>0.097561</td>\n",
       "    </tr>\n",
       "  </tbody>\n",
       "</table>\n",
       "</div>"
      ],
      "text/plain": [
       "   index  children  children_grouped  children_debt_grouped      debt\n",
       "0      0         0             14091                   1063  0.075438\n",
       "1      1         1              4808                    444  0.092346\n",
       "2      2         2              2052                    194  0.094542\n",
       "3      3         3               330                     27  0.081818\n",
       "4      4         4                41                      4  0.097561"
      ]
     },
     "execution_count": 30,
     "metadata": {},
     "output_type": "execute_result"
    }
   ],
   "source": [
    "data_ch_pivot_new_before5=data_ch_pivot_new.drop(data_ch_pivot_new.index[5])\n",
    "data_ch_pivot_new_before5.reset_index()"
   ]
  },
  {
   "cell_type": "code",
   "execution_count": 31,
   "id": "25a798a7",
   "metadata": {},
   "outputs": [
    {
     "data": {
      "text/plain": [
       "(0.07, 0.1)"
      ]
     },
     "execution_count": 31,
     "metadata": {},
     "output_type": "execute_result"
    },
    {
     "data": {
      "image/png": "[encoded data removed]",
      "text/plain": [
       "<Figure size 640x480 with 1 Axes>"
      ]
     },
     "metadata": {},
     "output_type": "display_data"
    }
   ],
   "source": [
    "sns.barplot(\n",
    "    data=data_ch_pivot_new_before5, \n",
    "    x='children', \n",
    "    y='debt') \n",
    "plt.xlabel('Количество детей')\n",
    "plt.ylabel('Количество невозвратов, отн.')\n",
    "plt.ylim(0.07,0.10)"
   ]
  },
  {
   "cell_type": "markdown",
   "id": "5bd80cd8",
   "metadata": {
    "deletable": false,
    "id": "3a6b99ec"
   },
   "source": [
    "**Вывод:** Теперь разброс значений более нагляден. Мы видим, что наименьший процент невозвратов у заемщиков без детей, либо с количеством детей равным трем. Линейной зависимости между количеством детей и вероятностью невозврата кредита не наблюдается."
   ]
  },
  {
   "cell_type": "markdown",
   "id": "e46ad312",
   "metadata": {
    "deletable": false,
    "editable": false,
    "id": "97be82ca"
   },
   "source": [
    "#### 3.2 Есть ли зависимость между семейным положением и возвратом кредита в срок?"
   ]
  },
  {
   "cell_type": "markdown",
   "id": "2b9e9485",
   "metadata": {},
   "source": [
    "Посчитаем сколько всего получено кредитов людьми с разным семейным положением. Сохраним результаты в переменной `family_status_grouped`:"
   ]
  },
  {
   "cell_type": "code",
   "execution_count": 32,
   "id": "363e7d36",
   "metadata": {},
   "outputs": [
    {
     "data": {
      "text/html": [
       "<div>\n",
       "<style scoped>\n",
       "    .dataframe tbody tr th:only-of-type {\n",
       "        vertical-align: middle;\n",
       "    }\n",
       "\n",
       "    .dataframe tbody tr th {\n",
       "        vertical-align: top;\n",
       "    }\n",
       "\n",
       "    .dataframe thead th {\n",
       "        text-align: right;\n",
       "    }\n",
       "</style>\n",
       "<table border=\"1\" class=\"dataframe\">\n",
       "  <thead>\n",
       "    <tr style=\"text-align: right;\">\n",
       "      <th></th>\n",
       "      <th>index</th>\n",
       "      <th>family_status</th>\n",
       "    </tr>\n",
       "  </thead>\n",
       "  <tbody>\n",
       "    <tr>\n",
       "      <th>0</th>\n",
       "      <td>женат / замужем</td>\n",
       "      <td>12261</td>\n",
       "    </tr>\n",
       "    <tr>\n",
       "      <th>1</th>\n",
       "      <td>гражданский брак</td>\n",
       "      <td>4134</td>\n",
       "    </tr>\n",
       "    <tr>\n",
       "      <th>2</th>\n",
       "      <td>Не женат / не замужем</td>\n",
       "      <td>2796</td>\n",
       "    </tr>\n",
       "    <tr>\n",
       "      <th>3</th>\n",
       "      <td>в разводе</td>\n",
       "      <td>1189</td>\n",
       "    </tr>\n",
       "    <tr>\n",
       "      <th>4</th>\n",
       "      <td>вдовец / вдова</td>\n",
       "      <td>951</td>\n",
       "    </tr>\n",
       "  </tbody>\n",
       "</table>\n",
       "</div>"
      ],
      "text/plain": [
       "                   index  family_status\n",
       "0        женат / замужем          12261\n",
       "1       гражданский брак           4134\n",
       "2  Не женат / не замужем           2796\n",
       "3              в разводе           1189\n",
       "4         вдовец / вдова            951"
      ]
     },
     "execution_count": 32,
     "metadata": {},
     "output_type": "execute_result"
    }
   ],
   "source": [
    "family_status_grouped=data['family_status'].value_counts()\n",
    "family_status_grouped.reset_index()"
   ]
  },
  {
   "cell_type": "markdown",
   "id": "5557359f",
   "metadata": {},
   "source": [
    "Построим сводную таблицу:"
   ]
  },
  {
   "cell_type": "code",
   "execution_count": 33,
   "id": "66575b4e",
   "metadata": {
    "deletable": false,
    "id": "dc3f7ee8"
   },
   "outputs": [
    {
     "data": {
      "text/html": [
       "<div>\n",
       "<style scoped>\n",
       "    .dataframe tbody tr th:only-of-type {\n",
       "        vertical-align: middle;\n",
       "    }\n",
       "\n",
       "    .dataframe tbody tr th {\n",
       "        vertical-align: top;\n",
       "    }\n",
       "\n",
       "    .dataframe thead th {\n",
       "        text-align: right;\n",
       "    }\n",
       "</style>\n",
       "<table border=\"1\" class=\"dataframe\">\n",
       "  <thead>\n",
       "    <tr style=\"text-align: right;\">\n",
       "      <th></th>\n",
       "      <th>family_status</th>\n",
       "      <th>family_status_grouped</th>\n",
       "      <th>family_status_debt_grouped</th>\n",
       "      <th>debt</th>\n",
       "    </tr>\n",
       "  </thead>\n",
       "  <tbody>\n",
       "    <tr>\n",
       "      <th>0</th>\n",
       "      <td>Не женат / не замужем</td>\n",
       "      <td>2796</td>\n",
       "      <td>273</td>\n",
       "      <td>0.097639</td>\n",
       "    </tr>\n",
       "    <tr>\n",
       "      <th>1</th>\n",
       "      <td>в разводе</td>\n",
       "      <td>1189</td>\n",
       "      <td>84</td>\n",
       "      <td>0.070648</td>\n",
       "    </tr>\n",
       "    <tr>\n",
       "      <th>2</th>\n",
       "      <td>вдовец / вдова</td>\n",
       "      <td>951</td>\n",
       "      <td>63</td>\n",
       "      <td>0.066246</td>\n",
       "    </tr>\n",
       "    <tr>\n",
       "      <th>3</th>\n",
       "      <td>гражданский брак</td>\n",
       "      <td>4134</td>\n",
       "      <td>385</td>\n",
       "      <td>0.093130</td>\n",
       "    </tr>\n",
       "    <tr>\n",
       "      <th>4</th>\n",
       "      <td>женат / замужем</td>\n",
       "      <td>12261</td>\n",
       "      <td>927</td>\n",
       "      <td>0.075606</td>\n",
       "    </tr>\n",
       "  </tbody>\n",
       "</table>\n",
       "</div>"
      ],
      "text/plain": [
       "           family_status  family_status_grouped  family_status_debt_grouped  \\\n",
       "0  Не женат / не замужем                   2796                         273   \n",
       "1              в разводе                   1189                          84   \n",
       "2         вдовец / вдова                    951                          63   \n",
       "3       гражданский брак                   4134                         385   \n",
       "4        женат / замужем                  12261                         927   \n",
       "\n",
       "       debt  \n",
       "0  0.097639  \n",
       "1  0.070648  \n",
       "2  0.066246  \n",
       "3  0.093130  \n",
       "4  0.075606  "
      ]
     },
     "execution_count": 33,
     "metadata": {},
     "output_type": "execute_result"
    }
   ],
   "source": [
    "data_f_pivot = pd.pivot_table(data, index=['family_status'], values=['debt'])\n",
    "data_f_pivot['family_status_grouped']=data['family_status'].value_counts()\n",
    "data_f_pivot['family_status_debt_grouped']=data.groupby('family_status')['debt'].sum()\n",
    "data_f_pivot_new = data_f_pivot.reindex(columns=['family_status_grouped', 'family_status_debt_grouped', 'debt'])\n",
    "data_f_pivot_new.reset_index() # Ваш код будет здесь. Вы можете создавать новые ячейки."
   ]
  },
  {
   "cell_type": "code",
   "execution_count": 34,
   "id": "e5226639",
   "metadata": {},
   "outputs": [
    {
     "data": {
      "text/plain": [
       "Text(0, 0.5, 'Количество невозвратов, отн.')"
      ]
     },
     "execution_count": 34,
     "metadata": {},
     "output_type": "execute_result"
    },
    {
     "data": {
      "image/png": "[encoded data removed]",
      "text/plain": [
       "<Figure size 640x480 with 1 Axes>"
      ]
     },
     "metadata": {},
     "output_type": "display_data"
    }
   ],
   "source": [
    "sns.barplot(\n",
    "    data=data_f_pivot.reset_index(), \n",
    "    x='family_status', \n",
    "    y='debt') \n",
    "plt.xticks(rotation=45)\n",
    "plt.yticks(rotation=45)\n",
    "plt.ylim(0.05,0.10)\n",
    "plt.xlabel('Семейное положение')\n",
    "plt.ylabel('Количество невозвратов, отн.')"
   ]
  },
  {
   "cell_type": "markdown",
   "id": "08e055e1",
   "metadata": {
    "deletable": false,
    "id": "1cef7837"
   },
   "source": [
    "**Вывод:** Как видим из сводной таблицы, клиенты не состоящие в браке, либо живущие гражданским браком, чаще не возвращают кредиты."
   ]
  },
  {
   "cell_type": "markdown",
   "id": "77921d26",
   "metadata": {
    "deletable": false,
    "editable": false,
    "id": "1e8b2fca"
   },
   "source": [
    "#### 3.3 Есть ли зависимость между уровнем дохода и возвратом кредита в срок?"
   ]
  },
  {
   "cell_type": "markdown",
   "id": "84a05bad",
   "metadata": {},
   "source": [
    "##### Вариант 1"
   ]
  },
  {
   "cell_type": "markdown",
   "id": "2fcd18a7",
   "metadata": {},
   "source": [
    "Для начала посмотрим, минимальные, максимальные и меданные месячные доходы клиентов:"
   ]
  },
  {
   "cell_type": "code",
   "execution_count": 35,
   "id": "9d04a8ed",
   "metadata": {
    "deletable": false,
    "id": "cd7e3720"
   },
   "outputs": [
    {
     "name": "stdout",
     "output_type": "stream",
     "text": [
      "20667\n",
      "2265604\n",
      "142594\n"
     ]
    }
   ],
   "source": [
    "print(data['total_income'].min())\n",
    "print(data['total_income'].max())\n",
    "print(int(data['total_income'].median()))# Ваш код будет здесь. Вы можете создавать новые ячейки."
   ]
  },
  {
   "cell_type": "markdown",
   "id": "63c66149",
   "metadata": {},
   "source": [
    "Видим, что основная часть клиентов имеет доход в районе 140000 рублей в месяц."
   ]
  },
  {
   "cell_type": "markdown",
   "id": "249b3fe0",
   "metadata": {},
   "source": [
    "Объединим данные в категории на основе уровня дохода. Разобьем категории на основе данной таблицы ![Разделение уровня дохода по категориям](https://i0.u-mama.ru/d58/401/803/32c0cb0fa59cc20fd0eea942eb87ed19.jpg):\n",
    "\n"
   ]
  },
  {
   "cell_type": "markdown",
   "id": "aa4632fd",
   "metadata": {},
   "source": [
    "Получим следующие группы (начнем с дохода от 20000 рублей, т.к. минимальный доход в таблице, как мы определилил, равен 20667 рублей):\n",
    "- \"20-30 тыс.руб\" - для клиентов с доходом от 20 до 30 тысяч рублей в месяц;\n",
    "- \"30-60 тыс.руб\" - для клиентов с доходом от 30 до 60 тысяч рублей в месяц;\n",
    "- \"60-90 тыс.руб\" - для клиентов с доходом от 60 до 90 тысяч рублей в месяц;\n",
    "- \"90-150 тыс.руб\" - для клиентов с доходом от 90 до 150 тысяч рублей в месяц;\n",
    "- \"свыше 150 тыс.руб\" - для клиентов с доходом от 150 тысяч рублей в месяц."
   ]
  },
  {
   "cell_type": "markdown",
   "id": "271d11cf",
   "metadata": {},
   "source": [
    "С помощью функции создадим новый столбец `total_income_grouped` в таблице:"
   ]
  },
  {
   "cell_type": "code",
   "execution_count": 36,
   "id": "c1c9d74d",
   "metadata": {},
   "outputs": [],
   "source": [
    "def total_income_group(total_income):\n",
    "    if 20000 <= total_income < 30000:\n",
    "        return '20-30 тыс.руб'\n",
    "    if 30000 <= total_income < 60000:\n",
    "        return '30-60 тыс.руб'\n",
    "    if 60000 <= total_income < 90000:\n",
    "        return '60-90 тыс.руб'\n",
    "    if 90000 <= total_income < 150000:\n",
    "        return '90-150 тыс.руб'\n",
    "    if total_income >= 150000:\n",
    "        return 'свыше 150 тыс.руб'\n",
    "    return 'менее 20 тыс.руб'\n",
    "data['total_income_grouped']=data['total_income'].apply(total_income_group) "
   ]
  },
  {
   "cell_type": "markdown",
   "id": "4c8b3814",
   "metadata": {},
   "source": [
    "Посмотрим сколько клиентов  вкаждой группе."
   ]
  },
  {
   "cell_type": "code",
   "execution_count": 37,
   "id": "11c49bd3",
   "metadata": {},
   "outputs": [
    {
     "data": {
      "text/plain": [
       "свыше 150 тыс.руб    9777\n",
       "90-150 тыс.руб       8221\n",
       "60-90 тыс.руб        2532\n",
       "30-60 тыс.руб         779\n",
       "20-30 тыс.руб          22\n",
       "Name: total_income_grouped, dtype: int64"
      ]
     },
     "execution_count": 37,
     "metadata": {},
     "output_type": "execute_result"
    }
   ],
   "source": [
    "data['total_income_grouped'].value_counts()"
   ]
  },
  {
   "cell_type": "markdown",
   "id": "d26ede0f",
   "metadata": {},
   "source": [
    "Видим, что группа с доходом 20-30 тыс. рублей очень маленькая - объединим две группы \"20-30 тыс.руб\" и \"30-60 тыс.руб\" в одну \"20-60 тыс.руб\". Так же видим, что в группах \"90-150 тыс.руб\" и \"свыше 150 тыс.руб\" сконцентрированна основная часть клиентов. Добавим еще проежуточные группы. В итоге новая группировка будет выглядеть так:\n",
    "- \"20-60 тыс.руб\" - для клиентов с доходом от 20 до 60 тысяч рублей в месяц;\n",
    "- \"60-90 тыс.руб\" - для клиентов с доходом от 60 до 90 тысяч рублей в месяц;\n",
    "- \"90-120 тыс.руб\" - для клиентов с доходом от 90 до 120 тысяч рублей в месяц;\n",
    "- \"120-150 тыс.руб\" - для клиентов с доходом от 120 до 150 тысяч рублей в месяц;\n",
    "- \"150-180 тыс.руб\" - для клиентов с доходом от 150 до 180 тысяч рублей в месяц;\n",
    "- \"свыше 180 тыс.руб\" - для клиентов с доходом от 180 тысяч рублей в месяц."
   ]
  },
  {
   "cell_type": "markdown",
   "id": "3c59984e",
   "metadata": {},
   "source": [
    "Пересоздадим столбец `total_income_grouped` в таблице и посмотрим сколько клиентов окажется в каждой группе:"
   ]
  },
  {
   "cell_type": "code",
   "execution_count": 38,
   "id": "1d8f3d6c",
   "metadata": {},
   "outputs": [
    {
     "data": {
      "text/plain": [
       "свыше 180 тыс.руб    6389\n",
       "120-150 тыс.руб      4358\n",
       "90-120 тыс.руб       3863\n",
       "150-180 тыс.руб      3388\n",
       "60-90 тыс.руб        2532\n",
       "20-60 тыс.руб         801\n",
       "Name: total_income_grouped, dtype: int64"
      ]
     },
     "execution_count": 38,
     "metadata": {},
     "output_type": "execute_result"
    }
   ],
   "source": [
    "def total_income_group(total_income):\n",
    "    if 20000 <= total_income < 60000:\n",
    "        return '20-60 тыс.руб'\n",
    "    if 60000 <= total_income < 90000:\n",
    "        return '60-90 тыс.руб'\n",
    "    if 90000 <= total_income < 120000:\n",
    "        return '90-120 тыс.руб'\n",
    "    if 120000 <= total_income < 150000:\n",
    "        return '120-150 тыс.руб'\n",
    "    if 150000 <= total_income < 180000:\n",
    "        return '150-180 тыс.руб'\n",
    "    if total_income >= 180000:\n",
    "        return 'свыше 180 тыс.руб'\n",
    "    return 'менее 20 тыс.руб'\n",
    "data['total_income_grouped']=data['total_income'].apply(total_income_group) \n",
    "data['total_income_grouped'].value_counts()"
   ]
  },
  {
   "cell_type": "markdown",
   "id": "1e90789e",
   "metadata": {},
   "source": [
    "Теперь выведем сводную таблицу"
   ]
  },
  {
   "cell_type": "code",
   "execution_count": 39,
   "id": "c233b4b5",
   "metadata": {},
   "outputs": [
    {
     "data": {
      "text/html": [
       "<div>\n",
       "<style scoped>\n",
       "    .dataframe tbody tr th:only-of-type {\n",
       "        vertical-align: middle;\n",
       "    }\n",
       "\n",
       "    .dataframe tbody tr th {\n",
       "        vertical-align: top;\n",
       "    }\n",
       "\n",
       "    .dataframe thead th {\n",
       "        text-align: right;\n",
       "    }\n",
       "</style>\n",
       "<table border=\"1\" class=\"dataframe\">\n",
       "  <thead>\n",
       "    <tr style=\"text-align: right;\">\n",
       "      <th></th>\n",
       "      <th>total_income_grouped</th>\n",
       "      <th>total_income_grouped_sum</th>\n",
       "      <th>total_income_debt_grouped</th>\n",
       "      <th>debt</th>\n",
       "    </tr>\n",
       "  </thead>\n",
       "  <tbody>\n",
       "    <tr>\n",
       "      <th>0</th>\n",
       "      <td>120-150 тыс.руб</td>\n",
       "      <td>4358</td>\n",
       "      <td>388</td>\n",
       "      <td>0.089032</td>\n",
       "    </tr>\n",
       "    <tr>\n",
       "      <th>1</th>\n",
       "      <td>150-180 тыс.руб</td>\n",
       "      <td>3388</td>\n",
       "      <td>283</td>\n",
       "      <td>0.083530</td>\n",
       "    </tr>\n",
       "    <tr>\n",
       "      <th>2</th>\n",
       "      <td>20-60 тыс.руб</td>\n",
       "      <td>801</td>\n",
       "      <td>49</td>\n",
       "      <td>0.061174</td>\n",
       "    </tr>\n",
       "    <tr>\n",
       "      <th>3</th>\n",
       "      <td>60-90 тыс.руб</td>\n",
       "      <td>2532</td>\n",
       "      <td>213</td>\n",
       "      <td>0.084123</td>\n",
       "    </tr>\n",
       "    <tr>\n",
       "      <th>4</th>\n",
       "      <td>90-120 тыс.руб</td>\n",
       "      <td>3863</td>\n",
       "      <td>323</td>\n",
       "      <td>0.083614</td>\n",
       "    </tr>\n",
       "    <tr>\n",
       "      <th>5</th>\n",
       "      <td>свыше 180 тыс.руб</td>\n",
       "      <td>6389</td>\n",
       "      <td>476</td>\n",
       "      <td>0.074503</td>\n",
       "    </tr>\n",
       "  </tbody>\n",
       "</table>\n",
       "</div>"
      ],
      "text/plain": [
       "  total_income_grouped  total_income_grouped_sum  total_income_debt_grouped  \\\n",
       "0      120-150 тыс.руб                      4358                        388   \n",
       "1      150-180 тыс.руб                      3388                        283   \n",
       "2        20-60 тыс.руб                       801                         49   \n",
       "3        60-90 тыс.руб                      2532                        213   \n",
       "4       90-120 тыс.руб                      3863                        323   \n",
       "5    свыше 180 тыс.руб                      6389                        476   \n",
       "\n",
       "       debt  \n",
       "0  0.089032  \n",
       "1  0.083530  \n",
       "2  0.061174  \n",
       "3  0.084123  \n",
       "4  0.083614  \n",
       "5  0.074503  "
      ]
     },
     "execution_count": 39,
     "metadata": {},
     "output_type": "execute_result"
    }
   ],
   "source": [
    "data_total_income_pivot = pd.pivot_table(data, index=['total_income_grouped'], values=['debt'])\n",
    "data_total_income_pivot['total_income_grouped_sum']=data['total_income_grouped'].value_counts()\n",
    "data_total_income_pivot['total_income_debt_grouped']=data.groupby('total_income_grouped')['debt'].sum()\n",
    "data_total_income_pivot_new = data_total_income_pivot.reindex(columns=['total_income_grouped_sum', 'total_income_debt_grouped', 'debt'])\n",
    "data_total_income_pivot_new.reset_index()"
   ]
  },
  {
   "cell_type": "markdown",
   "id": "78193545",
   "metadata": {},
   "source": [
    "Построим график зависимости невозвратов от материального положения."
   ]
  },
  {
   "cell_type": "code",
   "execution_count": 40,
   "id": "ae892572",
   "metadata": {},
   "outputs": [
    {
     "data": {
      "text/plain": [
       "Text(0, 0.5, 'Количество невозвратов, отн.')"
      ]
     },
     "execution_count": 40,
     "metadata": {},
     "output_type": "execute_result"
    },
    {
     "data": {
      "image/png": "[encoded data removed]",
      "text/plain": [
       "<Figure size 640x480 with 1 Axes>"
      ]
     },
     "metadata": {},
     "output_type": "display_data"
    }
   ],
   "source": [
    "sns.barplot(\n",
    "    data=data_total_income_pivot_new.reset_index(), \n",
    "    x='total_income_grouped', \n",
    "    y='debt', \n",
    "    order=['20-60 тыс.руб', '60-90 тыс.руб', '90-120 тыс.руб', '120-150 тыс.руб', '150-180 тыс.руб', 'свыше 180 тыс.руб'])\n",
    "plt.xticks(rotation=45)\n",
    "plt.yticks(rotation=45)\n",
    "plt.ylim(0.05,0.10)\n",
    "plt.xlabel('Уровень дохода')\n",
    "plt.ylabel('Количество невозвратов, отн.')"
   ]
  },
  {
   "cell_type": "markdown",
   "id": "1eb64992",
   "metadata": {
    "deletable": false,
    "id": "e8593def"
   },
   "source": [
    "**Вывод:** Из графика можем сделать вывод, что уменьшение доли невозвратов характерно для групп клиентов с доходами либо менее 60 тыс.руб. либо более 180 тыс. руб."
   ]
  },
  {
   "cell_type": "markdown",
   "id": "b05db98f",
   "metadata": {},
   "source": [
    "##### Вариант 2"
   ]
  },
  {
   "cell_type": "markdown",
   "id": "aacea9d5",
   "metadata": {},
   "source": [
    "Используем для сравнения данные из [данного раздела](#Категоризация-данных)"
   ]
  },
  {
   "cell_type": "markdown",
   "id": "0068115c",
   "metadata": {},
   "source": [
    "Продублируем параметры группировки кредитодержателей по уровню дохода:\n",
    "* 0–30000 — 'E';\n",
    "* 30001–50000 — 'D';\n",
    "* 50001–200000 — 'C';\n",
    "* 200001–1000000 — 'B';\n",
    "* 1000001 и выше — 'A'."
   ]
  },
  {
   "cell_type": "markdown",
   "id": "8fa60705",
   "metadata": {},
   "source": [
    "Создадим сводную таблицу."
   ]
  },
  {
   "cell_type": "code",
   "execution_count": 41,
   "id": "52487082",
   "metadata": {
    "scrolled": true
   },
   "outputs": [
    {
     "data": {
      "text/html": [
       "<div>\n",
       "<style scoped>\n",
       "    .dataframe tbody tr th:only-of-type {\n",
       "        vertical-align: middle;\n",
       "    }\n",
       "\n",
       "    .dataframe tbody tr th {\n",
       "        vertical-align: top;\n",
       "    }\n",
       "\n",
       "    .dataframe thead th {\n",
       "        text-align: right;\n",
       "    }\n",
       "</style>\n",
       "<table border=\"1\" class=\"dataframe\">\n",
       "  <thead>\n",
       "    <tr style=\"text-align: right;\">\n",
       "      <th></th>\n",
       "      <th>total_income_category</th>\n",
       "      <th>total_income_category_grouped</th>\n",
       "      <th>total_income_category_debt_grouped</th>\n",
       "      <th>debt</th>\n",
       "    </tr>\n",
       "  </thead>\n",
       "  <tbody>\n",
       "    <tr>\n",
       "      <th>0</th>\n",
       "      <td>A</td>\n",
       "      <td>25</td>\n",
       "      <td>2</td>\n",
       "      <td>0.080000</td>\n",
       "    </tr>\n",
       "    <tr>\n",
       "      <th>1</th>\n",
       "      <td>B</td>\n",
       "      <td>5014</td>\n",
       "      <td>354</td>\n",
       "      <td>0.070602</td>\n",
       "    </tr>\n",
       "    <tr>\n",
       "      <th>2</th>\n",
       "      <td>C</td>\n",
       "      <td>15921</td>\n",
       "      <td>1353</td>\n",
       "      <td>0.084982</td>\n",
       "    </tr>\n",
       "    <tr>\n",
       "      <th>3</th>\n",
       "      <td>D</td>\n",
       "      <td>349</td>\n",
       "      <td>21</td>\n",
       "      <td>0.060172</td>\n",
       "    </tr>\n",
       "    <tr>\n",
       "      <th>4</th>\n",
       "      <td>E</td>\n",
       "      <td>22</td>\n",
       "      <td>2</td>\n",
       "      <td>0.090909</td>\n",
       "    </tr>\n",
       "  </tbody>\n",
       "</table>\n",
       "</div>"
      ],
      "text/plain": [
       "  total_income_category  total_income_category_grouped  \\\n",
       "0                     A                             25   \n",
       "1                     B                           5014   \n",
       "2                     C                          15921   \n",
       "3                     D                            349   \n",
       "4                     E                             22   \n",
       "\n",
       "   total_income_category_debt_grouped      debt  \n",
       "0                                   2  0.080000  \n",
       "1                                 354  0.070602  \n",
       "2                                1353  0.084982  \n",
       "3                                  21  0.060172  \n",
       "4                                   2  0.090909  "
      ]
     },
     "execution_count": 41,
     "metadata": {},
     "output_type": "execute_result"
    }
   ],
   "source": [
    "data_t_pivot = pd.pivot_table(data, index=['total_income_category'], values=['debt'])\n",
    "data_t_pivot['total_income_category_grouped']=data['total_income_category'].value_counts()\n",
    "data_t_pivot['total_income_category_debt_grouped']=data.groupby('total_income_category')['debt'].sum()\n",
    "data_t_pivot_new = data_t_pivot.reindex(columns=['total_income_category_grouped', 'total_income_category_debt_grouped', 'debt'])\n",
    "data_t_pivot_new.reset_index()\n"
   ]
  },
  {
   "cell_type": "markdown",
   "id": "7fc1f44d",
   "metadata": {},
   "source": [
    "Видим, что в группе A,D и E количество заемщиков значительно отличается от остальных групп (меньше). Предалагаю их не учитывать при анализе."
   ]
  },
  {
   "cell_type": "markdown",
   "id": "f6e3e092",
   "metadata": {},
   "source": [
    "Уберем из таблицы эти две группы."
   ]
  },
  {
   "cell_type": "code",
   "execution_count": 42,
   "id": "0d2ac1ee",
   "metadata": {},
   "outputs": [],
   "source": [
    "data_t_pivot_new = data_t_pivot_new.drop(data_t_pivot_new.index[0])\n",
    "data_t_pivot_new = data_t_pivot_new.drop(data_t_pivot_new.index[2])\n",
    "data_t_pivot_new = data_t_pivot_new.drop(data_t_pivot_new.index[2])\n"
   ]
  },
  {
   "cell_type": "markdown",
   "id": "a220291a",
   "metadata": {},
   "source": [
    "Построим график зависимости доли невозвратов от уровня дохода."
   ]
  },
  {
   "cell_type": "code",
   "execution_count": 43,
   "id": "ad733046",
   "metadata": {},
   "outputs": [
    {
     "data": {
      "text/plain": [
       "Text(0, 0.5, 'Количество невозвратов, отн.')"
      ]
     },
     "execution_count": 43,
     "metadata": {},
     "output_type": "execute_result"
    },
    {
     "data": {
      "image/png": "[encoded data removed]",
      "text/plain": [
       "<Figure size 640x480 with 1 Axes>"
      ]
     },
     "metadata": {},
     "output_type": "display_data"
    }
   ],
   "source": [
    "sns.barplot(\n",
    "    data=data_t_pivot_new.reset_index(),\n",
    "    x='total_income_category', \n",
    "    y='debt')\n",
    "plt.xticks(rotation=45)\n",
    "plt.yticks(rotation=45)\n",
    "plt.ylim(0.05,0.10)\n",
    "plt.xlabel('Уровень дохода')\n",
    "plt.ylabel('Количество невозвратов, отн.')"
   ]
  },
  {
   "cell_type": "markdown",
   "id": "fd8c4fa9",
   "metadata": {
    "id": "e8593def"
   },
   "source": [
    "**Вывод:** Из графика можем сделать выводы:\n",
    "* Клиенты из группы с доходом 50001-200000 рублей/месяц имеют наибольшую долю невозвратов кредитов.\n",
    "* Клиенты из группы с дохзодом выше 200001 рубль/месяц реже невозвращают кредиты.\n"
   ]
  },
  {
   "cell_type": "markdown",
   "id": "12d979d3",
   "metadata": {
    "deletable": false,
    "editable": false,
    "id": "99ecbd1f"
   },
   "source": [
    "#### 3.4 Как разные цели кредита влияют на его возврат в срок?"
   ]
  },
  {
   "cell_type": "markdown",
   "id": "667d6391",
   "metadata": {},
   "source": [
    "Посчитаем сколько всего получено кредитов На разные цели. Сохраним результаты в переменной `purpose_category_grouped`:"
   ]
  },
  {
   "cell_type": "code",
   "execution_count": 44,
   "id": "7615f9df",
   "metadata": {},
   "outputs": [
    {
     "data": {
      "text/plain": [
       "операции с недвижимостью    10751\n",
       "операции с автомобилем       4279\n",
       "получение образования        3988\n",
       "проведение свадьбы           2313\n",
       "Name: purpose_category, dtype: int64"
      ]
     },
     "execution_count": 44,
     "metadata": {},
     "output_type": "execute_result"
    }
   ],
   "source": [
    "purpose_category_grouped=data['purpose_category'].value_counts()\n",
    "purpose_category_grouped"
   ]
  },
  {
   "cell_type": "markdown",
   "id": "41196984",
   "metadata": {},
   "source": [
    "Построим сводную таблицу:"
   ]
  },
  {
   "cell_type": "code",
   "execution_count": 45,
   "id": "e0d30553",
   "metadata": {
    "id": "dc3f7ee8"
   },
   "outputs": [
    {
     "data": {
      "text/html": [
       "<div>\n",
       "<style scoped>\n",
       "    .dataframe tbody tr th:only-of-type {\n",
       "        vertical-align: middle;\n",
       "    }\n",
       "\n",
       "    .dataframe tbody tr th {\n",
       "        vertical-align: top;\n",
       "    }\n",
       "\n",
       "    .dataframe thead th {\n",
       "        text-align: right;\n",
       "    }\n",
       "</style>\n",
       "<table border=\"1\" class=\"dataframe\">\n",
       "  <thead>\n",
       "    <tr style=\"text-align: right;\">\n",
       "      <th></th>\n",
       "      <th>purpose_category</th>\n",
       "      <th>purpose_category_grouped</th>\n",
       "      <th>purpose_category_grouped_debt</th>\n",
       "      <th>debt</th>\n",
       "    </tr>\n",
       "  </thead>\n",
       "  <tbody>\n",
       "    <tr>\n",
       "      <th>0</th>\n",
       "      <td>операции с автомобилем</td>\n",
       "      <td>4279</td>\n",
       "      <td>400</td>\n",
       "      <td>0.093480</td>\n",
       "    </tr>\n",
       "    <tr>\n",
       "      <th>1</th>\n",
       "      <td>операции с недвижимостью</td>\n",
       "      <td>10751</td>\n",
       "      <td>780</td>\n",
       "      <td>0.072551</td>\n",
       "    </tr>\n",
       "    <tr>\n",
       "      <th>2</th>\n",
       "      <td>получение образования</td>\n",
       "      <td>3988</td>\n",
       "      <td>369</td>\n",
       "      <td>0.092528</td>\n",
       "    </tr>\n",
       "    <tr>\n",
       "      <th>3</th>\n",
       "      <td>проведение свадьбы</td>\n",
       "      <td>2313</td>\n",
       "      <td>183</td>\n",
       "      <td>0.079118</td>\n",
       "    </tr>\n",
       "  </tbody>\n",
       "</table>\n",
       "</div>"
      ],
      "text/plain": [
       "           purpose_category  purpose_category_grouped  \\\n",
       "0    операции с автомобилем                      4279   \n",
       "1  операции с недвижимостью                     10751   \n",
       "2     получение образования                      3988   \n",
       "3        проведение свадьбы                      2313   \n",
       "\n",
       "   purpose_category_grouped_debt      debt  \n",
       "0                            400  0.093480  \n",
       "1                            780  0.072551  \n",
       "2                            369  0.092528  \n",
       "3                            183  0.079118  "
      ]
     },
     "execution_count": 45,
     "metadata": {},
     "output_type": "execute_result"
    }
   ],
   "source": [
    "data_c_g_pivot = pd.pivot_table(data, index=['purpose_category'], values=['debt'])\n",
    "data_c_g_pivot['purpose_category_grouped']=data['purpose_category'].value_counts()\n",
    "data_c_g_pivot['purpose_category_grouped_debt']=data.groupby('purpose_category')['debt'].sum()\n",
    "data_c_g_pivot_new = data_c_g_pivot.reindex(columns=['purpose_category_grouped', 'purpose_category_grouped_debt','debt'])\n",
    "data_c_g_pivot_new.reset_index()# Ваш код будет здесь. Вы можете создавать новые ячейки."
   ]
  },
  {
   "cell_type": "markdown",
   "id": "4280aa6e",
   "metadata": {},
   "source": [
    "Построим график зависимости невозврата кредита от его цели:"
   ]
  },
  {
   "cell_type": "code",
   "execution_count": 46,
   "id": "b3bd1ebf",
   "metadata": {
    "deletable": false,
    "id": "2b687290"
   },
   "outputs": [
    {
     "data": {
      "text/plain": [
       "Text(0, 0.5, 'Количество невозвратов, отн.')"
      ]
     },
     "execution_count": 46,
     "metadata": {},
     "output_type": "execute_result"
    },
    {
     "data": {
      "image/png": "[encoded data removed]",
      "text/plain": [
       "<Figure size 640x480 with 1 Axes>"
      ]
     },
     "metadata": {},
     "output_type": "display_data"
    }
   ],
   "source": [
    "sns.barplot(\n",
    "    data=data_c_g_pivot_new.reset_index(),\n",
    "    x='purpose_category', \n",
    "    y='debt')\n",
    "plt.xticks(rotation=45)\n",
    "plt.yticks(rotation=45)\n",
    "plt.ylim(0.05,0.10)\n",
    "plt.xlabel('Цель кредита')\n",
    "plt.ylabel('Количество невозвратов, отн.')# Ваш код будет здесь. Вы можете создавать новые ячейки."
   ]
  },
  {
   "cell_type": "markdown",
   "id": "00ffd4d2",
   "metadata": {
    "deletable": false,
    "id": "b4bb2ce6"
   },
   "source": [
    "**Вывод:** Из полученных данных можем сделать следующие выводы:\n",
    "* Чаще всего невозвращают кредиты взятые на операции с автомобилем и получение образования.\n",
    "* По операциям с недвижимостью процент возвратов выше."
   ]
  },
  {
   "cell_type": "markdown",
   "id": "b88fa8c6",
   "metadata": {
    "deletable": false,
    "editable": false,
    "id": "09c3ac4c"
   },
   "source": [
    "#### 3.5 Приведите возможные причины появления пропусков в исходных данных."
   ]
  },
  {
   "cell_type": "markdown",
   "id": "098893ec",
   "metadata": {
    "deletable": false,
    "id": "9da2ceda"
   },
   "source": [
    "*Ответ:* Как видно из [таблицы](#Удаление-пропусков), в столбцах `days_employed` и `total_income` количество пропусков одинаково. Больше похоже на какую-то техническую ошибку."
   ]
  },
  {
   "cell_type": "markdown",
   "id": "95d38181",
   "metadata": {},
   "source": [
    "Посмострим, чему равны минимальные значения в данных столбцах."
   ]
  },
  {
   "cell_type": "code",
   "execution_count": 47,
   "id": "075d2f36",
   "metadata": {},
   "outputs": [
    {
     "name": "stdout",
     "output_type": "stream",
     "text": [
      "24.14163324048118\n",
      "20667\n"
     ]
    }
   ],
   "source": [
    "print(data['days_employed'].min())\n",
    "print(data['total_income'].min())"
   ]
  },
  {
   "cell_type": "markdown",
   "id": "1f169ba6",
   "metadata": {},
   "source": [
    "Как видим, в таблице как-будто нет людей с нулевый уровнем дохода и нулевым стажем. Предположу, что пропущенные данные могли возникнуть из-за того, что при заполнении данных для клиентов с  нулевым стажем и нулевым доходом в таблицу отдается не ноль, а пустая строка."
   ]
  },
  {
   "cell_type": "markdown",
   "id": "7507d148",
   "metadata": {
    "deletable": false,
    "editable": false,
    "id": "7b0487d6"
   },
   "source": [
    "#### 3.6 Объясните, почему заполнить пропуски медианным значением — лучшее решение для количественных переменных."
   ]
  },
  {
   "cell_type": "markdown",
   "id": "61e60f40",
   "metadata": {
    "deletable": false,
    "id": "7ecf2b8e"
   },
   "source": [
    "*Ответ:* Заполенние пропусков в количественных переменных медианным значением позволяет минимизировать искажение общей картины в данных. Если использовать среднее значение, оно может сильно зависеть от выбросов (отдельных аномально больших или малых значений). Использование медианы нивелирует влияние таких выбросов."
   ]
  },
  {
   "cell_type": "markdown",
   "id": "f8e49d15",
   "metadata": {
    "deletable": false,
    "editable": false,
    "id": "6db5255a"
   },
   "source": [
    "### Шаг 4: общий вывод."
   ]
  },
  {
   "cell_type": "markdown",
   "id": "5ce2b205",
   "metadata": {
    "deletable": false,
    "id": "bad65432"
   },
   "source": [
    "На основании полученных данных сформулируем пункты общего вывода:\n",
    "* наименьший процент невозвратов у заемщиков без детей, либо с количеством детей равным трем. Линейной зависимости между количеством детей и вероятностью невозврата кредита не наблюдается;\n",
    "* клиенты не состоящие в браке, либо живущие гражданским браком, чаще не возвращают кредиты;\n",
    "* клиенты с доходом 50000-200000 рублей/месяц имеют наибольшую долю невозвратов кредитов. Клиенты с доходом выше 200000 рубль/месяц реже невозвращают кредиты;\n",
    "* чаще всего невозвращают кредиты взятые на операции с автомобилем и получение образования. По операциям с недвижимостью процент возвратов выше."
   ]
  },
  {
   "cell_type": "code",
   "execution_count": null,
   "id": "103f17ff",
   "metadata": {},
   "outputs": [],
   "source": []
  }
 ],
 "metadata": {
  "ExecuteTimeLog": [
   {
    "duration": 96,
    "start_time": "2022-09-21T21:50:26.613Z"
   },
   {
    "duration": 55,
    "start_time": "2022-09-21T21:50:33.673Z"
   },
   {
    "duration": 583,
    "start_time": "2022-09-21T21:50:41.444Z"
   },
   {
    "duration": 25,
    "start_time": "2022-09-21T21:50:42.030Z"
   },
   {
    "duration": 21,
    "start_time": "2022-09-21T21:50:42.058Z"
   },
   {
    "duration": 29,
    "start_time": "2022-09-21T21:50:42.082Z"
   },
   {
    "duration": 45,
    "start_time": "2022-09-21T21:50:42.120Z"
   },
   {
    "duration": 3,
    "start_time": "2022-09-21T21:50:42.167Z"
   },
   {
    "duration": 10,
    "start_time": "2022-09-21T21:50:42.172Z"
   },
   {
    "duration": 7,
    "start_time": "2022-09-21T21:50:42.184Z"
   },
   {
    "duration": 32,
    "start_time": "2022-09-21T21:50:42.192Z"
   },
   {
    "duration": 5,
    "start_time": "2022-09-21T21:50:42.227Z"
   },
   {
    "duration": 35,
    "start_time": "2022-09-21T21:50:42.233Z"
   },
   {
    "duration": 11,
    "start_time": "2022-09-21T21:50:42.270Z"
   },
   {
    "duration": 5,
    "start_time": "2022-09-21T21:50:42.282Z"
   },
   {
    "duration": 38,
    "start_time": "2022-09-21T21:50:42.290Z"
   },
   {
    "duration": 21,
    "start_time": "2022-09-21T21:50:42.330Z"
   },
   {
    "duration": 18,
    "start_time": "2022-09-21T21:50:42.352Z"
   },
   {
    "duration": 4,
    "start_time": "2022-09-21T21:50:42.371Z"
   },
   {
    "duration": 18,
    "start_time": "2022-09-21T21:50:42.376Z"
   },
   {
    "duration": 17,
    "start_time": "2022-09-21T21:50:42.400Z"
   },
   {
    "duration": 4,
    "start_time": "2022-09-21T21:50:42.419Z"
   },
   {
    "duration": 13,
    "start_time": "2022-09-21T21:50:42.424Z"
   },
   {
    "duration": 26,
    "start_time": "2022-09-21T21:50:42.439Z"
   },
   {
    "duration": 1007,
    "start_time": "2022-09-21T21:50:42.467Z"
   },
   {
    "duration": 3,
    "start_time": "2022-09-21T21:50:43.476Z"
   },
   {
    "duration": 32,
    "start_time": "2022-09-21T21:50:43.489Z"
   },
   {
    "duration": 8,
    "start_time": "2022-09-21T21:50:43.523Z"
   },
   {
    "duration": 17,
    "start_time": "2022-09-21T21:52:16.213Z"
   },
   {
    "duration": 13,
    "start_time": "2022-09-21T21:54:19.541Z"
   },
   {
    "duration": 82,
    "start_time": "2022-09-21T21:57:25.679Z"
   },
   {
    "duration": 17,
    "start_time": "2022-09-21T21:57:56.271Z"
   },
   {
    "duration": 5,
    "start_time": "2022-09-21T21:57:57.389Z"
   },
   {
    "duration": 14,
    "start_time": "2022-09-21T21:58:05.814Z"
   },
   {
    "duration": 14,
    "start_time": "2022-09-21T22:02:58.410Z"
   },
   {
    "duration": 13,
    "start_time": "2022-09-21T22:03:17.515Z"
   },
   {
    "duration": 101,
    "start_time": "2022-09-21T22:03:29.368Z"
   },
   {
    "duration": 15,
    "start_time": "2022-09-21T22:03:29.471Z"
   },
   {
    "duration": 46,
    "start_time": "2022-09-21T22:03:29.487Z"
   },
   {
    "duration": 10,
    "start_time": "2022-09-21T22:03:29.536Z"
   },
   {
    "duration": 43,
    "start_time": "2022-09-21T22:03:29.547Z"
   },
   {
    "duration": 4,
    "start_time": "2022-09-21T22:03:29.593Z"
   },
   {
    "duration": 13,
    "start_time": "2022-09-21T22:03:29.599Z"
   },
   {
    "duration": 17,
    "start_time": "2022-09-21T22:03:29.614Z"
   },
   {
    "duration": 11,
    "start_time": "2022-09-21T22:03:29.633Z"
   },
   {
    "duration": 9,
    "start_time": "2022-09-21T22:03:29.646Z"
   },
   {
    "duration": 58,
    "start_time": "2022-09-21T22:03:29.657Z"
   },
   {
    "duration": 12,
    "start_time": "2022-09-21T22:03:29.717Z"
   },
   {
    "duration": 10,
    "start_time": "2022-09-21T22:03:29.730Z"
   },
   {
    "duration": 18,
    "start_time": "2022-09-21T22:03:29.742Z"
   },
   {
    "duration": 24,
    "start_time": "2022-09-21T22:03:29.761Z"
   },
   {
    "duration": 34,
    "start_time": "2022-09-21T22:03:29.787Z"
   },
   {
    "duration": 17,
    "start_time": "2022-09-21T22:03:29.823Z"
   },
   {
    "duration": 16,
    "start_time": "2022-09-21T22:03:29.841Z"
   },
   {
    "duration": 17,
    "start_time": "2022-09-21T22:03:29.858Z"
   },
   {
    "duration": 5,
    "start_time": "2022-09-21T22:03:29.877Z"
   },
   {
    "duration": 42,
    "start_time": "2022-09-21T22:03:29.884Z"
   },
   {
    "duration": 19,
    "start_time": "2022-09-21T22:03:29.928Z"
   },
   {
    "duration": 0,
    "start_time": "2022-09-21T22:03:29.948Z"
   },
   {
    "duration": 0,
    "start_time": "2022-09-21T22:03:29.950Z"
   },
   {
    "duration": 0,
    "start_time": "2022-09-21T22:03:29.951Z"
   },
   {
    "duration": 0,
    "start_time": "2022-09-21T22:03:29.952Z"
   },
   {
    "duration": 0,
    "start_time": "2022-09-21T22:03:29.953Z"
   },
   {
    "duration": 9,
    "start_time": "2022-09-21T22:04:50.882Z"
   },
   {
    "duration": 8,
    "start_time": "2022-09-21T22:08:53.785Z"
   },
   {
    "duration": 21,
    "start_time": "2022-09-21T22:11:36.078Z"
   },
   {
    "duration": 86,
    "start_time": "2022-09-21T22:11:50.560Z"
   },
   {
    "duration": 17,
    "start_time": "2022-09-21T22:11:50.648Z"
   },
   {
    "duration": 56,
    "start_time": "2022-09-21T22:11:50.666Z"
   },
   {
    "duration": 13,
    "start_time": "2022-09-21T22:11:50.725Z"
   },
   {
    "duration": 42,
    "start_time": "2022-09-21T22:11:50.740Z"
   },
   {
    "duration": 17,
    "start_time": "2022-09-21T22:11:50.784Z"
   },
   {
    "duration": 17,
    "start_time": "2022-09-21T22:11:50.804Z"
   },
   {
    "duration": 7,
    "start_time": "2022-09-21T22:11:50.825Z"
   },
   {
    "duration": 10,
    "start_time": "2022-09-21T22:11:50.835Z"
   },
   {
    "duration": 5,
    "start_time": "2022-09-21T22:11:50.848Z"
   },
   {
    "duration": 57,
    "start_time": "2022-09-21T22:11:50.855Z"
   },
   {
    "duration": 13,
    "start_time": "2022-09-21T22:11:50.914Z"
   },
   {
    "duration": 4,
    "start_time": "2022-09-21T22:11:50.929Z"
   },
   {
    "duration": 14,
    "start_time": "2022-09-21T22:11:50.935Z"
   },
   {
    "duration": 43,
    "start_time": "2022-09-21T22:11:50.951Z"
   },
   {
    "duration": 28,
    "start_time": "2022-09-21T22:11:50.998Z"
   },
   {
    "duration": 4,
    "start_time": "2022-09-21T22:11:51.029Z"
   },
   {
    "duration": 13,
    "start_time": "2022-09-21T22:11:51.035Z"
   },
   {
    "duration": 7,
    "start_time": "2022-09-21T22:11:51.050Z"
   },
   {
    "duration": 4,
    "start_time": "2022-09-21T22:11:51.060Z"
   },
   {
    "duration": 15,
    "start_time": "2022-09-21T22:11:51.092Z"
   },
   {
    "duration": 14,
    "start_time": "2022-09-21T22:11:51.110Z"
   },
   {
    "duration": 15,
    "start_time": "2022-09-21T22:11:51.126Z"
   },
   {
    "duration": 0,
    "start_time": "2022-09-21T22:11:51.143Z"
   },
   {
    "duration": 0,
    "start_time": "2022-09-21T22:11:51.144Z"
   },
   {
    "duration": 0,
    "start_time": "2022-09-21T22:11:51.145Z"
   },
   {
    "duration": 0,
    "start_time": "2022-09-21T22:11:51.146Z"
   },
   {
    "duration": 0,
    "start_time": "2022-09-21T22:11:51.147Z"
   },
   {
    "duration": 11,
    "start_time": "2022-09-21T22:16:10.777Z"
   },
   {
    "duration": 11,
    "start_time": "2022-09-21T22:18:59.962Z"
   },
   {
    "duration": 0,
    "start_time": "2022-09-21T22:23:18.261Z"
   },
   {
    "duration": 7121,
    "start_time": "2022-09-21T22:23:24.583Z"
   },
   {
    "duration": 23,
    "start_time": "2022-09-21T22:24:04.380Z"
   },
   {
    "duration": 7,
    "start_time": "2022-09-21T22:24:21.044Z"
   },
   {
    "duration": 10,
    "start_time": "2022-09-21T22:24:49.000Z"
   },
   {
    "duration": 6,
    "start_time": "2022-09-21T22:24:54.302Z"
   },
   {
    "duration": 7,
    "start_time": "2022-09-21T22:25:04.101Z"
   },
   {
    "duration": 7,
    "start_time": "2022-09-21T22:25:25.113Z"
   },
   {
    "duration": 6,
    "start_time": "2022-09-21T22:25:28.668Z"
   },
   {
    "duration": 23,
    "start_time": "2022-09-21T22:25:49.778Z"
   },
   {
    "duration": 5,
    "start_time": "2022-09-21T22:40:14.402Z"
   },
   {
    "duration": 8,
    "start_time": "2022-09-21T22:44:49.107Z"
   },
   {
    "duration": 7,
    "start_time": "2022-09-21T22:46:18.841Z"
   },
   {
    "duration": 5,
    "start_time": "2022-09-21T22:46:44.421Z"
   },
   {
    "duration": 15,
    "start_time": "2022-09-21T22:47:08.004Z"
   },
   {
    "duration": 72,
    "start_time": "2022-09-21T22:47:54.497Z"
   },
   {
    "duration": 141,
    "start_time": "2022-09-21T22:53:46.862Z"
   },
   {
    "duration": 189,
    "start_time": "2022-09-21T22:53:57.290Z"
   },
   {
    "duration": 138,
    "start_time": "2022-09-21T22:54:07.514Z"
   },
   {
    "duration": 15,
    "start_time": "2022-09-21T22:55:07.088Z"
   },
   {
    "duration": 13,
    "start_time": "2022-09-21T22:55:46.050Z"
   },
   {
    "duration": 78,
    "start_time": "2022-09-21T22:57:23.347Z"
   },
   {
    "duration": 15,
    "start_time": "2022-09-21T22:57:23.427Z"
   },
   {
    "duration": 17,
    "start_time": "2022-09-21T22:57:23.444Z"
   },
   {
    "duration": 36,
    "start_time": "2022-09-21T22:57:23.462Z"
   },
   {
    "duration": 37,
    "start_time": "2022-09-21T22:57:23.500Z"
   },
   {
    "duration": 4,
    "start_time": "2022-09-21T22:57:23.538Z"
   },
   {
    "duration": 12,
    "start_time": "2022-09-21T22:57:23.544Z"
   },
   {
    "duration": 33,
    "start_time": "2022-09-21T22:57:23.558Z"
   },
   {
    "duration": 10,
    "start_time": "2022-09-21T22:57:23.593Z"
   },
   {
    "duration": 9,
    "start_time": "2022-09-21T22:57:23.606Z"
   },
   {
    "duration": 40,
    "start_time": "2022-09-21T22:57:23.617Z"
   },
   {
    "duration": 9,
    "start_time": "2022-09-21T22:57:23.659Z"
   },
   {
    "duration": 19,
    "start_time": "2022-09-21T22:57:23.670Z"
   },
   {
    "duration": 11,
    "start_time": "2022-09-21T22:57:23.691Z"
   },
   {
    "duration": 29,
    "start_time": "2022-09-21T22:57:23.704Z"
   },
   {
    "duration": 18,
    "start_time": "2022-09-21T22:57:23.735Z"
   },
   {
    "duration": 3,
    "start_time": "2022-09-21T22:57:23.755Z"
   },
   {
    "duration": 30,
    "start_time": "2022-09-21T22:57:23.760Z"
   },
   {
    "duration": 6,
    "start_time": "2022-09-21T22:57:23.791Z"
   },
   {
    "duration": 5,
    "start_time": "2022-09-21T22:57:23.799Z"
   },
   {
    "duration": 32,
    "start_time": "2022-09-21T22:57:23.806Z"
   },
   {
    "duration": 7,
    "start_time": "2022-09-21T22:57:23.841Z"
   },
   {
    "duration": 23,
    "start_time": "2022-09-21T22:57:23.850Z"
   },
   {
    "duration": 7,
    "start_time": "2022-09-21T22:57:23.875Z"
   },
   {
    "duration": 25,
    "start_time": "2022-09-21T22:57:23.889Z"
   },
   {
    "duration": 3,
    "start_time": "2022-09-21T22:57:23.915Z"
   },
   {
    "duration": 18,
    "start_time": "2022-09-21T22:57:23.920Z"
   },
   {
    "duration": 0,
    "start_time": "2022-09-21T22:57:23.940Z"
   },
   {
    "duration": 0,
    "start_time": "2022-09-21T22:57:23.941Z"
   },
   {
    "duration": 0,
    "start_time": "2022-09-21T22:57:23.942Z"
   },
   {
    "duration": 13,
    "start_time": "2022-09-21T22:57:42.684Z"
   },
   {
    "duration": 135,
    "start_time": "2022-09-21T22:58:12.724Z"
   },
   {
    "duration": 142,
    "start_time": "2022-09-21T22:58:28.472Z"
   },
   {
    "duration": 3,
    "start_time": "2022-09-21T22:59:46.102Z"
   },
   {
    "duration": 127,
    "start_time": "2022-09-21T22:59:47.117Z"
   },
   {
    "duration": 94,
    "start_time": "2022-09-21T23:04:40.551Z"
   },
   {
    "duration": 17,
    "start_time": "2022-09-21T23:05:50.608Z"
   },
   {
    "duration": 15,
    "start_time": "2022-09-21T23:06:29.592Z"
   },
   {
    "duration": 16,
    "start_time": "2022-09-21T23:06:47.143Z"
   },
   {
    "duration": 150,
    "start_time": "2022-09-21T23:07:25.432Z"
   },
   {
    "duration": 18,
    "start_time": "2022-09-21T23:09:41.031Z"
   },
   {
    "duration": 160,
    "start_time": "2022-09-21T23:09:42.089Z"
   },
   {
    "duration": 205,
    "start_time": "2022-09-21T23:10:17.166Z"
   },
   {
    "duration": 14,
    "start_time": "2022-09-21T23:12:27.648Z"
   },
   {
    "duration": 14,
    "start_time": "2022-09-21T23:13:05.262Z"
   },
   {
    "duration": 144,
    "start_time": "2022-09-21T23:13:26.319Z"
   },
   {
    "duration": 18,
    "start_time": "2022-09-21T23:13:41.947Z"
   },
   {
    "duration": 50,
    "start_time": "2022-09-22T21:02:41.888Z"
   },
   {
    "duration": 453,
    "start_time": "2022-09-22T21:02:50.103Z"
   },
   {
    "duration": 20,
    "start_time": "2022-09-22T21:02:50.558Z"
   },
   {
    "duration": 14,
    "start_time": "2022-09-22T21:02:50.579Z"
   },
   {
    "duration": 9,
    "start_time": "2022-09-22T21:02:50.594Z"
   },
   {
    "duration": 50,
    "start_time": "2022-09-22T21:02:50.604Z"
   },
   {
    "duration": 3,
    "start_time": "2022-09-22T21:02:50.656Z"
   },
   {
    "duration": 12,
    "start_time": "2022-09-22T21:02:50.660Z"
   },
   {
    "duration": 4,
    "start_time": "2022-09-22T21:02:50.674Z"
   },
   {
    "duration": 8,
    "start_time": "2022-09-22T21:02:50.679Z"
   },
   {
    "duration": 3,
    "start_time": "2022-09-22T21:02:50.690Z"
   },
   {
    "duration": 54,
    "start_time": "2022-09-22T21:02:50.694Z"
   },
   {
    "duration": 9,
    "start_time": "2022-09-22T21:02:50.750Z"
   },
   {
    "duration": 15,
    "start_time": "2022-09-22T21:02:50.760Z"
   },
   {
    "duration": 17,
    "start_time": "2022-09-22T21:02:50.777Z"
   },
   {
    "duration": 18,
    "start_time": "2022-09-22T21:02:50.796Z"
   },
   {
    "duration": 20,
    "start_time": "2022-09-22T21:02:50.816Z"
   },
   {
    "duration": 4,
    "start_time": "2022-09-22T21:02:50.837Z"
   },
   {
    "duration": 15,
    "start_time": "2022-09-22T21:02:50.842Z"
   },
   {
    "duration": 11,
    "start_time": "2022-09-22T21:02:50.858Z"
   },
   {
    "duration": 6,
    "start_time": "2022-09-22T21:02:50.870Z"
   },
   {
    "duration": 14,
    "start_time": "2022-09-22T21:02:50.878Z"
   },
   {
    "duration": 6,
    "start_time": "2022-09-22T21:02:50.893Z"
   },
   {
    "duration": 7,
    "start_time": "2022-09-22T21:02:50.901Z"
   },
   {
    "duration": 4,
    "start_time": "2022-09-22T21:02:50.933Z"
   },
   {
    "duration": 22,
    "start_time": "2022-09-22T21:02:50.939Z"
   },
   {
    "duration": 681,
    "start_time": "2022-09-22T21:02:50.962Z"
   },
   {
    "duration": 153,
    "start_time": "2022-09-22T21:02:51.645Z"
   },
   {
    "duration": 15,
    "start_time": "2022-09-22T21:02:51.802Z"
   },
   {
    "duration": 154,
    "start_time": "2022-09-22T21:02:51.819Z"
   },
   {
    "duration": 3,
    "start_time": "2022-09-22T21:02:51.975Z"
   },
   {
    "duration": 7,
    "start_time": "2022-09-22T21:02:51.980Z"
   },
   {
    "duration": 6,
    "start_time": "2022-09-22T21:06:53.145Z"
   },
   {
    "duration": 175,
    "start_time": "2022-09-22T21:10:47.768Z"
   },
   {
    "duration": 126,
    "start_time": "2022-09-22T21:11:29.601Z"
   },
   {
    "duration": 17,
    "start_time": "2022-09-22T21:15:54.322Z"
   },
   {
    "duration": 116,
    "start_time": "2022-09-22T21:16:03.103Z"
   },
   {
    "duration": 132,
    "start_time": "2022-09-22T21:16:50.273Z"
   },
   {
    "duration": 9,
    "start_time": "2022-09-22T21:20:56.567Z"
   },
   {
    "duration": 127,
    "start_time": "2022-09-22T21:21:12.446Z"
   },
   {
    "duration": 85,
    "start_time": "2022-09-22T21:25:23.072Z"
   },
   {
    "duration": 71,
    "start_time": "2022-09-22T21:25:32.414Z"
   },
   {
    "duration": 8,
    "start_time": "2022-09-22T21:25:49.372Z"
   },
   {
    "duration": 15,
    "start_time": "2022-09-22T21:26:10.394Z"
   },
   {
    "duration": 10,
    "start_time": "2022-09-22T21:31:15.330Z"
   },
   {
    "duration": 46,
    "start_time": "2022-09-22T21:31:42.941Z"
   },
   {
    "duration": 8,
    "start_time": "2022-09-22T21:32:15.064Z"
   },
   {
    "duration": 6,
    "start_time": "2022-09-22T21:33:05.154Z"
   },
   {
    "duration": 6,
    "start_time": "2022-09-22T21:33:11.897Z"
   },
   {
    "duration": 9,
    "start_time": "2022-09-22T21:33:26.324Z"
   },
   {
    "duration": 125,
    "start_time": "2022-09-22T21:36:00.447Z"
   },
   {
    "duration": 130,
    "start_time": "2022-09-22T21:36:05.548Z"
   },
   {
    "duration": 124,
    "start_time": "2022-09-22T21:36:53.651Z"
   },
   {
    "duration": 190,
    "start_time": "2022-09-22T21:43:44.735Z"
   },
   {
    "duration": 12,
    "start_time": "2022-09-22T21:44:03.466Z"
   },
   {
    "duration": 135,
    "start_time": "2022-09-22T21:45:40.423Z"
   },
   {
    "duration": 125,
    "start_time": "2022-09-22T21:49:38.521Z"
   },
   {
    "duration": 108,
    "start_time": "2022-09-22T21:50:01.059Z"
   },
   {
    "duration": 148,
    "start_time": "2022-09-22T21:50:44.632Z"
   },
   {
    "duration": 18,
    "start_time": "2022-09-22T21:56:23.046Z"
   },
   {
    "duration": 84,
    "start_time": "2022-09-22T21:56:49.372Z"
   },
   {
    "duration": 14,
    "start_time": "2022-09-22T21:56:49.459Z"
   },
   {
    "duration": 24,
    "start_time": "2022-09-22T21:56:49.475Z"
   },
   {
    "duration": 12,
    "start_time": "2022-09-22T21:56:49.502Z"
   },
   {
    "duration": 47,
    "start_time": "2022-09-22T21:56:49.516Z"
   },
   {
    "duration": 4,
    "start_time": "2022-09-22T21:56:49.564Z"
   },
   {
    "duration": 10,
    "start_time": "2022-09-22T21:56:49.570Z"
   },
   {
    "duration": 5,
    "start_time": "2022-09-22T21:56:49.581Z"
   },
   {
    "duration": 8,
    "start_time": "2022-09-22T21:56:49.588Z"
   },
   {
    "duration": 5,
    "start_time": "2022-09-22T21:56:49.599Z"
   },
   {
    "duration": 43,
    "start_time": "2022-09-22T21:56:49.634Z"
   },
   {
    "duration": 14,
    "start_time": "2022-09-22T21:56:49.679Z"
   },
   {
    "duration": 15,
    "start_time": "2022-09-22T21:56:49.694Z"
   },
   {
    "duration": 30,
    "start_time": "2022-09-22T21:56:49.711Z"
   },
   {
    "duration": 23,
    "start_time": "2022-09-22T21:56:49.743Z"
   },
   {
    "duration": 22,
    "start_time": "2022-09-22T21:56:49.768Z"
   },
   {
    "duration": 4,
    "start_time": "2022-09-22T21:56:49.791Z"
   },
   {
    "duration": 15,
    "start_time": "2022-09-22T21:56:49.797Z"
   },
   {
    "duration": 20,
    "start_time": "2022-09-22T21:56:49.814Z"
   },
   {
    "duration": 3,
    "start_time": "2022-09-22T21:56:49.835Z"
   },
   {
    "duration": 15,
    "start_time": "2022-09-22T21:56:49.840Z"
   },
   {
    "duration": 9,
    "start_time": "2022-09-22T21:56:49.856Z"
   },
   {
    "duration": 7,
    "start_time": "2022-09-22T21:56:49.866Z"
   },
   {
    "duration": 5,
    "start_time": "2022-09-22T21:56:49.874Z"
   },
   {
    "duration": 16,
    "start_time": "2022-09-22T21:56:49.881Z"
   },
   {
    "duration": 3,
    "start_time": "2022-09-22T21:56:49.898Z"
   },
   {
    "duration": 153,
    "start_time": "2022-09-22T21:56:49.902Z"
   },
   {
    "duration": 7,
    "start_time": "2022-09-22T21:56:50.058Z"
   },
   {
    "duration": 21,
    "start_time": "2022-09-22T21:56:50.066Z"
   },
   {
    "duration": 167,
    "start_time": "2022-09-22T21:56:50.089Z"
   },
   {
    "duration": 17,
    "start_time": "2022-09-22T21:56:50.257Z"
   },
   {
    "duration": 0,
    "start_time": "2022-09-22T21:56:50.276Z"
   },
   {
    "duration": 13,
    "start_time": "2022-09-22T21:57:17.521Z"
   },
   {
    "duration": 13,
    "start_time": "2022-09-22T21:57:40.417Z"
   },
   {
    "duration": 4,
    "start_time": "2022-09-22T22:02:05.644Z"
   },
   {
    "duration": 5,
    "start_time": "2022-09-22T22:03:42.872Z"
   },
   {
    "duration": 4,
    "start_time": "2022-09-22T22:03:54.325Z"
   },
   {
    "duration": 5,
    "start_time": "2022-09-22T22:04:07.151Z"
   },
   {
    "duration": 5,
    "start_time": "2022-09-22T22:04:32.130Z"
   },
   {
    "duration": 15,
    "start_time": "2022-09-22T22:06:16.213Z"
   },
   {
    "duration": 10,
    "start_time": "2022-09-22T22:06:42.968Z"
   },
   {
    "duration": 6,
    "start_time": "2022-09-22T22:08:26.568Z"
   },
   {
    "duration": 2,
    "start_time": "2022-09-22T22:08:44.169Z"
   },
   {
    "duration": 143,
    "start_time": "2022-09-22T22:23:39.583Z"
   },
   {
    "duration": 1255,
    "start_time": "2022-09-22T22:41:25.720Z"
   },
   {
    "duration": 1006,
    "start_time": "2022-09-22T22:42:38.344Z"
   },
   {
    "duration": 852,
    "start_time": "2022-09-22T22:43:39.042Z"
   },
   {
    "duration": 70,
    "start_time": "2022-09-22T22:43:57.225Z"
   },
   {
    "duration": 14,
    "start_time": "2022-09-22T22:43:57.297Z"
   },
   {
    "duration": 16,
    "start_time": "2022-09-22T22:43:57.312Z"
   },
   {
    "duration": 8,
    "start_time": "2022-09-22T22:43:57.333Z"
   },
   {
    "duration": 33,
    "start_time": "2022-09-22T22:43:57.343Z"
   },
   {
    "duration": 3,
    "start_time": "2022-09-22T22:43:57.378Z"
   },
   {
    "duration": 18,
    "start_time": "2022-09-22T22:43:57.383Z"
   },
   {
    "duration": 11,
    "start_time": "2022-09-22T22:43:57.403Z"
   },
   {
    "duration": 7,
    "start_time": "2022-09-22T22:43:57.416Z"
   },
   {
    "duration": 16,
    "start_time": "2022-09-22T22:43:57.433Z"
   },
   {
    "duration": 38,
    "start_time": "2022-09-22T22:43:57.451Z"
   },
   {
    "duration": 9,
    "start_time": "2022-09-22T22:43:57.490Z"
   },
   {
    "duration": 5,
    "start_time": "2022-09-22T22:43:57.501Z"
   },
   {
    "duration": 13,
    "start_time": "2022-09-22T22:43:57.508Z"
   },
   {
    "duration": 28,
    "start_time": "2022-09-22T22:43:57.522Z"
   },
   {
    "duration": 15,
    "start_time": "2022-09-22T22:43:57.552Z"
   },
   {
    "duration": 12,
    "start_time": "2022-09-22T22:43:57.569Z"
   },
   {
    "duration": 22,
    "start_time": "2022-09-22T22:43:57.583Z"
   },
   {
    "duration": 5,
    "start_time": "2022-09-22T22:43:57.606Z"
   },
   {
    "duration": 11,
    "start_time": "2022-09-22T22:43:57.613Z"
   },
   {
    "duration": 10,
    "start_time": "2022-09-22T22:43:57.625Z"
   },
   {
    "duration": 5,
    "start_time": "2022-09-22T22:43:57.636Z"
   },
   {
    "duration": 6,
    "start_time": "2022-09-22T22:43:57.642Z"
   },
   {
    "duration": 5,
    "start_time": "2022-09-22T22:43:57.649Z"
   },
   {
    "duration": 19,
    "start_time": "2022-09-22T22:43:57.655Z"
   },
   {
    "duration": 2,
    "start_time": "2022-09-22T22:43:57.676Z"
   },
   {
    "duration": 140,
    "start_time": "2022-09-22T22:43:57.679Z"
   },
   {
    "duration": 13,
    "start_time": "2022-09-22T22:43:57.821Z"
   },
   {
    "duration": 16,
    "start_time": "2022-09-22T22:43:57.835Z"
   },
   {
    "duration": 142,
    "start_time": "2022-09-22T22:43:57.852Z"
   },
   {
    "duration": 6,
    "start_time": "2022-09-22T22:43:57.995Z"
   },
   {
    "duration": 750,
    "start_time": "2022-09-22T22:43:58.003Z"
   },
   {
    "duration": 0,
    "start_time": "2022-09-22T22:43:58.755Z"
   },
   {
    "duration": 0,
    "start_time": "2022-09-22T22:43:58.756Z"
   },
   {
    "duration": 20,
    "start_time": "2022-09-22T22:45:37.944Z"
   },
   {
    "duration": 22,
    "start_time": "2022-09-22T22:45:57.928Z"
   },
   {
    "duration": 13,
    "start_time": "2022-09-22T22:46:52.654Z"
   },
   {
    "duration": 15,
    "start_time": "2022-09-22T22:48:15.454Z"
   },
   {
    "duration": 21,
    "start_time": "2022-09-22T22:49:31.450Z"
   },
   {
    "duration": 21,
    "start_time": "2022-09-22T22:49:48.559Z"
   },
   {
    "duration": 15,
    "start_time": "2022-09-22T22:50:40.431Z"
   },
   {
    "duration": 11,
    "start_time": "2022-09-22T22:51:56.628Z"
   },
   {
    "duration": 7,
    "start_time": "2022-09-22T22:52:05.435Z"
   },
   {
    "duration": 45,
    "start_time": "2022-09-22T22:57:43.724Z"
   },
   {
    "duration": 7,
    "start_time": "2022-09-22T22:59:03.009Z"
   },
   {
    "duration": 15,
    "start_time": "2022-09-22T23:00:51.329Z"
   },
   {
    "duration": 13,
    "start_time": "2022-09-22T23:01:47.023Z"
   },
   {
    "duration": 15,
    "start_time": "2022-09-22T23:02:09.902Z"
   },
   {
    "duration": 15,
    "start_time": "2022-09-22T23:02:14.393Z"
   },
   {
    "duration": 15,
    "start_time": "2022-09-22T23:03:17.160Z"
   },
   {
    "duration": 15,
    "start_time": "2022-09-22T23:03:33.392Z"
   },
   {
    "duration": 15,
    "start_time": "2022-09-22T23:04:42.370Z"
   },
   {
    "duration": 136,
    "start_time": "2022-09-22T23:05:12.563Z"
   },
   {
    "duration": 15,
    "start_time": "2022-09-22T23:06:58.153Z"
   },
   {
    "duration": 141,
    "start_time": "2022-09-22T23:07:59.996Z"
   },
   {
    "duration": 5,
    "start_time": "2022-09-22T23:08:43.399Z"
   },
   {
    "duration": 22,
    "start_time": "2022-09-22T23:10:04.069Z"
   },
   {
    "duration": 25,
    "start_time": "2022-09-22T23:10:23.835Z"
   },
   {
    "duration": 25,
    "start_time": "2022-09-22T23:12:02.460Z"
   },
   {
    "duration": 24,
    "start_time": "2022-09-22T23:12:13.175Z"
   },
   {
    "duration": 31,
    "start_time": "2022-09-22T23:12:17.905Z"
   },
   {
    "duration": 16,
    "start_time": "2022-09-22T23:13:07.429Z"
   },
   {
    "duration": 72,
    "start_time": "2022-09-22T23:13:11.030Z"
   },
   {
    "duration": 14,
    "start_time": "2022-09-22T23:13:11.104Z"
   },
   {
    "duration": 15,
    "start_time": "2022-09-22T23:13:11.119Z"
   },
   {
    "duration": 9,
    "start_time": "2022-09-22T23:13:11.136Z"
   },
   {
    "duration": 30,
    "start_time": "2022-09-22T23:13:11.147Z"
   },
   {
    "duration": 3,
    "start_time": "2022-09-22T23:13:11.178Z"
   },
   {
    "duration": 15,
    "start_time": "2022-09-22T23:13:11.182Z"
   },
   {
    "duration": 4,
    "start_time": "2022-09-22T23:13:11.198Z"
   },
   {
    "duration": 32,
    "start_time": "2022-09-22T23:13:11.203Z"
   },
   {
    "duration": 4,
    "start_time": "2022-09-22T23:13:11.238Z"
   },
   {
    "duration": 36,
    "start_time": "2022-09-22T23:13:11.243Z"
   },
   {
    "duration": 10,
    "start_time": "2022-09-22T23:13:11.280Z"
   },
   {
    "duration": 5,
    "start_time": "2022-09-22T23:13:11.292Z"
   },
   {
    "duration": 16,
    "start_time": "2022-09-22T23:13:11.298Z"
   },
   {
    "duration": 17,
    "start_time": "2022-09-22T23:13:11.334Z"
   },
   {
    "duration": 15,
    "start_time": "2022-09-22T23:13:11.353Z"
   },
   {
    "duration": 3,
    "start_time": "2022-09-22T23:13:11.370Z"
   },
   {
    "duration": 20,
    "start_time": "2022-09-22T23:13:11.374Z"
   },
   {
    "duration": 5,
    "start_time": "2022-09-22T23:13:11.396Z"
   },
   {
    "duration": 4,
    "start_time": "2022-09-22T23:13:11.403Z"
   },
   {
    "duration": 27,
    "start_time": "2022-09-22T23:13:11.409Z"
   },
   {
    "duration": 9,
    "start_time": "2022-09-22T23:13:11.437Z"
   },
   {
    "duration": 11,
    "start_time": "2022-09-22T23:13:11.447Z"
   },
   {
    "duration": 5,
    "start_time": "2022-09-22T23:13:11.459Z"
   },
   {
    "duration": 21,
    "start_time": "2022-09-22T23:13:11.465Z"
   },
   {
    "duration": 2,
    "start_time": "2022-09-22T23:13:11.488Z"
   },
   {
    "duration": 151,
    "start_time": "2022-09-22T23:13:11.491Z"
   },
   {
    "duration": 8,
    "start_time": "2022-09-22T23:13:11.645Z"
   },
   {
    "duration": 20,
    "start_time": "2022-09-22T23:13:11.654Z"
   },
   {
    "duration": 149,
    "start_time": "2022-09-22T23:13:11.675Z"
   },
   {
    "duration": 10,
    "start_time": "2022-09-22T23:13:11.826Z"
   },
   {
    "duration": 15,
    "start_time": "2022-09-22T23:13:11.838Z"
   },
   {
    "duration": 11,
    "start_time": "2022-09-22T23:13:11.855Z"
   },
   {
    "duration": 24,
    "start_time": "2022-09-22T23:13:11.868Z"
   },
   {
    "duration": 26,
    "start_time": "2022-09-22T23:13:11.893Z"
   },
   {
    "duration": 223,
    "start_time": "2022-09-22T23:13:11.921Z"
   },
   {
    "duration": 2,
    "start_time": "2022-09-22T23:13:12.146Z"
   },
   {
    "duration": 139,
    "start_time": "2022-09-22T23:14:37.248Z"
   },
   {
    "duration": 135,
    "start_time": "2022-09-22T23:15:44.545Z"
   },
   {
    "duration": 151,
    "start_time": "2022-09-22T23:16:00.132Z"
   },
   {
    "duration": 6,
    "start_time": "2022-09-22T23:20:32.273Z"
   },
   {
    "duration": 7,
    "start_time": "2022-09-22T23:22:19.255Z"
   },
   {
    "duration": 14,
    "start_time": "2022-09-22T23:23:00.141Z"
   },
   {
    "duration": 132,
    "start_time": "2022-09-22T23:23:46.287Z"
   },
   {
    "duration": 72,
    "start_time": "2022-09-24T23:06:31.537Z"
   },
   {
    "duration": 740,
    "start_time": "2022-09-24T23:06:38.364Z"
   },
   {
    "duration": 23,
    "start_time": "2022-09-24T23:06:39.105Z"
   },
   {
    "duration": 13,
    "start_time": "2022-09-24T23:06:39.130Z"
   },
   {
    "duration": 9,
    "start_time": "2022-09-24T23:06:39.145Z"
   },
   {
    "duration": 34,
    "start_time": "2022-09-24T23:06:39.156Z"
   },
   {
    "duration": 4,
    "start_time": "2022-09-24T23:06:39.191Z"
   },
   {
    "duration": 12,
    "start_time": "2022-09-24T23:06:39.196Z"
   },
   {
    "duration": 4,
    "start_time": "2022-09-24T23:06:39.210Z"
   },
   {
    "duration": 9,
    "start_time": "2022-09-24T23:06:39.216Z"
   },
   {
    "duration": 26,
    "start_time": "2022-09-24T23:06:39.228Z"
   },
   {
    "duration": 33,
    "start_time": "2022-09-24T23:06:39.256Z"
   },
   {
    "duration": 10,
    "start_time": "2022-09-24T23:06:39.290Z"
   },
   {
    "duration": 4,
    "start_time": "2022-09-24T23:06:39.301Z"
   },
   {
    "duration": 13,
    "start_time": "2022-09-24T23:06:39.306Z"
   },
   {
    "duration": 45,
    "start_time": "2022-09-24T23:06:39.320Z"
   },
   {
    "duration": 18,
    "start_time": "2022-09-24T23:06:39.367Z"
   },
   {
    "duration": 3,
    "start_time": "2022-09-24T23:06:39.387Z"
   },
   {
    "duration": 14,
    "start_time": "2022-09-24T23:06:39.392Z"
   },
   {
    "duration": 21,
    "start_time": "2022-09-24T23:06:39.408Z"
   },
   {
    "duration": 5,
    "start_time": "2022-09-24T23:06:39.431Z"
   },
   {
    "duration": 18,
    "start_time": "2022-09-24T23:06:39.438Z"
   },
   {
    "duration": 5,
    "start_time": "2022-09-24T23:06:39.458Z"
   },
   {
    "duration": 11,
    "start_time": "2022-09-24T23:06:39.464Z"
   },
   {
    "duration": 5,
    "start_time": "2022-09-24T23:06:39.476Z"
   },
   {
    "duration": 18,
    "start_time": "2022-09-24T23:06:39.482Z"
   },
   {
    "duration": 986,
    "start_time": "2022-09-24T23:06:39.501Z"
   },
   {
    "duration": 156,
    "start_time": "2022-09-24T23:06:40.489Z"
   },
   {
    "duration": 10,
    "start_time": "2022-09-24T23:06:40.656Z"
   },
   {
    "duration": 30,
    "start_time": "2022-09-24T23:06:40.668Z"
   },
   {
    "duration": 172,
    "start_time": "2022-09-24T23:06:40.700Z"
   },
   {
    "duration": 6,
    "start_time": "2022-09-24T23:06:40.874Z"
   },
   {
    "duration": 15,
    "start_time": "2022-09-24T23:06:40.882Z"
   },
   {
    "duration": 12,
    "start_time": "2022-09-24T23:06:40.898Z"
   },
   {
    "duration": 16,
    "start_time": "2022-09-24T23:06:40.912Z"
   },
   {
    "duration": 40,
    "start_time": "2022-09-24T23:06:40.929Z"
   },
   {
    "duration": 164,
    "start_time": "2022-09-24T23:06:40.970Z"
   },
   {
    "duration": 22,
    "start_time": "2022-09-24T23:06:41.135Z"
   },
   {
    "duration": 157,
    "start_time": "2022-09-24T23:06:41.158Z"
   },
   {
    "duration": 7,
    "start_time": "2022-09-24T23:06:41.317Z"
   },
   {
    "duration": 41,
    "start_time": "2022-09-24T23:06:41.325Z"
   },
   {
    "duration": 3,
    "start_time": "2022-09-24T23:06:41.367Z"
   },
   {
    "duration": 15,
    "start_time": "2022-09-24T23:07:07.237Z"
   },
   {
    "duration": 136,
    "start_time": "2022-09-24T23:07:54.068Z"
   },
   {
    "duration": 81,
    "start_time": "2022-09-24T23:20:30.477Z"
   },
   {
    "duration": 7,
    "start_time": "2022-09-24T23:20:40.371Z"
   },
   {
    "duration": 17,
    "start_time": "2022-09-24T23:30:47.502Z"
   },
   {
    "duration": 14,
    "start_time": "2022-09-24T23:45:20.120Z"
   },
   {
    "duration": 16,
    "start_time": "2022-09-24T23:45:48.809Z"
   },
   {
    "duration": 3,
    "start_time": "2022-09-24T23:46:23.366Z"
   },
   {
    "duration": 133,
    "start_time": "2022-09-24T23:48:03.414Z"
   },
   {
    "duration": 15,
    "start_time": "2022-09-24T23:48:26.681Z"
   },
   {
    "duration": 16,
    "start_time": "2022-09-24T23:48:56.587Z"
   },
   {
    "duration": 155,
    "start_time": "2022-09-24T23:49:51.659Z"
   },
   {
    "duration": 4,
    "start_time": "2022-09-25T00:08:12.059Z"
   },
   {
    "duration": 5,
    "start_time": "2022-09-25T00:09:22.055Z"
   },
   {
    "duration": 87,
    "start_time": "2022-09-25T00:22:11.946Z"
   },
   {
    "duration": 19,
    "start_time": "2022-09-25T00:22:12.035Z"
   },
   {
    "duration": 14,
    "start_time": "2022-09-25T00:22:12.056Z"
   },
   {
    "duration": 8,
    "start_time": "2022-09-25T00:22:12.072Z"
   },
   {
    "duration": 36,
    "start_time": "2022-09-25T00:22:12.081Z"
   },
   {
    "duration": 3,
    "start_time": "2022-09-25T00:22:12.118Z"
   },
   {
    "duration": 37,
    "start_time": "2022-09-25T00:22:12.123Z"
   },
   {
    "duration": 5,
    "start_time": "2022-09-25T00:22:12.162Z"
   },
   {
    "duration": 8,
    "start_time": "2022-09-25T00:22:12.168Z"
   },
   {
    "duration": 4,
    "start_time": "2022-09-25T00:22:12.178Z"
   },
   {
    "duration": 33,
    "start_time": "2022-09-25T00:22:12.183Z"
   },
   {
    "duration": 45,
    "start_time": "2022-09-25T00:22:12.217Z"
   },
   {
    "duration": 3,
    "start_time": "2022-09-25T00:22:12.264Z"
   },
   {
    "duration": 10,
    "start_time": "2022-09-25T00:22:12.269Z"
   },
   {
    "duration": 19,
    "start_time": "2022-09-25T00:22:12.281Z"
   },
   {
    "duration": 55,
    "start_time": "2022-09-25T00:22:12.302Z"
   },
   {
    "duration": 4,
    "start_time": "2022-09-25T00:22:12.359Z"
   },
   {
    "duration": 13,
    "start_time": "2022-09-25T00:22:12.365Z"
   },
   {
    "duration": 8,
    "start_time": "2022-09-25T00:22:12.380Z"
   },
   {
    "duration": 4,
    "start_time": "2022-09-25T00:22:12.389Z"
   },
   {
    "duration": 12,
    "start_time": "2022-09-25T00:22:12.394Z"
   },
   {
    "duration": 5,
    "start_time": "2022-09-25T00:22:12.408Z"
   },
   {
    "duration": 41,
    "start_time": "2022-09-25T00:22:12.415Z"
   },
   {
    "duration": 6,
    "start_time": "2022-09-25T00:22:12.457Z"
   },
   {
    "duration": 19,
    "start_time": "2022-09-25T00:22:12.464Z"
   },
   {
    "duration": 2,
    "start_time": "2022-09-25T00:22:12.485Z"
   },
   {
    "duration": 184,
    "start_time": "2022-09-25T00:22:12.489Z"
   },
   {
    "duration": 10,
    "start_time": "2022-09-25T00:22:12.678Z"
   },
   {
    "duration": 26,
    "start_time": "2022-09-25T00:22:12.690Z"
   },
   {
    "duration": 247,
    "start_time": "2022-09-25T00:22:12.718Z"
   },
   {
    "duration": 5,
    "start_time": "2022-09-25T00:22:12.967Z"
   },
   {
    "duration": 12,
    "start_time": "2022-09-25T00:22:12.974Z"
   },
   {
    "duration": 8,
    "start_time": "2022-09-25T00:22:12.988Z"
   },
   {
    "duration": 16,
    "start_time": "2022-09-25T00:22:12.998Z"
   },
   {
    "duration": 50,
    "start_time": "2022-09-25T00:22:13.017Z"
   },
   {
    "duration": 163,
    "start_time": "2022-09-25T00:22:13.069Z"
   },
   {
    "duration": 20,
    "start_time": "2022-09-25T00:22:13.234Z"
   },
   {
    "duration": 171,
    "start_time": "2022-09-25T00:22:13.257Z"
   },
   {
    "duration": 8,
    "start_time": "2022-09-25T00:22:13.430Z"
   },
   {
    "duration": 54,
    "start_time": "2022-09-25T00:22:13.439Z"
   },
   {
    "duration": 0,
    "start_time": "2022-09-25T00:22:13.495Z"
   },
   {
    "duration": 0,
    "start_time": "2022-09-25T00:22:13.497Z"
   },
   {
    "duration": 476,
    "start_time": "2022-09-25T19:52:27.284Z"
   },
   {
    "duration": 20,
    "start_time": "2022-09-25T19:52:27.762Z"
   },
   {
    "duration": 13,
    "start_time": "2022-09-25T19:52:27.784Z"
   },
   {
    "duration": 16,
    "start_time": "2022-09-25T19:52:27.799Z"
   },
   {
    "duration": 29,
    "start_time": "2022-09-25T19:52:27.817Z"
   },
   {
    "duration": 3,
    "start_time": "2022-09-25T19:52:27.847Z"
   },
   {
    "duration": 14,
    "start_time": "2022-09-25T19:52:27.851Z"
   },
   {
    "duration": 4,
    "start_time": "2022-09-25T19:52:27.866Z"
   },
   {
    "duration": 6,
    "start_time": "2022-09-25T19:52:27.872Z"
   },
   {
    "duration": 31,
    "start_time": "2022-09-25T19:52:27.880Z"
   },
   {
    "duration": 31,
    "start_time": "2022-09-25T19:52:27.913Z"
   },
   {
    "duration": 9,
    "start_time": "2022-09-25T19:52:27.945Z"
   },
   {
    "duration": 3,
    "start_time": "2022-09-25T19:52:27.955Z"
   },
   {
    "duration": 11,
    "start_time": "2022-09-25T19:52:27.960Z"
   },
   {
    "duration": 44,
    "start_time": "2022-09-25T19:52:27.973Z"
   },
   {
    "duration": 18,
    "start_time": "2022-09-25T19:52:28.018Z"
   },
   {
    "duration": 4,
    "start_time": "2022-09-25T19:52:28.037Z"
   },
   {
    "duration": 11,
    "start_time": "2022-09-25T19:52:28.042Z"
   },
   {
    "duration": 7,
    "start_time": "2022-09-25T19:52:28.054Z"
   },
   {
    "duration": 3,
    "start_time": "2022-09-25T19:52:28.063Z"
   },
   {
    "duration": 10,
    "start_time": "2022-09-25T19:52:28.067Z"
   },
   {
    "duration": 33,
    "start_time": "2022-09-25T19:52:28.079Z"
   },
   {
    "duration": 6,
    "start_time": "2022-09-25T19:52:28.114Z"
   },
   {
    "duration": 4,
    "start_time": "2022-09-25T19:52:28.122Z"
   },
   {
    "duration": 15,
    "start_time": "2022-09-25T19:52:28.128Z"
   },
   {
    "duration": 830,
    "start_time": "2022-09-25T19:52:28.145Z"
   },
   {
    "duration": 134,
    "start_time": "2022-09-25T19:52:28.977Z"
   },
   {
    "duration": 6,
    "start_time": "2022-09-25T19:52:29.114Z"
   },
   {
    "duration": 22,
    "start_time": "2022-09-25T19:52:29.122Z"
   },
   {
    "duration": 205,
    "start_time": "2022-09-25T19:52:29.146Z"
   },
   {
    "duration": 8,
    "start_time": "2022-09-25T19:52:29.356Z"
   },
   {
    "duration": 17,
    "start_time": "2022-09-25T19:52:29.366Z"
   },
   {
    "duration": 9,
    "start_time": "2022-09-25T19:52:29.385Z"
   },
   {
    "duration": 24,
    "start_time": "2022-09-25T19:52:29.396Z"
   },
   {
    "duration": 23,
    "start_time": "2022-09-25T19:52:29.422Z"
   },
   {
    "duration": 157,
    "start_time": "2022-09-25T19:52:29.446Z"
   },
   {
    "duration": 15,
    "start_time": "2022-09-25T19:52:29.605Z"
   },
   {
    "duration": 131,
    "start_time": "2022-09-25T19:52:29.621Z"
   },
   {
    "duration": 7,
    "start_time": "2022-09-25T19:52:29.754Z"
   },
   {
    "duration": 41,
    "start_time": "2022-09-25T19:52:29.762Z"
   },
   {
    "duration": 0,
    "start_time": "2022-09-25T19:52:29.805Z"
   },
   {
    "duration": 0,
    "start_time": "2022-09-25T19:52:29.806Z"
   },
   {
    "duration": 469,
    "start_time": "2022-09-25T19:53:18.917Z"
   },
   {
    "duration": 20,
    "start_time": "2022-09-25T19:53:19.387Z"
   },
   {
    "duration": 15,
    "start_time": "2022-09-25T19:53:19.409Z"
   },
   {
    "duration": 9,
    "start_time": "2022-09-25T19:53:19.426Z"
   },
   {
    "duration": 30,
    "start_time": "2022-09-25T19:53:19.436Z"
   },
   {
    "duration": 3,
    "start_time": "2022-09-25T19:53:19.468Z"
   },
   {
    "duration": 38,
    "start_time": "2022-09-25T19:53:19.473Z"
   },
   {
    "duration": 4,
    "start_time": "2022-09-25T19:53:19.513Z"
   },
   {
    "duration": 8,
    "start_time": "2022-09-25T19:53:19.518Z"
   },
   {
    "duration": 4,
    "start_time": "2022-09-25T19:53:19.528Z"
   },
   {
    "duration": 29,
    "start_time": "2022-09-25T19:53:19.533Z"
   },
   {
    "duration": 9,
    "start_time": "2022-09-25T19:53:19.563Z"
   },
   {
    "duration": 3,
    "start_time": "2022-09-25T19:53:19.573Z"
   },
   {
    "duration": 43,
    "start_time": "2022-09-25T19:53:19.578Z"
   },
   {
    "duration": 18,
    "start_time": "2022-09-25T19:53:19.623Z"
   },
   {
    "duration": 16,
    "start_time": "2022-09-25T19:53:19.642Z"
   },
   {
    "duration": 3,
    "start_time": "2022-09-25T19:53:19.660Z"
   },
   {
    "duration": 12,
    "start_time": "2022-09-25T19:53:19.665Z"
   },
   {
    "duration": 6,
    "start_time": "2022-09-25T19:53:19.678Z"
   },
   {
    "duration": 3,
    "start_time": "2022-09-25T19:53:19.709Z"
   },
   {
    "duration": 10,
    "start_time": "2022-09-25T19:53:19.713Z"
   },
   {
    "duration": 4,
    "start_time": "2022-09-25T19:53:19.725Z"
   },
   {
    "duration": 7,
    "start_time": "2022-09-25T19:53:19.730Z"
   },
   {
    "duration": 9,
    "start_time": "2022-09-25T19:53:19.738Z"
   },
   {
    "duration": 21,
    "start_time": "2022-09-25T19:53:19.748Z"
   },
   {
    "duration": 741,
    "start_time": "2022-09-25T19:53:19.771Z"
   },
   {
    "duration": 132,
    "start_time": "2022-09-25T19:53:20.514Z"
   },
   {
    "duration": 7,
    "start_time": "2022-09-25T19:53:20.649Z"
   },
   {
    "duration": 15,
    "start_time": "2022-09-25T19:53:20.658Z"
   },
   {
    "duration": 154,
    "start_time": "2022-09-25T19:53:20.675Z"
   },
   {
    "duration": 6,
    "start_time": "2022-09-25T19:53:20.830Z"
   },
   {
    "duration": 13,
    "start_time": "2022-09-25T19:53:20.838Z"
   },
   {
    "duration": 6,
    "start_time": "2022-09-25T19:53:20.852Z"
   },
   {
    "duration": 14,
    "start_time": "2022-09-25T19:53:20.859Z"
   },
   {
    "duration": 45,
    "start_time": "2022-09-25T19:53:20.874Z"
   },
   {
    "duration": 149,
    "start_time": "2022-09-25T19:53:20.920Z"
   },
   {
    "duration": 14,
    "start_time": "2022-09-25T19:53:21.071Z"
   },
   {
    "duration": 128,
    "start_time": "2022-09-25T19:53:21.087Z"
   },
   {
    "duration": 7,
    "start_time": "2022-09-25T19:53:21.216Z"
   },
   {
    "duration": 15,
    "start_time": "2022-09-25T19:53:21.225Z"
   },
   {
    "duration": 146,
    "start_time": "2022-09-25T19:53:21.241Z"
   },
   {
    "duration": 4,
    "start_time": "2022-09-25T19:53:21.388Z"
   },
   {
    "duration": 535,
    "start_time": "2022-09-26T15:38:42.080Z"
   },
   {
    "duration": 21,
    "start_time": "2022-09-26T15:38:42.617Z"
   },
   {
    "duration": 14,
    "start_time": "2022-09-26T15:38:42.641Z"
   },
   {
    "duration": 9,
    "start_time": "2022-09-26T15:38:42.658Z"
   },
   {
    "duration": 61,
    "start_time": "2022-09-26T15:38:42.669Z"
   },
   {
    "duration": 4,
    "start_time": "2022-09-26T15:38:42.732Z"
   },
   {
    "duration": 22,
    "start_time": "2022-09-26T15:38:42.738Z"
   },
   {
    "duration": 6,
    "start_time": "2022-09-26T15:38:42.761Z"
   },
   {
    "duration": 13,
    "start_time": "2022-09-26T15:38:42.769Z"
   },
   {
    "duration": 4,
    "start_time": "2022-09-26T15:38:42.784Z"
   },
   {
    "duration": 45,
    "start_time": "2022-09-26T15:38:42.789Z"
   },
   {
    "duration": 8,
    "start_time": "2022-09-26T15:38:42.835Z"
   },
   {
    "duration": 18,
    "start_time": "2022-09-26T15:38:42.844Z"
   },
   {
    "duration": 16,
    "start_time": "2022-09-26T15:38:42.864Z"
   },
   {
    "duration": 23,
    "start_time": "2022-09-26T15:38:42.881Z"
   },
   {
    "duration": 14,
    "start_time": "2022-09-26T15:38:42.905Z"
   },
   {
    "duration": 28,
    "start_time": "2022-09-26T15:38:42.920Z"
   },
   {
    "duration": 34,
    "start_time": "2022-09-26T15:38:42.949Z"
   },
   {
    "duration": 15,
    "start_time": "2022-09-26T15:38:42.984Z"
   },
   {
    "duration": 18,
    "start_time": "2022-09-26T15:38:43.001Z"
   },
   {
    "duration": 31,
    "start_time": "2022-09-26T15:38:43.020Z"
   },
   {
    "duration": 12,
    "start_time": "2022-09-26T15:38:43.053Z"
   },
   {
    "duration": 18,
    "start_time": "2022-09-26T15:38:43.067Z"
   },
   {
    "duration": 14,
    "start_time": "2022-09-26T15:38:43.087Z"
   },
   {
    "duration": 79,
    "start_time": "2022-09-26T15:38:43.102Z"
   },
   {
    "duration": 0,
    "start_time": "2022-09-26T15:38:43.184Z"
   },
   {
    "duration": 0,
    "start_time": "2022-09-26T15:38:43.185Z"
   },
   {
    "duration": 0,
    "start_time": "2022-09-26T15:38:43.187Z"
   },
   {
    "duration": 0,
    "start_time": "2022-09-26T15:38:43.188Z"
   },
   {
    "duration": 1,
    "start_time": "2022-09-26T15:38:43.189Z"
   },
   {
    "duration": 0,
    "start_time": "2022-09-26T15:38:43.190Z"
   },
   {
    "duration": 0,
    "start_time": "2022-09-26T15:38:43.191Z"
   },
   {
    "duration": 0,
    "start_time": "2022-09-26T15:38:43.192Z"
   },
   {
    "duration": 0,
    "start_time": "2022-09-26T15:38:43.193Z"
   },
   {
    "duration": 0,
    "start_time": "2022-09-26T15:38:43.194Z"
   },
   {
    "duration": 0,
    "start_time": "2022-09-26T15:38:43.195Z"
   },
   {
    "duration": 0,
    "start_time": "2022-09-26T15:38:43.196Z"
   },
   {
    "duration": 0,
    "start_time": "2022-09-26T15:38:43.197Z"
   },
   {
    "duration": 0,
    "start_time": "2022-09-26T15:38:43.198Z"
   },
   {
    "duration": 0,
    "start_time": "2022-09-26T15:38:43.198Z"
   },
   {
    "duration": 0,
    "start_time": "2022-09-26T15:38:43.223Z"
   },
   {
    "duration": 0,
    "start_time": "2022-09-26T15:38:43.224Z"
   },
   {
    "duration": 8,
    "start_time": "2022-09-26T15:40:17.609Z"
   },
   {
    "duration": 14,
    "start_time": "2022-09-26T15:40:31.753Z"
   },
   {
    "duration": 6,
    "start_time": "2022-09-26T15:41:11.698Z"
   },
   {
    "duration": 12,
    "start_time": "2022-09-26T15:41:14.392Z"
   },
   {
    "duration": 13,
    "start_time": "2022-09-26T15:41:56.506Z"
   },
   {
    "duration": 15,
    "start_time": "2022-09-26T15:42:40.167Z"
   },
   {
    "duration": 24,
    "start_time": "2022-09-26T15:43:38.211Z"
   },
   {
    "duration": 25,
    "start_time": "2022-09-26T15:44:14.633Z"
   },
   {
    "duration": 14,
    "start_time": "2022-09-26T15:44:21.934Z"
   },
   {
    "duration": 17,
    "start_time": "2022-09-26T15:44:43.626Z"
   },
   {
    "duration": 15,
    "start_time": "2022-09-26T15:49:59.981Z"
   },
   {
    "duration": 18,
    "start_time": "2022-09-26T15:50:41.751Z"
   },
   {
    "duration": 8,
    "start_time": "2022-09-26T15:50:57.976Z"
   },
   {
    "duration": 10,
    "start_time": "2022-09-26T15:51:02.555Z"
   },
   {
    "duration": 8,
    "start_time": "2022-09-26T15:51:11.094Z"
   },
   {
    "duration": 16,
    "start_time": "2022-09-26T15:51:17.567Z"
   },
   {
    "duration": 17,
    "start_time": "2022-09-26T15:51:34.208Z"
   },
   {
    "duration": 16,
    "start_time": "2022-09-26T15:54:51.781Z"
   },
   {
    "duration": 17,
    "start_time": "2022-09-26T15:55:28.038Z"
   },
   {
    "duration": 13,
    "start_time": "2022-09-26T15:56:26.305Z"
   },
   {
    "duration": 11,
    "start_time": "2022-09-26T15:56:40.698Z"
   },
   {
    "duration": 8,
    "start_time": "2022-09-26T15:57:05.108Z"
   },
   {
    "duration": 6,
    "start_time": "2022-09-26T15:57:31.117Z"
   },
   {
    "duration": 9,
    "start_time": "2022-09-26T16:03:52.341Z"
   },
   {
    "duration": 860,
    "start_time": "2022-09-26T16:03:58.942Z"
   },
   {
    "duration": 45,
    "start_time": "2022-09-26T16:03:59.804Z"
   },
   {
    "duration": 69,
    "start_time": "2022-09-26T16:04:03.769Z"
   },
   {
    "duration": 15,
    "start_time": "2022-09-26T16:04:03.840Z"
   },
   {
    "duration": 17,
    "start_time": "2022-09-26T16:04:03.856Z"
   },
   {
    "duration": 9,
    "start_time": "2022-09-26T16:04:03.875Z"
   },
   {
    "duration": 76,
    "start_time": "2022-09-26T16:04:03.886Z"
   },
   {
    "duration": 4,
    "start_time": "2022-09-26T16:04:03.964Z"
   },
   {
    "duration": 16,
    "start_time": "2022-09-26T16:04:03.969Z"
   },
   {
    "duration": 5,
    "start_time": "2022-09-26T16:04:03.987Z"
   },
   {
    "duration": 7,
    "start_time": "2022-09-26T16:04:04.022Z"
   },
   {
    "duration": 11,
    "start_time": "2022-09-26T16:04:04.032Z"
   },
   {
    "duration": 39,
    "start_time": "2022-09-26T16:04:04.045Z"
   },
   {
    "duration": 8,
    "start_time": "2022-09-26T16:04:04.085Z"
   },
   {
    "duration": 27,
    "start_time": "2022-09-26T16:04:04.095Z"
   },
   {
    "duration": 10,
    "start_time": "2022-09-26T16:04:04.123Z"
   },
   {
    "duration": 31,
    "start_time": "2022-09-26T16:04:04.135Z"
   },
   {
    "duration": 23,
    "start_time": "2022-09-26T16:04:04.169Z"
   },
   {
    "duration": 4,
    "start_time": "2022-09-26T16:04:04.193Z"
   },
   {
    "duration": 12,
    "start_time": "2022-09-26T16:04:04.221Z"
   },
   {
    "duration": 7,
    "start_time": "2022-09-26T16:04:04.234Z"
   },
   {
    "duration": 6,
    "start_time": "2022-09-26T16:04:04.243Z"
   },
   {
    "duration": 12,
    "start_time": "2022-09-26T16:04:04.251Z"
   },
   {
    "duration": 5,
    "start_time": "2022-09-26T16:04:04.265Z"
   },
   {
    "duration": 12,
    "start_time": "2022-09-26T16:04:04.272Z"
   },
   {
    "duration": 40,
    "start_time": "2022-09-26T16:04:04.285Z"
   },
   {
    "duration": 23,
    "start_time": "2022-09-26T16:04:04.327Z"
   },
   {
    "duration": 10,
    "start_time": "2022-09-26T16:04:04.351Z"
   },
   {
    "duration": 8,
    "start_time": "2022-09-26T16:04:04.362Z"
   },
   {
    "duration": 4,
    "start_time": "2022-09-26T16:04:04.373Z"
   },
   {
    "duration": 44,
    "start_time": "2022-09-26T16:04:04.378Z"
   },
   {
    "duration": 0,
    "start_time": "2022-09-26T16:04:04.423Z"
   },
   {
    "duration": 0,
    "start_time": "2022-09-26T16:04:04.424Z"
   },
   {
    "duration": 0,
    "start_time": "2022-09-26T16:04:04.425Z"
   },
   {
    "duration": 0,
    "start_time": "2022-09-26T16:04:04.426Z"
   },
   {
    "duration": 0,
    "start_time": "2022-09-26T16:04:04.427Z"
   },
   {
    "duration": 0,
    "start_time": "2022-09-26T16:04:04.429Z"
   },
   {
    "duration": 0,
    "start_time": "2022-09-26T16:04:04.430Z"
   },
   {
    "duration": 0,
    "start_time": "2022-09-26T16:04:04.430Z"
   },
   {
    "duration": 1,
    "start_time": "2022-09-26T16:04:04.431Z"
   },
   {
    "duration": 0,
    "start_time": "2022-09-26T16:04:04.433Z"
   },
   {
    "duration": 0,
    "start_time": "2022-09-26T16:04:04.434Z"
   },
   {
    "duration": 0,
    "start_time": "2022-09-26T16:04:04.434Z"
   },
   {
    "duration": 0,
    "start_time": "2022-09-26T16:04:04.436Z"
   },
   {
    "duration": 0,
    "start_time": "2022-09-26T16:04:04.437Z"
   },
   {
    "duration": 0,
    "start_time": "2022-09-26T16:04:04.438Z"
   },
   {
    "duration": 12,
    "start_time": "2022-09-26T16:07:36.887Z"
   },
   {
    "duration": 11,
    "start_time": "2022-09-26T16:08:44.151Z"
   },
   {
    "duration": 12,
    "start_time": "2022-09-26T16:10:12.120Z"
   },
   {
    "duration": 131,
    "start_time": "2022-09-26T16:13:24.681Z"
   },
   {
    "duration": 15,
    "start_time": "2022-09-26T16:16:37.239Z"
   },
   {
    "duration": 119,
    "start_time": "2022-09-26T16:17:04.652Z"
   },
   {
    "duration": 1086,
    "start_time": "2022-09-26T16:17:26.675Z"
   },
   {
    "duration": 1165,
    "start_time": "2022-09-26T16:18:00.427Z"
   },
   {
    "duration": 112,
    "start_time": "2022-09-26T16:18:19.778Z"
   },
   {
    "duration": 1238,
    "start_time": "2022-09-26T16:19:05.968Z"
   },
   {
    "duration": 1326,
    "start_time": "2022-09-26T16:20:33.417Z"
   },
   {
    "duration": 1263,
    "start_time": "2022-09-26T16:22:23.846Z"
   },
   {
    "duration": 1328,
    "start_time": "2022-09-26T16:22:26.139Z"
   },
   {
    "duration": 8,
    "start_time": "2022-09-26T16:25:41.680Z"
   },
   {
    "duration": 3,
    "start_time": "2022-09-26T16:25:47.855Z"
   },
   {
    "duration": 8,
    "start_time": "2022-09-26T16:25:53.877Z"
   },
   {
    "duration": 129,
    "start_time": "2022-09-26T16:26:12.324Z"
   },
   {
    "duration": 9,
    "start_time": "2022-09-26T16:27:11.563Z"
   },
   {
    "duration": 144,
    "start_time": "2022-09-26T16:27:12.193Z"
   },
   {
    "duration": 19,
    "start_time": "2022-09-26T16:29:53.261Z"
   },
   {
    "duration": 138,
    "start_time": "2022-09-26T16:29:55.718Z"
   },
   {
    "duration": 10,
    "start_time": "2022-09-26T20:31:58.249Z"
   },
   {
    "duration": 65,
    "start_time": "2022-09-26T21:03:05.412Z"
   },
   {
    "duration": 14,
    "start_time": "2022-09-26T21:03:05.479Z"
   },
   {
    "duration": 13,
    "start_time": "2022-09-26T21:03:05.494Z"
   },
   {
    "duration": 15,
    "start_time": "2022-09-26T21:03:05.509Z"
   },
   {
    "duration": 28,
    "start_time": "2022-09-26T21:03:05.525Z"
   },
   {
    "duration": 3,
    "start_time": "2022-09-26T21:03:05.555Z"
   },
   {
    "duration": 11,
    "start_time": "2022-09-26T21:03:05.559Z"
   },
   {
    "duration": 5,
    "start_time": "2022-09-26T21:03:05.571Z"
   },
   {
    "duration": 11,
    "start_time": "2022-09-26T21:03:05.577Z"
   },
   {
    "duration": 32,
    "start_time": "2022-09-26T21:03:05.590Z"
   },
   {
    "duration": 28,
    "start_time": "2022-09-26T21:03:05.623Z"
   },
   {
    "duration": 8,
    "start_time": "2022-09-26T21:03:05.653Z"
   },
   {
    "duration": 3,
    "start_time": "2022-09-26T21:03:05.662Z"
   },
   {
    "duration": 10,
    "start_time": "2022-09-26T21:03:05.667Z"
   },
   {
    "duration": 43,
    "start_time": "2022-09-26T21:03:05.679Z"
   },
   {
    "duration": 15,
    "start_time": "2022-09-26T21:03:05.724Z"
   },
   {
    "duration": 3,
    "start_time": "2022-09-26T21:03:05.741Z"
   },
   {
    "duration": 11,
    "start_time": "2022-09-26T21:03:05.745Z"
   },
   {
    "duration": 5,
    "start_time": "2022-09-26T21:03:05.757Z"
   },
   {
    "duration": 3,
    "start_time": "2022-09-26T21:03:05.764Z"
   },
   {
    "duration": 9,
    "start_time": "2022-09-26T21:03:05.769Z"
   },
   {
    "duration": 5,
    "start_time": "2022-09-26T21:03:05.779Z"
   },
   {
    "duration": 12,
    "start_time": "2022-09-26T21:03:05.785Z"
   },
   {
    "duration": 6,
    "start_time": "2022-09-26T21:03:05.821Z"
   },
   {
    "duration": 18,
    "start_time": "2022-09-26T21:03:05.828Z"
   },
   {
    "duration": 9,
    "start_time": "2022-09-26T21:03:05.847Z"
   },
   {
    "duration": 7,
    "start_time": "2022-09-26T21:03:05.857Z"
   },
   {
    "duration": 2,
    "start_time": "2022-09-26T21:03:05.867Z"
   },
   {
    "duration": 152,
    "start_time": "2022-09-26T21:03:05.870Z"
   },
   {
    "duration": 8,
    "start_time": "2022-09-26T21:03:06.024Z"
   },
   {
    "duration": 226,
    "start_time": "2022-09-26T21:03:06.034Z"
   },
   {
    "duration": 1228,
    "start_time": "2022-09-26T21:03:06.261Z"
   },
   {
    "duration": 0,
    "start_time": "2022-09-26T21:03:07.490Z"
   },
   {
    "duration": 0,
    "start_time": "2022-09-26T21:03:07.491Z"
   },
   {
    "duration": 0,
    "start_time": "2022-09-26T21:03:07.493Z"
   },
   {
    "duration": 0,
    "start_time": "2022-09-26T21:03:07.494Z"
   },
   {
    "duration": 0,
    "start_time": "2022-09-26T21:03:07.495Z"
   },
   {
    "duration": 0,
    "start_time": "2022-09-26T21:03:07.496Z"
   },
   {
    "duration": 0,
    "start_time": "2022-09-26T21:03:07.497Z"
   },
   {
    "duration": 0,
    "start_time": "2022-09-26T21:03:07.498Z"
   },
   {
    "duration": 0,
    "start_time": "2022-09-26T21:03:07.499Z"
   },
   {
    "duration": 0,
    "start_time": "2022-09-26T21:03:07.500Z"
   },
   {
    "duration": 0,
    "start_time": "2022-09-26T21:03:07.501Z"
   },
   {
    "duration": 0,
    "start_time": "2022-09-26T21:03:07.502Z"
   },
   {
    "duration": 0,
    "start_time": "2022-09-26T21:03:07.503Z"
   },
   {
    "duration": 0,
    "start_time": "2022-09-26T21:03:07.505Z"
   },
   {
    "duration": 0,
    "start_time": "2022-09-26T21:03:07.505Z"
   },
   {
    "duration": 1286,
    "start_time": "2022-09-26T21:04:05.287Z"
   },
   {
    "duration": 1484,
    "start_time": "2022-09-26T21:06:10.686Z"
   },
   {
    "duration": 137,
    "start_time": "2022-09-26T21:06:38.452Z"
   },
   {
    "duration": 20,
    "start_time": "2022-09-26T21:09:09.617Z"
   },
   {
    "duration": 27,
    "start_time": "2022-09-26T21:09:36.129Z"
   },
   {
    "duration": 20,
    "start_time": "2022-09-26T21:11:19.824Z"
   },
   {
    "duration": 21,
    "start_time": "2022-09-26T21:16:32.143Z"
   },
   {
    "duration": 26,
    "start_time": "2022-09-26T21:17:21.588Z"
   },
   {
    "duration": 23,
    "start_time": "2022-09-26T21:17:39.325Z"
   },
   {
    "duration": 35,
    "start_time": "2022-09-26T21:19:51.237Z"
   },
   {
    "duration": 524,
    "start_time": "2022-09-27T15:36:47.126Z"
   },
   {
    "duration": 22,
    "start_time": "2022-09-27T15:36:47.652Z"
   },
   {
    "duration": 16,
    "start_time": "2022-09-27T15:36:47.677Z"
   },
   {
    "duration": 9,
    "start_time": "2022-09-27T15:36:47.695Z"
   },
   {
    "duration": 40,
    "start_time": "2022-09-27T15:36:47.706Z"
   },
   {
    "duration": 4,
    "start_time": "2022-09-27T15:36:47.748Z"
   },
   {
    "duration": 10,
    "start_time": "2022-09-27T15:36:47.753Z"
   },
   {
    "duration": 6,
    "start_time": "2022-09-27T15:36:47.764Z"
   },
   {
    "duration": 19,
    "start_time": "2022-09-27T15:36:47.772Z"
   },
   {
    "duration": 5,
    "start_time": "2022-09-27T15:36:47.793Z"
   },
   {
    "duration": 35,
    "start_time": "2022-09-27T15:36:47.800Z"
   },
   {
    "duration": 10,
    "start_time": "2022-09-27T15:36:47.836Z"
   },
   {
    "duration": 5,
    "start_time": "2022-09-27T15:36:47.847Z"
   },
   {
    "duration": 37,
    "start_time": "2022-09-27T15:36:47.854Z"
   },
   {
    "duration": 20,
    "start_time": "2022-09-27T15:36:47.893Z"
   },
   {
    "duration": 16,
    "start_time": "2022-09-27T15:36:47.915Z"
   },
   {
    "duration": 4,
    "start_time": "2022-09-27T15:36:47.932Z"
   },
   {
    "duration": 11,
    "start_time": "2022-09-27T15:36:47.938Z"
   },
   {
    "duration": 7,
    "start_time": "2022-09-27T15:36:47.951Z"
   },
   {
    "duration": 4,
    "start_time": "2022-09-27T15:36:47.990Z"
   },
   {
    "duration": 16,
    "start_time": "2022-09-27T15:36:47.995Z"
   },
   {
    "duration": 9,
    "start_time": "2022-09-27T15:36:48.013Z"
   },
   {
    "duration": 9,
    "start_time": "2022-09-27T15:36:48.024Z"
   },
   {
    "duration": 5,
    "start_time": "2022-09-27T15:36:48.034Z"
   },
   {
    "duration": 20,
    "start_time": "2022-09-27T15:36:48.041Z"
   },
   {
    "duration": 34,
    "start_time": "2022-09-27T15:36:48.063Z"
   },
   {
    "duration": 8,
    "start_time": "2022-09-27T15:36:48.099Z"
   },
   {
    "duration": 906,
    "start_time": "2022-09-27T15:36:48.110Z"
   },
   {
    "duration": 154,
    "start_time": "2022-09-27T15:36:49.018Z"
   },
   {
    "duration": 17,
    "start_time": "2022-09-27T15:36:49.173Z"
   },
   {
    "duration": 146,
    "start_time": "2022-09-27T15:36:49.191Z"
   },
   {
    "duration": 1995,
    "start_time": "2022-09-27T15:36:49.339Z"
   },
   {
    "duration": 0,
    "start_time": "2022-09-27T15:36:51.336Z"
   },
   {
    "duration": 0,
    "start_time": "2022-09-27T15:36:51.337Z"
   },
   {
    "duration": 0,
    "start_time": "2022-09-27T15:36:51.337Z"
   },
   {
    "duration": 0,
    "start_time": "2022-09-27T15:36:51.338Z"
   },
   {
    "duration": 0,
    "start_time": "2022-09-27T15:36:51.339Z"
   },
   {
    "duration": 0,
    "start_time": "2022-09-27T15:36:51.340Z"
   },
   {
    "duration": 0,
    "start_time": "2022-09-27T15:36:51.341Z"
   },
   {
    "duration": 0,
    "start_time": "2022-09-27T15:36:51.342Z"
   },
   {
    "duration": 0,
    "start_time": "2022-09-27T15:36:51.343Z"
   },
   {
    "duration": 0,
    "start_time": "2022-09-27T15:36:51.344Z"
   },
   {
    "duration": 0,
    "start_time": "2022-09-27T15:36:51.345Z"
   },
   {
    "duration": 0,
    "start_time": "2022-09-27T15:36:51.346Z"
   },
   {
    "duration": 0,
    "start_time": "2022-09-27T15:36:51.347Z"
   },
   {
    "duration": 0,
    "start_time": "2022-09-27T15:36:51.348Z"
   },
   {
    "duration": 0,
    "start_time": "2022-09-27T15:36:51.349Z"
   },
   {
    "duration": 9,
    "start_time": "2022-09-27T15:38:13.594Z"
   },
   {
    "duration": 91,
    "start_time": "2022-09-27T15:38:18.437Z"
   },
   {
    "duration": 20,
    "start_time": "2022-09-27T15:38:18.531Z"
   },
   {
    "duration": 40,
    "start_time": "2022-09-27T15:38:18.553Z"
   },
   {
    "duration": 10,
    "start_time": "2022-09-27T15:38:18.595Z"
   },
   {
    "duration": 44,
    "start_time": "2022-09-27T15:38:18.607Z"
   },
   {
    "duration": 3,
    "start_time": "2022-09-27T15:38:18.653Z"
   },
   {
    "duration": 32,
    "start_time": "2022-09-27T15:38:18.658Z"
   },
   {
    "duration": 4,
    "start_time": "2022-09-27T15:38:18.692Z"
   },
   {
    "duration": 15,
    "start_time": "2022-09-27T15:38:18.698Z"
   },
   {
    "duration": 6,
    "start_time": "2022-09-27T15:38:18.716Z"
   },
   {
    "duration": 38,
    "start_time": "2022-09-27T15:38:18.723Z"
   },
   {
    "duration": 29,
    "start_time": "2022-09-27T15:38:18.762Z"
   },
   {
    "duration": 5,
    "start_time": "2022-09-27T15:38:18.792Z"
   },
   {
    "duration": 14,
    "start_time": "2022-09-27T15:38:18.798Z"
   },
   {
    "duration": 20,
    "start_time": "2022-09-27T15:38:18.813Z"
   },
   {
    "duration": 19,
    "start_time": "2022-09-27T15:38:18.835Z"
   },
   {
    "duration": 4,
    "start_time": "2022-09-27T15:38:18.856Z"
   },
   {
    "duration": 11,
    "start_time": "2022-09-27T15:38:18.889Z"
   },
   {
    "duration": 11,
    "start_time": "2022-09-27T15:38:18.902Z"
   },
   {
    "duration": 4,
    "start_time": "2022-09-27T15:38:18.915Z"
   },
   {
    "duration": 12,
    "start_time": "2022-09-27T15:38:18.921Z"
   },
   {
    "duration": 14,
    "start_time": "2022-09-27T15:38:18.935Z"
   },
   {
    "duration": 15,
    "start_time": "2022-09-27T15:38:18.951Z"
   },
   {
    "duration": 41,
    "start_time": "2022-09-27T15:38:18.968Z"
   },
   {
    "duration": 37,
    "start_time": "2022-09-27T15:38:19.011Z"
   },
   {
    "duration": 19,
    "start_time": "2022-09-27T15:38:19.050Z"
   },
   {
    "duration": 21,
    "start_time": "2022-09-27T15:38:19.070Z"
   },
   {
    "duration": 16,
    "start_time": "2022-09-27T15:38:19.095Z"
   },
   {
    "duration": 171,
    "start_time": "2022-09-27T15:38:19.113Z"
   },
   {
    "duration": 12,
    "start_time": "2022-09-27T15:38:19.286Z"
   },
   {
    "duration": 161,
    "start_time": "2022-09-27T15:38:19.300Z"
   },
   {
    "duration": 144,
    "start_time": "2022-09-27T15:38:19.464Z"
   },
   {
    "duration": 8,
    "start_time": "2022-09-27T15:38:19.610Z"
   },
   {
    "duration": 39,
    "start_time": "2022-09-27T15:38:19.620Z"
   },
   {
    "duration": 157,
    "start_time": "2022-09-27T15:38:19.661Z"
   },
   {
    "duration": 6,
    "start_time": "2022-09-27T15:38:19.820Z"
   },
   {
    "duration": 21,
    "start_time": "2022-09-27T15:38:19.828Z"
   },
   {
    "duration": 30,
    "start_time": "2022-09-27T15:38:19.850Z"
   },
   {
    "duration": 43,
    "start_time": "2022-09-27T15:38:19.882Z"
   },
   {
    "duration": 42,
    "start_time": "2022-09-27T15:38:19.927Z"
   },
   {
    "duration": 155,
    "start_time": "2022-09-27T15:38:19.971Z"
   },
   {
    "duration": 23,
    "start_time": "2022-09-27T15:38:20.128Z"
   },
   {
    "duration": 219,
    "start_time": "2022-09-27T15:38:20.153Z"
   },
   {
    "duration": 16,
    "start_time": "2022-09-27T15:38:20.374Z"
   },
   {
    "duration": 40,
    "start_time": "2022-09-27T15:38:20.392Z"
   },
   {
    "duration": 135,
    "start_time": "2022-09-27T15:38:20.435Z"
   },
   {
    "duration": 5,
    "start_time": "2022-09-27T15:38:20.573Z"
   },
   {
    "duration": 9,
    "start_time": "2022-09-27T15:38:53.750Z"
   },
   {
    "duration": 120,
    "start_time": "2022-09-27T15:38:58.731Z"
   },
   {
    "duration": 128,
    "start_time": "2022-09-27T15:39:27.441Z"
   },
   {
    "duration": 12,
    "start_time": "2022-09-27T15:40:54.214Z"
   },
   {
    "duration": 128,
    "start_time": "2022-09-27T15:40:58.380Z"
   },
   {
    "duration": 135,
    "start_time": "2022-09-27T15:45:19.437Z"
   },
   {
    "duration": 135,
    "start_time": "2022-09-27T15:45:41.363Z"
   },
   {
    "duration": 143,
    "start_time": "2022-09-27T15:45:50.059Z"
   },
   {
    "duration": 163,
    "start_time": "2022-09-27T15:46:10.678Z"
   },
   {
    "duration": 134,
    "start_time": "2022-09-27T15:46:33.107Z"
   },
   {
    "duration": 152,
    "start_time": "2022-09-27T15:46:39.994Z"
   },
   {
    "duration": 131,
    "start_time": "2022-09-27T15:46:46.722Z"
   },
   {
    "duration": 25,
    "start_time": "2022-09-27T15:47:19.465Z"
   },
   {
    "duration": 15,
    "start_time": "2022-09-27T15:47:37.740Z"
   },
   {
    "duration": 9,
    "start_time": "2022-09-27T15:48:27.852Z"
   },
   {
    "duration": 25,
    "start_time": "2022-09-27T15:48:42.714Z"
   },
   {
    "duration": 11,
    "start_time": "2022-09-27T15:48:44.425Z"
   },
   {
    "duration": 14,
    "start_time": "2022-09-27T15:49:00.824Z"
   },
   {
    "duration": 23,
    "start_time": "2022-09-27T15:51:44.727Z"
   },
   {
    "duration": 14,
    "start_time": "2022-09-27T15:52:25.342Z"
   },
   {
    "duration": 9,
    "start_time": "2022-09-27T15:52:42.535Z"
   },
   {
    "duration": 174,
    "start_time": "2022-09-27T15:53:01.085Z"
   },
   {
    "duration": 13,
    "start_time": "2022-09-27T15:53:26.869Z"
   },
   {
    "duration": 25,
    "start_time": "2022-09-27T15:53:49.406Z"
   },
   {
    "duration": 221,
    "start_time": "2022-09-27T15:53:56.432Z"
   },
   {
    "duration": 23,
    "start_time": "2022-09-27T15:54:17.644Z"
   },
   {
    "duration": 154,
    "start_time": "2022-09-27T15:54:20.684Z"
   },
   {
    "duration": 140,
    "start_time": "2022-09-27T15:54:48.294Z"
   },
   {
    "duration": 1113,
    "start_time": "2022-10-06T14:15:05.838Z"
   },
   {
    "duration": 21,
    "start_time": "2022-10-06T14:15:06.953Z"
   },
   {
    "duration": 14,
    "start_time": "2022-10-06T14:15:06.976Z"
   },
   {
    "duration": 9,
    "start_time": "2022-10-06T14:15:06.993Z"
   },
   {
    "duration": 40,
    "start_time": "2022-10-06T14:15:07.004Z"
   },
   {
    "duration": 3,
    "start_time": "2022-10-06T14:15:07.045Z"
   },
   {
    "duration": 12,
    "start_time": "2022-10-06T14:15:07.049Z"
   },
   {
    "duration": 4,
    "start_time": "2022-10-06T14:15:07.063Z"
   },
   {
    "duration": 8,
    "start_time": "2022-10-06T14:15:07.068Z"
   },
   {
    "duration": 3,
    "start_time": "2022-10-06T14:15:07.080Z"
   },
   {
    "duration": 58,
    "start_time": "2022-10-06T14:15:07.085Z"
   },
   {
    "duration": 9,
    "start_time": "2022-10-06T14:15:07.145Z"
   },
   {
    "duration": 7,
    "start_time": "2022-10-06T14:15:07.156Z"
   },
   {
    "duration": 13,
    "start_time": "2022-10-06T14:15:07.164Z"
   },
   {
    "duration": 19,
    "start_time": "2022-10-06T14:15:07.178Z"
   },
   {
    "duration": 35,
    "start_time": "2022-10-06T14:15:07.198Z"
   },
   {
    "duration": 4,
    "start_time": "2022-10-06T14:15:07.235Z"
   },
   {
    "duration": 13,
    "start_time": "2022-10-06T14:15:07.240Z"
   },
   {
    "duration": 5,
    "start_time": "2022-10-06T14:15:07.255Z"
   },
   {
    "duration": 4,
    "start_time": "2022-10-06T14:15:07.261Z"
   },
   {
    "duration": 14,
    "start_time": "2022-10-06T14:15:07.266Z"
   },
   {
    "duration": 10,
    "start_time": "2022-10-06T14:15:07.282Z"
   },
   {
    "duration": 8,
    "start_time": "2022-10-06T14:15:07.293Z"
   },
   {
    "duration": 6,
    "start_time": "2022-10-06T14:15:07.303Z"
   },
   {
    "duration": 17,
    "start_time": "2022-10-06T14:15:07.334Z"
   },
   {
    "duration": 12,
    "start_time": "2022-10-06T14:15:07.353Z"
   },
   {
    "duration": 9,
    "start_time": "2022-10-06T14:15:07.366Z"
   },
   {
    "duration": 964,
    "start_time": "2022-10-06T14:15:07.378Z"
   },
   {
    "duration": 145,
    "start_time": "2022-10-06T14:15:08.344Z"
   },
   {
    "duration": 11,
    "start_time": "2022-10-06T14:15:08.490Z"
   },
   {
    "duration": 140,
    "start_time": "2022-10-06T14:15:08.502Z"
   },
   {
    "duration": 7,
    "start_time": "2022-10-06T14:15:08.644Z"
   },
   {
    "duration": 27,
    "start_time": "2022-10-06T14:15:08.653Z"
   },
   {
    "duration": 175,
    "start_time": "2022-10-06T14:15:08.682Z"
   },
   {
    "duration": 6,
    "start_time": "2022-10-06T14:15:08.859Z"
   },
   {
    "duration": 13,
    "start_time": "2022-10-06T14:15:08.866Z"
   },
   {
    "duration": 8,
    "start_time": "2022-10-06T14:15:08.881Z"
   },
   {
    "duration": 20,
    "start_time": "2022-10-06T14:15:08.890Z"
   },
   {
    "duration": 51,
    "start_time": "2022-10-06T14:15:08.912Z"
   },
   {
    "duration": 160,
    "start_time": "2022-10-06T14:15:08.965Z"
   },
   {
    "duration": 26,
    "start_time": "2022-10-06T14:15:09.127Z"
   },
   {
    "duration": 150,
    "start_time": "2022-10-06T14:15:09.155Z"
   },
   {
    "duration": 7,
    "start_time": "2022-10-06T14:15:09.306Z"
   },
   {
    "duration": 30,
    "start_time": "2022-10-06T14:15:09.315Z"
   },
   {
    "duration": 146,
    "start_time": "2022-10-06T14:15:09.347Z"
   },
   {
    "duration": 5,
    "start_time": "2022-10-06T14:15:09.495Z"
   },
   {
    "duration": 12,
    "start_time": "2022-10-06T14:15:24.098Z"
   },
   {
    "duration": 14,
    "start_time": "2022-10-06T14:15:38.056Z"
   },
   {
    "duration": 11,
    "start_time": "2022-10-06T14:15:40.398Z"
   },
   {
    "duration": 9,
    "start_time": "2022-10-06T14:15:48.695Z"
   },
   {
    "duration": 9,
    "start_time": "2022-10-06T14:15:54.703Z"
   },
   {
    "duration": 9,
    "start_time": "2022-10-06T14:16:00.302Z"
   },
   {
    "duration": 10,
    "start_time": "2022-10-06T14:17:15.870Z"
   },
   {
    "duration": 23,
    "start_time": "2022-10-06T14:17:20.334Z"
   },
   {
    "duration": 29,
    "start_time": "2022-10-06T14:57:54.962Z"
   },
   {
    "duration": 27,
    "start_time": "2022-10-06T14:58:42.289Z"
   },
   {
    "duration": 27,
    "start_time": "2022-10-06T14:59:42.038Z"
   },
   {
    "duration": 31,
    "start_time": "2022-10-06T15:02:19.751Z"
   },
   {
    "duration": 34,
    "start_time": "2022-10-06T15:03:27.748Z"
   },
   {
    "duration": 26,
    "start_time": "2022-10-06T15:03:36.014Z"
   },
   {
    "duration": 29,
    "start_time": "2022-10-06T15:08:04.983Z"
   },
   {
    "duration": 37,
    "start_time": "2022-10-06T15:08:23.463Z"
   },
   {
    "duration": 155,
    "start_time": "2022-10-06T15:08:29.572Z"
   },
   {
    "duration": 26,
    "start_time": "2022-10-06T15:09:13.110Z"
   },
   {
    "duration": 114,
    "start_time": "2022-10-06T15:13:42.965Z"
   },
   {
    "duration": 13,
    "start_time": "2022-10-06T15:14:00.860Z"
   },
   {
    "duration": 149,
    "start_time": "2022-10-06T15:14:13.137Z"
   },
   {
    "duration": 222,
    "start_time": "2022-10-06T15:27:09.897Z"
   },
   {
    "duration": 154,
    "start_time": "2022-10-06T15:27:26.455Z"
   },
   {
    "duration": 25,
    "start_time": "2022-10-06T15:28:03.329Z"
   },
   {
    "duration": 124,
    "start_time": "2022-10-06T15:29:04.601Z"
   },
   {
    "duration": 130,
    "start_time": "2022-10-06T15:29:12.470Z"
   },
   {
    "duration": 135,
    "start_time": "2022-10-06T15:29:25.211Z"
   },
   {
    "duration": 24,
    "start_time": "2022-10-06T15:30:01.827Z"
   },
   {
    "duration": 13,
    "start_time": "2022-10-06T15:39:08.506Z"
   },
   {
    "duration": 64,
    "start_time": "2022-10-06T15:39:52.952Z"
   },
   {
    "duration": 48,
    "start_time": "2022-10-06T15:40:19.704Z"
   },
   {
    "duration": 117,
    "start_time": "2022-10-06T15:40:44.352Z"
   },
   {
    "duration": 75,
    "start_time": "2022-10-06T15:43:31.634Z"
   },
   {
    "duration": 18,
    "start_time": "2022-10-06T15:48:25.110Z"
   },
   {
    "duration": 12,
    "start_time": "2022-10-06T15:49:24.966Z"
   },
   {
    "duration": 11,
    "start_time": "2022-10-06T15:50:09.684Z"
   },
   {
    "duration": 9,
    "start_time": "2022-10-06T15:50:25.349Z"
   },
   {
    "duration": 11,
    "start_time": "2022-10-06T15:50:46.576Z"
   },
   {
    "duration": 10,
    "start_time": "2022-10-06T15:50:50.204Z"
   },
   {
    "duration": 10,
    "start_time": "2022-10-06T15:51:15.435Z"
   },
   {
    "duration": 13,
    "start_time": "2022-10-06T15:52:26.656Z"
   },
   {
    "duration": 3,
    "start_time": "2022-10-06T15:52:41.816Z"
   },
   {
    "duration": 3,
    "start_time": "2022-10-06T15:52:44.622Z"
   },
   {
    "duration": 11,
    "start_time": "2022-10-06T15:53:00.278Z"
   },
   {
    "duration": 10,
    "start_time": "2022-10-06T15:53:07.437Z"
   },
   {
    "duration": 7,
    "start_time": "2022-10-06T15:53:23.603Z"
   },
   {
    "duration": 10,
    "start_time": "2022-10-06T15:53:32.989Z"
   },
   {
    "duration": 13,
    "start_time": "2022-10-06T15:54:04.949Z"
   },
   {
    "duration": 13,
    "start_time": "2022-10-06T15:54:09.440Z"
   },
   {
    "duration": 12,
    "start_time": "2022-10-06T15:54:17.489Z"
   },
   {
    "duration": 91,
    "start_time": "2022-10-06T15:54:22.862Z"
   },
   {
    "duration": 15,
    "start_time": "2022-10-06T15:54:22.956Z"
   },
   {
    "duration": 24,
    "start_time": "2022-10-06T15:54:22.972Z"
   },
   {
    "duration": 10,
    "start_time": "2022-10-06T15:54:22.998Z"
   },
   {
    "duration": 36,
    "start_time": "2022-10-06T15:54:23.036Z"
   },
   {
    "duration": 4,
    "start_time": "2022-10-06T15:54:23.074Z"
   },
   {
    "duration": 14,
    "start_time": "2022-10-06T15:54:23.080Z"
   },
   {
    "duration": 7,
    "start_time": "2022-10-06T15:54:23.095Z"
   },
   {
    "duration": 9,
    "start_time": "2022-10-06T15:54:23.103Z"
   },
   {
    "duration": 4,
    "start_time": "2022-10-06T15:54:23.133Z"
   },
   {
    "duration": 35,
    "start_time": "2022-10-06T15:54:23.139Z"
   },
   {
    "duration": 10,
    "start_time": "2022-10-06T15:54:23.176Z"
   },
   {
    "duration": 5,
    "start_time": "2022-10-06T15:54:23.187Z"
   },
   {
    "duration": 15,
    "start_time": "2022-10-06T15:54:23.193Z"
   },
   {
    "duration": 37,
    "start_time": "2022-10-06T15:54:23.210Z"
   },
   {
    "duration": 17,
    "start_time": "2022-10-06T15:54:23.249Z"
   },
   {
    "duration": 3,
    "start_time": "2022-10-06T15:54:23.268Z"
   },
   {
    "duration": 11,
    "start_time": "2022-10-06T15:54:23.273Z"
   },
   {
    "duration": 8,
    "start_time": "2022-10-06T15:54:23.286Z"
   },
   {
    "duration": 4,
    "start_time": "2022-10-06T15:54:23.295Z"
   },
   {
    "duration": 38,
    "start_time": "2022-10-06T15:54:23.301Z"
   },
   {
    "duration": 7,
    "start_time": "2022-10-06T15:54:23.341Z"
   },
   {
    "duration": 10,
    "start_time": "2022-10-06T15:54:23.350Z"
   },
   {
    "duration": 9,
    "start_time": "2022-10-06T15:54:23.361Z"
   },
   {
    "duration": 18,
    "start_time": "2022-10-06T15:54:23.371Z"
   },
   {
    "duration": 11,
    "start_time": "2022-10-06T15:54:23.391Z"
   },
   {
    "duration": 9,
    "start_time": "2022-10-06T15:54:23.434Z"
   },
   {
    "duration": 5,
    "start_time": "2022-10-06T15:54:23.446Z"
   },
   {
    "duration": 137,
    "start_time": "2022-10-06T15:54:23.453Z"
   },
   {
    "duration": 10,
    "start_time": "2022-10-06T15:54:23.592Z"
   },
   {
    "duration": 144,
    "start_time": "2022-10-06T15:54:23.604Z"
   },
   {
    "duration": 11,
    "start_time": "2022-10-06T15:54:23.750Z"
   },
   {
    "duration": 26,
    "start_time": "2022-10-06T15:54:23.762Z"
   },
   {
    "duration": 156,
    "start_time": "2022-10-06T15:54:23.789Z"
   },
   {
    "duration": 5,
    "start_time": "2022-10-06T15:54:23.947Z"
   },
   {
    "duration": 18,
    "start_time": "2022-10-06T15:54:23.954Z"
   },
   {
    "duration": 14,
    "start_time": "2022-10-06T15:54:23.974Z"
   },
   {
    "duration": 16,
    "start_time": "2022-10-06T15:54:23.989Z"
   },
   {
    "duration": 48,
    "start_time": "2022-10-06T15:54:24.006Z"
   },
   {
    "duration": 169,
    "start_time": "2022-10-06T15:54:24.055Z"
   },
   {
    "duration": 28,
    "start_time": "2022-10-06T15:54:24.225Z"
   },
   {
    "duration": 3,
    "start_time": "2022-10-06T15:54:24.255Z"
   },
   {
    "duration": 145,
    "start_time": "2022-10-06T15:54:24.260Z"
   },
   {
    "duration": 7,
    "start_time": "2022-10-06T15:54:24.406Z"
   },
   {
    "duration": 28,
    "start_time": "2022-10-06T15:54:24.415Z"
   },
   {
    "duration": 219,
    "start_time": "2022-10-06T15:54:24.445Z"
   },
   {
    "duration": 5,
    "start_time": "2022-10-06T15:54:24.665Z"
   },
   {
    "duration": 78,
    "start_time": "2022-10-06T15:54:45.247Z"
   },
   {
    "duration": 15,
    "start_time": "2022-10-06T15:54:45.327Z"
   },
   {
    "duration": 19,
    "start_time": "2022-10-06T15:54:45.344Z"
   },
   {
    "duration": 9,
    "start_time": "2022-10-06T15:54:45.365Z"
   },
   {
    "duration": 36,
    "start_time": "2022-10-06T15:54:45.376Z"
   },
   {
    "duration": 22,
    "start_time": "2022-10-06T15:54:45.413Z"
   },
   {
    "duration": 11,
    "start_time": "2022-10-06T15:54:45.436Z"
   },
   {
    "duration": 5,
    "start_time": "2022-10-06T15:54:45.448Z"
   },
   {
    "duration": 8,
    "start_time": "2022-10-06T15:54:45.454Z"
   },
   {
    "duration": 6,
    "start_time": "2022-10-06T15:54:45.465Z"
   },
   {
    "duration": 63,
    "start_time": "2022-10-06T15:54:45.473Z"
   },
   {
    "duration": 10,
    "start_time": "2022-10-06T15:54:45.538Z"
   },
   {
    "duration": 15,
    "start_time": "2022-10-06T15:54:45.549Z"
   },
   {
    "duration": 14,
    "start_time": "2022-10-06T15:54:45.566Z"
   },
   {
    "duration": 25,
    "start_time": "2022-10-06T15:54:45.582Z"
   },
   {
    "duration": 25,
    "start_time": "2022-10-06T15:54:45.608Z"
   },
   {
    "duration": 3,
    "start_time": "2022-10-06T15:54:45.635Z"
   },
   {
    "duration": 14,
    "start_time": "2022-10-06T15:54:45.640Z"
   },
   {
    "duration": 10,
    "start_time": "2022-10-06T15:54:45.655Z"
   },
   {
    "duration": 17,
    "start_time": "2022-10-06T15:54:45.666Z"
   },
   {
    "duration": 23,
    "start_time": "2022-10-06T15:54:45.684Z"
   },
   {
    "duration": 16,
    "start_time": "2022-10-06T15:54:45.708Z"
   },
   {
    "duration": 27,
    "start_time": "2022-10-06T15:54:45.726Z"
   },
   {
    "duration": 19,
    "start_time": "2022-10-06T15:54:45.755Z"
   },
   {
    "duration": 22,
    "start_time": "2022-10-06T15:54:45.776Z"
   },
   {
    "duration": 18,
    "start_time": "2022-10-06T15:54:45.800Z"
   },
   {
    "duration": 12,
    "start_time": "2022-10-06T15:54:45.820Z"
   },
   {
    "duration": 18,
    "start_time": "2022-10-06T15:54:45.835Z"
   },
   {
    "duration": 151,
    "start_time": "2022-10-06T15:54:45.855Z"
   },
   {
    "duration": 10,
    "start_time": "2022-10-06T15:54:46.008Z"
   },
   {
    "duration": 154,
    "start_time": "2022-10-06T15:54:46.020Z"
   },
   {
    "duration": 11,
    "start_time": "2022-10-06T15:54:46.176Z"
   },
   {
    "duration": 45,
    "start_time": "2022-10-06T15:54:46.189Z"
   },
   {
    "duration": 189,
    "start_time": "2022-10-06T15:54:46.236Z"
   },
   {
    "duration": 7,
    "start_time": "2022-10-06T15:54:46.428Z"
   },
   {
    "duration": 39,
    "start_time": "2022-10-06T15:54:46.437Z"
   },
   {
    "duration": 18,
    "start_time": "2022-10-06T15:54:46.478Z"
   },
   {
    "duration": 36,
    "start_time": "2022-10-06T15:54:46.497Z"
   },
   {
    "duration": 49,
    "start_time": "2022-10-06T15:54:46.535Z"
   },
   {
    "duration": 150,
    "start_time": "2022-10-06T15:54:46.586Z"
   },
   {
    "duration": 25,
    "start_time": "2022-10-06T15:54:46.738Z"
   },
   {
    "duration": 10,
    "start_time": "2022-10-06T15:54:46.764Z"
   },
   {
    "duration": 0,
    "start_time": "2022-10-06T15:54:46.776Z"
   },
   {
    "duration": 0,
    "start_time": "2022-10-06T15:54:46.777Z"
   },
   {
    "duration": 0,
    "start_time": "2022-10-06T15:54:46.778Z"
   },
   {
    "duration": 0,
    "start_time": "2022-10-06T15:54:46.779Z"
   },
   {
    "duration": 0,
    "start_time": "2022-10-06T15:54:46.780Z"
   },
   {
    "duration": 74,
    "start_time": "2022-10-06T15:54:58.558Z"
   },
   {
    "duration": 16,
    "start_time": "2022-10-06T15:54:58.634Z"
   },
   {
    "duration": 21,
    "start_time": "2022-10-06T15:54:58.651Z"
   },
   {
    "duration": 9,
    "start_time": "2022-10-06T15:54:58.674Z"
   },
   {
    "duration": 61,
    "start_time": "2022-10-06T15:54:58.684Z"
   },
   {
    "duration": 4,
    "start_time": "2022-10-06T15:54:58.747Z"
   },
   {
    "duration": 12,
    "start_time": "2022-10-06T15:54:58.753Z"
   },
   {
    "duration": 4,
    "start_time": "2022-10-06T15:54:58.767Z"
   },
   {
    "duration": 9,
    "start_time": "2022-10-06T15:54:58.773Z"
   },
   {
    "duration": 14,
    "start_time": "2022-10-06T15:54:58.785Z"
   },
   {
    "duration": 76,
    "start_time": "2022-10-06T15:54:58.801Z"
   },
   {
    "duration": 10,
    "start_time": "2022-10-06T15:54:58.879Z"
   },
   {
    "duration": 6,
    "start_time": "2022-10-06T15:54:58.890Z"
   },
   {
    "duration": 13,
    "start_time": "2022-10-06T15:54:58.897Z"
   },
   {
    "duration": 35,
    "start_time": "2022-10-06T15:54:58.912Z"
   },
   {
    "duration": 17,
    "start_time": "2022-10-06T15:54:58.949Z"
   },
   {
    "duration": 4,
    "start_time": "2022-10-06T15:54:58.968Z"
   },
   {
    "duration": 15,
    "start_time": "2022-10-06T15:54:58.973Z"
   },
   {
    "duration": 9,
    "start_time": "2022-10-06T15:54:58.990Z"
   },
   {
    "duration": 9,
    "start_time": "2022-10-06T15:54:59.001Z"
   },
   {
    "duration": 27,
    "start_time": "2022-10-06T15:54:59.012Z"
   },
   {
    "duration": 8,
    "start_time": "2022-10-06T15:54:59.040Z"
   },
   {
    "duration": 9,
    "start_time": "2022-10-06T15:54:59.050Z"
   },
   {
    "duration": 8,
    "start_time": "2022-10-06T15:54:59.061Z"
   },
   {
    "duration": 17,
    "start_time": "2022-10-06T15:54:59.071Z"
   },
   {
    "duration": 51,
    "start_time": "2022-10-06T15:54:59.090Z"
   },
   {
    "duration": 12,
    "start_time": "2022-10-06T15:54:59.143Z"
   },
   {
    "duration": 7,
    "start_time": "2022-10-06T15:54:59.158Z"
   },
   {
    "duration": 142,
    "start_time": "2022-10-06T15:54:59.167Z"
   },
   {
    "duration": 9,
    "start_time": "2022-10-06T15:54:59.311Z"
   },
   {
    "duration": 135,
    "start_time": "2022-10-06T15:54:59.322Z"
   },
   {
    "duration": 10,
    "start_time": "2022-10-06T15:54:59.459Z"
   },
   {
    "duration": 27,
    "start_time": "2022-10-06T15:54:59.470Z"
   },
   {
    "duration": 157,
    "start_time": "2022-10-06T15:54:59.498Z"
   },
   {
    "duration": 6,
    "start_time": "2022-10-06T15:54:59.657Z"
   },
   {
    "duration": 13,
    "start_time": "2022-10-06T15:54:59.665Z"
   },
   {
    "duration": 14,
    "start_time": "2022-10-06T15:54:59.680Z"
   },
   {
    "duration": 38,
    "start_time": "2022-10-06T15:54:59.696Z"
   },
   {
    "duration": 33,
    "start_time": "2022-10-06T15:54:59.736Z"
   },
   {
    "duration": 170,
    "start_time": "2022-10-06T15:54:59.771Z"
   },
   {
    "duration": 24,
    "start_time": "2022-10-06T15:54:59.944Z"
   },
   {
    "duration": 4,
    "start_time": "2022-10-06T15:54:59.970Z"
   },
   {
    "duration": 135,
    "start_time": "2022-10-06T15:54:59.975Z"
   },
   {
    "duration": 20,
    "start_time": "2022-10-06T15:55:00.112Z"
   },
   {
    "duration": 39,
    "start_time": "2022-10-06T15:55:00.134Z"
   },
   {
    "duration": 140,
    "start_time": "2022-10-06T15:55:00.175Z"
   },
   {
    "duration": 5,
    "start_time": "2022-10-06T15:55:00.316Z"
   },
   {
    "duration": 79,
    "start_time": "2022-10-06T15:57:09.963Z"
   },
   {
    "duration": 25,
    "start_time": "2022-10-06T15:57:10.045Z"
   },
   {
    "duration": 21,
    "start_time": "2022-10-06T15:57:10.072Z"
   },
   {
    "duration": 11,
    "start_time": "2022-10-06T15:57:10.095Z"
   },
   {
    "duration": 60,
    "start_time": "2022-10-06T15:57:10.108Z"
   },
   {
    "duration": 5,
    "start_time": "2022-10-06T15:57:10.171Z"
   },
   {
    "duration": 21,
    "start_time": "2022-10-06T15:57:10.178Z"
   },
   {
    "duration": 11,
    "start_time": "2022-10-06T15:57:10.202Z"
   },
   {
    "duration": 8,
    "start_time": "2022-10-06T15:57:10.233Z"
   },
   {
    "duration": 10,
    "start_time": "2022-10-06T15:57:10.245Z"
   },
   {
    "duration": 67,
    "start_time": "2022-10-06T15:57:10.257Z"
   },
   {
    "duration": 11,
    "start_time": "2022-10-06T15:57:10.326Z"
   },
   {
    "duration": 11,
    "start_time": "2022-10-06T15:57:10.339Z"
   },
   {
    "duration": 23,
    "start_time": "2022-10-06T15:57:10.352Z"
   },
   {
    "duration": 21,
    "start_time": "2022-10-06T15:57:10.378Z"
   },
   {
    "duration": 54,
    "start_time": "2022-10-06T15:57:10.401Z"
   },
   {
    "duration": 5,
    "start_time": "2022-10-06T15:57:10.458Z"
   },
   {
    "duration": 14,
    "start_time": "2022-10-06T15:57:10.464Z"
   },
   {
    "duration": 9,
    "start_time": "2022-10-06T15:57:10.480Z"
   },
   {
    "duration": 4,
    "start_time": "2022-10-06T15:57:10.492Z"
   },
   {
    "duration": 39,
    "start_time": "2022-10-06T15:57:10.498Z"
   },
   {
    "duration": 12,
    "start_time": "2022-10-06T15:57:10.539Z"
   },
   {
    "duration": 12,
    "start_time": "2022-10-06T15:57:10.553Z"
   },
   {
    "duration": 18,
    "start_time": "2022-10-06T15:57:10.568Z"
   },
   {
    "duration": 32,
    "start_time": "2022-10-06T15:57:10.588Z"
   },
   {
    "duration": 16,
    "start_time": "2022-10-06T15:57:10.634Z"
   },
   {
    "duration": 13,
    "start_time": "2022-10-06T15:57:10.653Z"
   },
   {
    "duration": 9,
    "start_time": "2022-10-06T15:57:10.669Z"
   },
   {
    "duration": 159,
    "start_time": "2022-10-06T15:57:10.680Z"
   },
   {
    "duration": 12,
    "start_time": "2022-10-06T15:57:10.841Z"
   },
   {
    "duration": 154,
    "start_time": "2022-10-06T15:57:10.855Z"
   },
   {
    "duration": 23,
    "start_time": "2022-10-06T15:57:11.012Z"
   },
   {
    "duration": 29,
    "start_time": "2022-10-06T15:57:11.037Z"
   },
   {
    "duration": 301,
    "start_time": "2022-10-06T15:57:11.068Z"
   },
   {
    "duration": 7,
    "start_time": "2022-10-06T15:57:11.371Z"
   },
   {
    "duration": 14,
    "start_time": "2022-10-06T15:57:11.380Z"
   },
   {
    "duration": 13,
    "start_time": "2022-10-06T15:57:11.396Z"
   },
   {
    "duration": 51,
    "start_time": "2022-10-06T15:57:11.411Z"
   },
   {
    "duration": 51,
    "start_time": "2022-10-06T15:57:11.465Z"
   },
   {
    "duration": 251,
    "start_time": "2022-10-06T15:57:11.518Z"
   },
   {
    "duration": 38,
    "start_time": "2022-10-06T15:57:11.772Z"
   },
   {
    "duration": 33,
    "start_time": "2022-10-06T15:57:11.812Z"
   },
   {
    "duration": 0,
    "start_time": "2022-10-06T15:57:11.847Z"
   },
   {
    "duration": 0,
    "start_time": "2022-10-06T15:57:11.849Z"
   },
   {
    "duration": 0,
    "start_time": "2022-10-06T15:57:11.850Z"
   },
   {
    "duration": 0,
    "start_time": "2022-10-06T15:57:11.852Z"
   },
   {
    "duration": 0,
    "start_time": "2022-10-06T15:57:11.853Z"
   },
   {
    "duration": 71,
    "start_time": "2022-10-06T15:57:28.625Z"
   },
   {
    "duration": 18,
    "start_time": "2022-10-06T15:57:28.698Z"
   },
   {
    "duration": 27,
    "start_time": "2022-10-06T15:57:28.718Z"
   },
   {
    "duration": 11,
    "start_time": "2022-10-06T15:57:28.747Z"
   },
   {
    "duration": 40,
    "start_time": "2022-10-06T15:57:28.760Z"
   },
   {
    "duration": 34,
    "start_time": "2022-10-06T15:57:28.802Z"
   },
   {
    "duration": 15,
    "start_time": "2022-10-06T15:57:28.837Z"
   },
   {
    "duration": 6,
    "start_time": "2022-10-06T15:57:28.853Z"
   },
   {
    "duration": 9,
    "start_time": "2022-10-06T15:57:28.861Z"
   },
   {
    "duration": 22,
    "start_time": "2022-10-06T15:57:28.873Z"
   },
   {
    "duration": 50,
    "start_time": "2022-10-06T15:57:28.896Z"
   },
   {
    "duration": 10,
    "start_time": "2022-10-06T15:57:28.948Z"
   },
   {
    "duration": 4,
    "start_time": "2022-10-06T15:57:28.959Z"
   },
   {
    "duration": 20,
    "start_time": "2022-10-06T15:57:28.965Z"
   },
   {
    "duration": 23,
    "start_time": "2022-10-06T15:57:28.986Z"
   },
   {
    "duration": 33,
    "start_time": "2022-10-06T15:57:29.010Z"
   },
   {
    "duration": 4,
    "start_time": "2022-10-06T15:57:29.044Z"
   },
   {
    "duration": 12,
    "start_time": "2022-10-06T15:57:29.050Z"
   },
   {
    "duration": 9,
    "start_time": "2022-10-06T15:57:29.064Z"
   },
   {
    "duration": 8,
    "start_time": "2022-10-06T15:57:29.074Z"
   },
   {
    "duration": 10,
    "start_time": "2022-10-06T15:57:29.084Z"
   },
   {
    "duration": 9,
    "start_time": "2022-10-06T15:57:29.096Z"
   },
   {
    "duration": 35,
    "start_time": "2022-10-06T15:57:29.107Z"
   },
   {
    "duration": 8,
    "start_time": "2022-10-06T15:57:29.143Z"
   },
   {
    "duration": 23,
    "start_time": "2022-10-06T15:57:29.153Z"
   },
   {
    "duration": 11,
    "start_time": "2022-10-06T15:57:29.178Z"
   },
   {
    "duration": 9,
    "start_time": "2022-10-06T15:57:29.191Z"
   },
   {
    "duration": 31,
    "start_time": "2022-10-06T15:57:29.204Z"
   },
   {
    "duration": 140,
    "start_time": "2022-10-06T15:57:29.237Z"
   },
   {
    "duration": 10,
    "start_time": "2022-10-06T15:57:29.378Z"
   },
   {
    "duration": 133,
    "start_time": "2022-10-06T15:57:29.390Z"
   },
   {
    "duration": 16,
    "start_time": "2022-10-06T15:57:29.525Z"
   },
   {
    "duration": 24,
    "start_time": "2022-10-06T15:57:29.542Z"
   },
   {
    "duration": 169,
    "start_time": "2022-10-06T15:57:29.568Z"
   },
   {
    "duration": 5,
    "start_time": "2022-10-06T15:57:29.739Z"
   },
   {
    "duration": 13,
    "start_time": "2022-10-06T15:57:29.746Z"
   },
   {
    "duration": 8,
    "start_time": "2022-10-06T15:57:29.763Z"
   },
   {
    "duration": 32,
    "start_time": "2022-10-06T15:57:29.774Z"
   },
   {
    "duration": 56,
    "start_time": "2022-10-06T15:57:29.808Z"
   },
   {
    "duration": 162,
    "start_time": "2022-10-06T15:57:29.866Z"
   },
   {
    "duration": 24,
    "start_time": "2022-10-06T15:57:30.034Z"
   },
   {
    "duration": 5,
    "start_time": "2022-10-06T15:57:30.061Z"
   },
   {
    "duration": 190,
    "start_time": "2022-10-06T15:57:30.068Z"
   },
   {
    "duration": 6,
    "start_time": "2022-10-06T15:57:30.260Z"
   },
   {
    "duration": 43,
    "start_time": "2022-10-06T15:57:30.268Z"
   },
   {
    "duration": 154,
    "start_time": "2022-10-06T15:57:30.314Z"
   },
   {
    "duration": 5,
    "start_time": "2022-10-06T15:57:30.470Z"
   },
   {
    "duration": 17,
    "start_time": "2022-10-06T16:01:38.337Z"
   },
   {
    "duration": 56,
    "start_time": "2022-10-06T16:06:21.013Z"
   },
   {
    "duration": 51,
    "start_time": "2022-10-06T16:06:28.171Z"
   },
   {
    "duration": 25,
    "start_time": "2022-10-06T16:06:42.598Z"
   },
   {
    "duration": 27,
    "start_time": "2022-10-06T16:07:06.690Z"
   },
   {
    "duration": 134,
    "start_time": "2022-10-06T16:07:51.656Z"
   },
   {
    "duration": 130,
    "start_time": "2022-10-06T16:08:03.401Z"
   },
   {
    "duration": 157,
    "start_time": "2022-10-06T16:08:08.631Z"
   },
   {
    "duration": 128,
    "start_time": "2022-10-06T16:08:29.302Z"
   },
   {
    "duration": 134,
    "start_time": "2022-10-06T16:08:57.989Z"
   }
  ],
  "colab": {
   "name": "dpp_template_part2.ipynb",
   "provenance": []
  },
  "kernelspec": {
   "display_name": "Python 3 (ipykernel)",
   "language": "python",
   "name": "python3"
  },
  "language_info": {
   "codemirror_mode": {
    "name": "ipython",
    "version": 3
   },
   "file_extension": ".py",
   "mimetype": "text/x-python",
   "name": "python",
   "nbconvert_exporter": "python",
   "pygments_lexer": "ipython3",
   "version": "3.9.13"
  },
  "toc": {
   "base_numbering": 1,
   "nav_menu": {},
   "number_sections": true,
   "sideBar": true,
   "skip_h1_title": true,
   "title_cell": "Table of Contents",
   "title_sidebar": "Contents",
   "toc_cell": false,
   "toc_position": {
    "height": "calc(100% - 180px)",
    "left": "10px",
    "top": "150px",
    "width": "384px"
   },
   "toc_section_display": true,
   "toc_window_display": true
  }
 },
 "nbformat": 4,
 "nbformat_minor": 5
}
